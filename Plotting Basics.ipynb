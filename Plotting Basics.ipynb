{
 "cells": [
  {
   "cell_type": "code",
   "execution_count": 1,
   "metadata": {},
   "outputs": [],
   "source": [
    "import matplotlib.pyplot as plt\n",
    "import numpy as np\n",
    "import pandas as pd "
   ]
  },
  {
   "cell_type": "markdown",
   "metadata": {},
   "source": [
    "For this plotting assignment, I used data from Goodreads on the ratings of books. This data included information on the title and author of the book, as well as average rating, number of ratings, and number of reviews."
   ]
  },
  {
   "cell_type": "code",
   "execution_count": 22,
   "metadata": {},
   "outputs": [
    {
     "name": "stdout",
     "output_type": "stream",
     "text": [
      "       bookID                                              title  \\\n",
      "0           1  Harry Potter and the Half-Blood Prince (Harry ...   \n",
      "1           2  Harry Potter and the Order of the Phoenix (Har...   \n",
      "2           3  Harry Potter and the Sorcerer's Stone (Harry P...   \n",
      "3           4  Harry Potter and the Chamber of Secrets (Harry...   \n",
      "4           5  Harry Potter and the Prisoner of Azkaban (Harr...   \n",
      "5           8  Harry Potter Boxed Set  Books 1-5 (Harry Potte...   \n",
      "6           9  Unauthorized Harry Potter Book Seven News: \"Ha...   \n",
      "7          10       Harry Potter Collection (Harry Potter  #1-6)   \n",
      "8          12  The Ultimate Hitchhiker's Guide: Five Complete...   \n",
      "9          13      The Ultimate Hitchhiker's Guide to the Galaxy   \n",
      "10         14  The Hitchhiker's Guide to the Galaxy (Hitchhik...   \n",
      "11         16  The Hitchhiker's Guide to the Galaxy (Hitchhik...   \n",
      "12         18  The Ultimate Hitchhiker's Guide (Hitchhiker's ...   \n",
      "13         21               A Short History of Nearly Everything   \n",
      "14         22                        Bill Bryson's African Diary   \n",
      "15         23  Bryson's Dictionary of Troublesome Words: A Wr...   \n",
      "16         24                             In a Sunburned Country   \n",
      "17         25  I'm a Stranger Here Myself: Notes on Returning...   \n",
      "18         26  The Lost Continent: Travels in Small Town America   \n",
      "19         27          Neither Here nor There: Travels in Europe   \n",
      "20         28                          Notes from a Small Island   \n",
      "21         29  The Mother Tongue: English and How It Got That...   \n",
      "22         30  J.R.R. Tolkien 4-Book Boxed Set: The Hobbit an...   \n",
      "23         31  The Lord of the Rings (The Lord of the Rings  ...   \n",
      "24         32  The Lord of the Rings (The Lord of the Rings  ...   \n",
      "25         34  The Fellowship of the Ring (The Lord of the Ri...   \n",
      "26         35  The Lord of the Rings (The Lord of the Rings  ...   \n",
      "27         36         The Lord of the Rings: Weapons and Warfare   \n",
      "28         37   The Lord of the Rings: Complete Visual Companion   \n",
      "29         38                      The Lord of the Rings Box Set   \n",
      "...       ...                                                ...   \n",
      "13684   47626                                   Shade's Children   \n",
      "13685   47627                Into Battle (The Seventh Tower  #5)   \n",
      "13686   47629                              Lirael (Abhorsen  #2)   \n",
      "13687   47630          Serena and the Sea Serpent (Aussie Bites)   \n",
      "13688   47631  The Abhorsen Trilogy (The Abhorsen Trilogy  #1-3)   \n",
      "13689   47632  Born in Blood and Fire: A Concise History of L...   \n",
      "13690   47633                                  The Teahouse Fire   \n",
      "13691   47642                     Castle (The Seventh Tower  #2)   \n",
      "13692   47643        The Seventh Tower (The Seventh Tower  #1-3)   \n",
      "13693   47644  Lirael: Daughter of the Clayr (The Abhorsen Tr...   \n",
      "13694   47645                              Lirael (Abhorsen  #2)   \n",
      "13695   47648  Abhorsen: La novena puerta (The Abhorsen Trilo...   \n",
      "13696   47649                                        Point Clear   \n",
      "13697   47658  Lake Forest: Estates  People and Culture (Imag...   \n",
      "13698   47660                                             Rebeca   \n",
      "13699   47666                            Abhorsen (Abhorsen  #3)   \n",
      "13700   47667                                             Seeing   \n",
      "13701   47668                            Ensayo sobre la ceguera   \n",
      "13702   47674                   Papa  Please Get the Moon for Me   \n",
      "13703   47683                                The Cinderella Pact   \n",
      "13704   47687  Peace Pact: The Lost World of the American Fou...   \n",
      "13705   47692                                      American Gods   \n",
      "13706   47693          The Day I Swapped My Dad for Two Goldfish   \n",
      "13707   47695                                Harlequin Valentine   \n",
      "13708   47697                        The Sandman: King of Dreams   \n",
      "13709   47699                                     M Is for Magic   \n",
      "13710   47700                                       Black Orchid   \n",
      "13711   47701                        InterWorld (InterWorld  #1)   \n",
      "13712   47708                                The Faeries' Oracle   \n",
      "13713   47709                      The World of The Dark Crystal   \n",
      "\n",
      "                                             authors  average_rating  \\\n",
      "0                         J.K. Rowling-Mary GrandPré            4.56   \n",
      "1                         J.K. Rowling-Mary GrandPré            4.49   \n",
      "2                         J.K. Rowling-Mary GrandPré            4.47   \n",
      "3                                       J.K. Rowling            4.41   \n",
      "4                         J.K. Rowling-Mary GrandPré            4.55   \n",
      "5                         J.K. Rowling-Mary GrandPré            4.78   \n",
      "6                             W. Frederick Zimmerman            3.69   \n",
      "7                                       J.K. Rowling            4.73   \n",
      "8                                      Douglas Adams            4.38   \n",
      "9                                      Douglas Adams            4.38   \n",
      "10                                     Douglas Adams            4.22   \n",
      "11                         Douglas Adams-Stephen Fry            4.22   \n",
      "12                                     Douglas Adams            4.38   \n",
      "13                       Bill Bryson-William Roberts            4.20   \n",
      "14                                       Bill Bryson            3.43   \n",
      "15                                       Bill Bryson            3.88   \n",
      "16                                       Bill Bryson            4.07   \n",
      "17                                       Bill Bryson            3.90   \n",
      "18                                       Bill Bryson            3.83   \n",
      "19                                       Bill Bryson            3.87   \n",
      "20                                       Bill Bryson            3.92   \n",
      "21                                       Bill Bryson            3.94   \n",
      "22                                    J.R.R. Tolkien            4.59   \n",
      "23                                    J.R.R. Tolkien            4.49   \n",
      "24                                    J.R.R. Tolkien            4.49   \n",
      "25                                    J.R.R. Tolkien            4.35   \n",
      "26                          J.R.R. Tolkien-Alan  Lee            4.49   \n",
      "27     Chris   Smith-Christopher  Lee-Richard Taylor            4.53   \n",
      "28                                       Jude Fisher            4.50   \n",
      "29                                    J.R.R. Tolkien            4.49   \n",
      "...                                              ...             ...   \n",
      "13684                                      Garth Nix            3.90   \n",
      "13685                       Garth Nix-Steve Rawlings            3.93   \n",
      "13686                                      Garth Nix            4.30   \n",
      "13687                 Garth Nix-Stephen Michael King            3.59   \n",
      "13688                                      Garth Nix            4.66   \n",
      "13689                          John Charles Chasteen            3.89   \n",
      "13690                                    Ellis Avery            3.49   \n",
      "13691                       Garth Nix-Steve Rawlings            3.87   \n",
      "13692                                      Garth Nix            4.12   \n",
      "13693                            Garth Nix-Tim Curry            4.30   \n",
      "13694                                      Garth Nix            4.30   \n",
      "13695                                      Garth Nix            4.27   \n",
      "13696                               Jennifer Paddock            3.14   \n",
      "13697            Arthur H. Miller-Shirley M. Paddock            3.33   \n",
      "13698                              Daphne du Maurier            4.22   \n",
      "13699                                      Garth Nix            4.27   \n",
      "13700              José Saramago-Margaret Jull Costa            3.79   \n",
      "13701                                  José Saramago            4.11   \n",
      "13702                                     Eric Carle            4.15   \n",
      "13703               Sarah Strohmeyer-Katarína Repatá            3.71   \n",
      "13704                           David C. Hendrickson            3.30   \n",
      "13705                                    Neil Gaiman            4.11   \n",
      "13706                        Neil Gaiman-Dave McKean            4.03   \n",
      "13707                        Neil Gaiman-John Bolton            3.79   \n",
      "13708                      Alisa Kwitney-Neil Gaiman            4.62   \n",
      "13709                  Neil Gaiman-Teddy Kristiansen            3.82   \n",
      "13710                        Neil Gaiman-Dave McKean            3.72   \n",
      "13711                     Neil Gaiman-Michael Reaves            3.53   \n",
      "13712                    Brian Froud-Jessica Macbeth            4.43   \n",
      "13713                                    Brian Froud            4.29   \n",
      "\n",
      "             isbn        isbn13 language_code  # num_pages  ratings_count  \\\n",
      "0       439785960  9.780000e+12           eng          652        1944099   \n",
      "1       439358078  9.780000e+12           eng          870        1996446   \n",
      "2       439554934  9.780000e+12           eng          320        5629932   \n",
      "3       439554896  9.780000e+12           eng          352           6267   \n",
      "4      043965548X  9.780000e+12           eng          435        2149872   \n",
      "5       439682584  9.780000e+12           eng         2690          38872   \n",
      "6       976540606  9.780000e+12         en-US          152             18   \n",
      "7       439827604  9.780000e+12           eng         3342          27410   \n",
      "8       517226952  9.780000e+12           eng          815           3602   \n",
      "9       345453743  9.780000e+12           eng          815         240189   \n",
      "10     1400052920  9.780000e+12           eng          215           4416   \n",
      "11      739322206  9.780000e+12           eng            6           1222   \n",
      "12      517149257  9.780000e+12         en-US          815           2801   \n",
      "13     076790818X  9.780000e+12           eng          544         228522   \n",
      "14      767915062  9.780000e+12           eng           55           6993   \n",
      "15      767910435  9.780000e+12           eng          256           2020   \n",
      "16      767903862  9.780000e+12           eng          335          68213   \n",
      "17     076790382X  9.780000e+12           eng          304          47490   \n",
      "18       60920084  9.780000e+12         en-US          299          43779   \n",
      "19      380713802  9.780000e+12           eng          254          46397   \n",
      "20      380727501  9.780000e+12           eng          324          76476   \n",
      "21      380715430  9.780000e+12           eng          270          26672   \n",
      "22      345538374  9.780000e+12           eng         1728          97731   \n",
      "23      618517650  9.780000e+12           eng         1184           1670   \n",
      "24      618346244  9.780000e+12           eng         1137           2819   \n",
      "25      618346252  9.780000e+12           eng          398        2009749   \n",
      "26      618260587  9.780000e+12         en-US         1216           1606   \n",
      "27      618391002  9.780000e+12           eng          218          18934   \n",
      "28      618510826  9.780000e+12           eng          224            343   \n",
      "29      618153977  9.780000e+12           eng         1223            216   \n",
      "...           ...           ...           ...          ...            ...   \n",
      "13684    64471969  9.780000e+12           eng          345          10368   \n",
      "13685   439176867  9.780000e+12         en-GB          208           4887   \n",
      "13686     7137338  9.780000e+12         en-GB          527           1339   \n",
      "13687   141309407  9.780000e+12           eng           79             33   \n",
      "13688   739432176  9.780000e+12           eng          777             89   \n",
      "13689   393927695  9.780000e+12           eng          372           1089   \n",
      "13690  1594489300  9.780000e+12         en-US          391           2791   \n",
      "13691   439176832  9.780000e+12           eng          215           5656   \n",
      "13692   439485878  9.780000e+12         en-US          649             61   \n",
      "13693   807205583  9.780000e+12           eng           15             23   \n",
      "13694    60005424  9.780000e+12         en-CA          705           3325   \n",
      "13695  8478715088  9.790000e+12           spa          315             13   \n",
      "13696   743287827  9.780000e+12           eng          240            179   \n",
      "13697   738507938  9.780000e+12           eng          128              2   \n",
      "13698  840146272X  9.790000e+12           spa          544             67   \n",
      "13699     7137354  9.780000e+12         en-GB          396           1830   \n",
      "13700   156032732  9.780000e+12           eng          307           8480   \n",
      "13701  9707311150  9.790000e+12           spa          329          10296   \n",
      "13702   887081770  9.780000e+12           eng           40           4359   \n",
      "13703   525949577  9.780000e+12           eng          304          10322   \n",
      "13704   700614931  9.780000e+12           eng          402             21   \n",
      "13705  1594970998  9.780000e+12           spa          477             58   \n",
      "13706    60587016  9.780000e+12         en-US           64           8744   \n",
      "13707  1840234113  9.780000e+12           eng           40           2441   \n",
      "13708   811835928  9.780000e+12           eng          180          12775   \n",
      "13709    61186422  9.780000e+12           eng          260          11317   \n",
      "13710   930289552  9.780000e+12           eng          160           8710   \n",
      "13711    61238961  9.780000e+12         en-US          239          14334   \n",
      "13712   743201116  9.780000e+12           eng          224           1550   \n",
      "13713  1862056242  9.780000e+12           eng          132           3572   \n",
      "\n",
      "       text_reviews_count  \n",
      "0                   26249  \n",
      "1                   27613  \n",
      "2                   70390  \n",
      "3                     272  \n",
      "4                   33964  \n",
      "5                     154  \n",
      "6                       1  \n",
      "7                     820  \n",
      "8                     258  \n",
      "9                    3954  \n",
      "10                    408  \n",
      "11                    253  \n",
      "12                    192  \n",
      "13                   8840  \n",
      "14                    470  \n",
      "15                    124  \n",
      "16                   4077  \n",
      "17                   2153  \n",
      "18                   2146  \n",
      "19                   2127  \n",
      "20                   3159  \n",
      "21                   1986  \n",
      "22                   1536  \n",
      "23                     91  \n",
      "24                    139  \n",
      "25                  12784  \n",
      "26                    139  \n",
      "27                     43  \n",
      "28                      6  \n",
      "29                     19  \n",
      "...                   ...  \n",
      "13684                 459  \n",
      "13685                  43  \n",
      "13686                 122  \n",
      "13687                   5  \n",
      "13688                   8  \n",
      "13689                  74  \n",
      "13690                 372  \n",
      "13691                  81  \n",
      "13692                   2  \n",
      "13693                   3  \n",
      "13694                 351  \n",
      "13695                   2  \n",
      "13696                  32  \n",
      "13697                   0  \n",
      "13698                   8  \n",
      "13699                 156  \n",
      "13700                 625  \n",
      "13701                 686  \n",
      "13702                 209  \n",
      "13703                 616  \n",
      "13704                   0  \n",
      "13705                   6  \n",
      "13706                 524  \n",
      "13707                  68  \n",
      "13708                  34  \n",
      "13709                1060  \n",
      "13710                 361  \n",
      "13711                1485  \n",
      "13712                  38  \n",
      "13713                  33  \n",
      "\n",
      "[13714 rows x 10 columns]\n"
     ]
    }
   ],
   "source": [
    "df = pd.read_csv('books.csv')\n",
    "print(df)"
   ]
  },
  {
   "cell_type": "code",
   "execution_count": 28,
   "metadata": {},
   "outputs": [
    {
     "data": {
      "image/png": "[encoded data removed]",
      "text/plain": [
       "<Figure size 432x288 with 1 Axes>"
      ]
     },
     "metadata": {
      "needs_background": "light"
     },
     "output_type": "display_data"
    },
    {
     "name": "stdout",
     "output_type": "stream",
     "text": [
      "Median =  630.5\n"
     ]
    }
   ],
   "source": [
    "plt.boxplot(df['ratings_count'])\n",
    "plt.show()\n",
    "print('Median = ', np.median(df['ratings_count']))"
   ]
  },
  {
   "cell_type": "markdown",
   "metadata": {},
   "source": [
    "First, I created a boxplot of the number of ratings for each book. While the median number of ratings is only 630.5, there are many outliers that have many more reviews, meaning that the majority of the boxplot is not very visible."
   ]
  },
  {
   "cell_type": "code",
   "execution_count": 29,
   "metadata": {},
   "outputs": [
    {
     "data": {
      "image/png": "[encoded data removed]",
      "text/plain": [
       "<Figure size 432x288 with 1 Axes>"
      ]
     },
     "metadata": {
      "needs_background": "light"
     },
     "output_type": "display_data"
    },
    {
     "name": "stdout",
     "output_type": "stream",
     "text": [
      "Median =  3.96\n"
     ]
    }
   ],
   "source": [
    "plt.boxplot(df['average_rating'])\n",
    "plt.show()\n",
    "print('Median = ', np.median(df['average_rating']))"
   ]
  },
  {
   "cell_type": "markdown",
   "metadata": {},
   "source": [
    "Next, I created a boxplot showing the average rating of the books. The median book rating was 3.96, and it is evident from the boxplot that most of the ratings fall somewhere around 4 stars. Books that are rated above ~4.7 stars or below 3 stars are considered outliers."
   ]
  },
  {
   "cell_type": "code",
   "execution_count": 33,
   "metadata": {},
   "outputs": [
    {
     "data": {
      "image/png": "[encoded data removed]",
      "text/plain": [
       "<Figure size 432x288 with 1 Axes>"
      ]
     },
     "metadata": {
      "needs_background": "light"
     },
     "output_type": "display_data"
    }
   ],
   "source": [
    "plt.hist(df['average_rating'], bins = 20, color = 'purple')\n",
    "plt.show()"
   ]
  },
  {
   "cell_type": "markdown",
   "metadata": {},
   "source": [
    "Next, I looked at the average ratings in a histogram with 20 bins. Again, from this chart, it is clear that the majority of ratings fall between 3.75 and 4.25. From this chart, it appears that there are very few books that are rated between 0.25 and 2, but there is a segment of books rated between 0 and 0.25."
   ]
  },
  {
   "cell_type": "code",
   "execution_count": 44,
   "metadata": {},
   "outputs": [
    {
     "data": {
      "image/png": "[encoded data removed]",
      "text/plain": [
       "<Figure size 432x288 with 1 Axes>"
      ]
     },
     "metadata": {
      "needs_background": "light"
     },
     "output_type": "display_data"
    }
   ],
   "source": [
    "plt.plot(df['ratings_count'])\n",
    "plt.ylabel('Ratings Count')\n",
    "plt.show()"
   ]
  },
  {
   "cell_type": "markdown",
   "metadata": {},
   "source": [
    "Next, I wanted to look at the ratings counts by book ID to see if books that were added earlier on had higher ratings counts. This chart shows a large spike at 0, and then pretty regular spikes from 0 to 12,0000, where there is another large spike. Further investigation could identify what that large spike is."
   ]
  },
  {
   "cell_type": "code",
   "execution_count": 36,
   "metadata": {},
   "outputs": [
    {
     "data": {
      "image/png": "[encoded data removed]",
      "text/plain": [
       "<Figure size 720x360 with 2 Axes>"
      ]
     },
     "metadata": {
      "needs_background": "light"
     },
     "output_type": "display_data"
    }
   ],
   "source": [
    "plt.figure(figsize=(10, 5))\n",
    "\n",
    "plt.subplot(1, 2, 1)\n",
    "plt.scatter(x=df['ratings_count'], y=df['average_rating'], color = 'orange')\n",
    "plt.ylabel('Average Rating')\n",
    "plt.xlabel('Ratings Count')\n",
    "plt.title('Average Rating vs Ratings Count')\n",
    "\n",
    "plt.subplot(1, 2, 2)\n",
    "plt.scatter(x=df['text_reviews_count'], y=df['average_rating'], color = 'green')\n",
    "plt.ylabel('Average Rating')\n",
    "plt.xlabel('Text Reviews Count')\n",
    "plt.title('Average Rating vs Text Reviews Count')\n",
    "plt.show()"
   ]
  },
  {
   "cell_type": "markdown",
   "metadata": {},
   "source": [
    "Finally, I looked at scatter plots of Average Rating vs both Ratings Count and Text Reviews Count to see whether there were any differences in books that had more ratings and books that had more text reviews. Overall, as expected, the general shapes of these charts were very similar, although the values for Ratings count were much larger than the values of Text Reviews Count."
   ]
  }
 ],
 "metadata": {
  "kernelspec": {
   "display_name": "Python 3",
   "language": "python",
   "name": "python3"
  },
  "language_info": {
   "codemirror_mode": {
    "name": "ipython",
    "version": 3
   },
   "file_extension": ".py",
   "mimetype": "text/x-python",
   "name": "python",
   "nbconvert_exporter": "python",
   "pygments_lexer": "ipython3",
   "version": "3.7.3"
  }
 },
 "nbformat": 4,
 "nbformat_minor": 2
}
