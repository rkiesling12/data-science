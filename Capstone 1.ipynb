{
 "cells": [
  {
   "cell_type": "markdown",
   "metadata": {},
   "source": [
    "# Rent the Runway Data Exploration\n",
    "\n",
    "## Data Overview\n",
    "\n",
    "For this project, I will be analyzing data from Rent the Runway. Rent the Runway is a clothing rental service that allows women to rent designer items at a fraction of their cost. Rent the Runway provides two types of plans: Rent the Runway Reserve, which allows women to rent items for a one-time special occasion, and Rent the Runway Unlimited, which allows women to rent unlimited pieces on rotation. \n",
    "\n",
    "This dataset includes information from 192,544 reviews of items on Rent the Runway. It includes information on the customer's age, body type, bust size, height, and weight. Information about the category of item, the size of item rented, and what purpose the item was rented for are included as well. Finally, customer feedback about the item is included. There is information on the customer rating, customer review summary and full text, feedback on whether the item fit/was too small/was too large, and the date that the customer reviewed the item. \n",
    "\n",
    "When analyzing this data, we will assume that customers who have reviewed items are representative of RTR customers as a whole."
   ]
  },
  {
   "cell_type": "code",
   "execution_count": 3,
   "metadata": {},
   "outputs": [],
   "source": [
    "import pandas as pd\n",
    "import numpy as np\n",
    "import matplotlib.pyplot as plt\n",
    "%matplotlib inline"
   ]
  },
  {
   "cell_type": "code",
   "execution_count": 117,
   "metadata": {},
   "outputs": [
    {
     "data": {
      "text/html": [
       "<div>\n",
       "<style scoped>\n",
       "    .dataframe tbody tr th:only-of-type {\n",
       "        vertical-align: middle;\n",
       "    }\n",
       "\n",
       "    .dataframe tbody tr th {\n",
       "        vertical-align: top;\n",
       "    }\n",
       "\n",
       "    .dataframe thead th {\n",
       "        text-align: right;\n",
       "    }\n",
       "</style>\n",
       "<table border=\"1\" class=\"dataframe\">\n",
       "  <thead>\n",
       "    <tr style=\"text-align: right;\">\n",
       "      <th></th>\n",
       "      <th>age</th>\n",
       "      <th>body type</th>\n",
       "      <th>bust size</th>\n",
       "      <th>category</th>\n",
       "      <th>fit</th>\n",
       "      <th>height</th>\n",
       "      <th>item_id</th>\n",
       "      <th>rating</th>\n",
       "      <th>rented for</th>\n",
       "      <th>review_date</th>\n",
       "      <th>review_summary</th>\n",
       "      <th>review_text</th>\n",
       "      <th>size</th>\n",
       "      <th>user_id</th>\n",
       "      <th>weight</th>\n",
       "    </tr>\n",
       "  </thead>\n",
       "  <tbody>\n",
       "    <tr>\n",
       "      <th>0</th>\n",
       "      <td>28.0</td>\n",
       "      <td>hourglass</td>\n",
       "      <td>34d</td>\n",
       "      <td>romper</td>\n",
       "      <td>fit</td>\n",
       "      <td>5' 8\"</td>\n",
       "      <td>2260466</td>\n",
       "      <td>10.0</td>\n",
       "      <td>vacation</td>\n",
       "      <td>April 20, 2016</td>\n",
       "      <td>So many compliments!</td>\n",
       "      <td>An adorable romper! Belt and zipper were a lit...</td>\n",
       "      <td>14</td>\n",
       "      <td>420272</td>\n",
       "      <td>137lbs</td>\n",
       "    </tr>\n",
       "    <tr>\n",
       "      <th>1</th>\n",
       "      <td>36.0</td>\n",
       "      <td>straight &amp; narrow</td>\n",
       "      <td>34b</td>\n",
       "      <td>gown</td>\n",
       "      <td>fit</td>\n",
       "      <td>5' 6\"</td>\n",
       "      <td>153475</td>\n",
       "      <td>10.0</td>\n",
       "      <td>other</td>\n",
       "      <td>June 18, 2013</td>\n",
       "      <td>I felt so glamourous!!!</td>\n",
       "      <td>I rented this dress for a photo shoot. The the...</td>\n",
       "      <td>12</td>\n",
       "      <td>273551</td>\n",
       "      <td>132lbs</td>\n",
       "    </tr>\n",
       "    <tr>\n",
       "      <th>2</th>\n",
       "      <td>116.0</td>\n",
       "      <td>NaN</td>\n",
       "      <td>NaN</td>\n",
       "      <td>sheath</td>\n",
       "      <td>fit</td>\n",
       "      <td>5' 4\"</td>\n",
       "      <td>1063761</td>\n",
       "      <td>10.0</td>\n",
       "      <td>party</td>\n",
       "      <td>December 14, 2015</td>\n",
       "      <td>It was a great time to celebrate the (almost) ...</td>\n",
       "      <td>This hugged in all the right places! It was a ...</td>\n",
       "      <td>4</td>\n",
       "      <td>360448</td>\n",
       "      <td>NaN</td>\n",
       "    </tr>\n",
       "    <tr>\n",
       "      <th>3</th>\n",
       "      <td>34.0</td>\n",
       "      <td>pear</td>\n",
       "      <td>34c</td>\n",
       "      <td>dress</td>\n",
       "      <td>fit</td>\n",
       "      <td>5' 5\"</td>\n",
       "      <td>126335</td>\n",
       "      <td>8.0</td>\n",
       "      <td>formal affair</td>\n",
       "      <td>February 12, 2014</td>\n",
       "      <td>Dress arrived on time and in perfect condition.</td>\n",
       "      <td>I rented this for my company's black tie award...</td>\n",
       "      <td>8</td>\n",
       "      <td>909926</td>\n",
       "      <td>135lbs</td>\n",
       "    </tr>\n",
       "    <tr>\n",
       "      <th>4</th>\n",
       "      <td>27.0</td>\n",
       "      <td>athletic</td>\n",
       "      <td>34b</td>\n",
       "      <td>gown</td>\n",
       "      <td>fit</td>\n",
       "      <td>5' 9\"</td>\n",
       "      <td>616682</td>\n",
       "      <td>10.0</td>\n",
       "      <td>wedding</td>\n",
       "      <td>September 26, 2016</td>\n",
       "      <td>Was in love with this dress !!!</td>\n",
       "      <td>I have always been petite in my upper body and...</td>\n",
       "      <td>12</td>\n",
       "      <td>151944</td>\n",
       "      <td>145lbs</td>\n",
       "    </tr>\n",
       "    <tr>\n",
       "      <th>5</th>\n",
       "      <td>45.0</td>\n",
       "      <td>athletic</td>\n",
       "      <td>32b</td>\n",
       "      <td>dress</td>\n",
       "      <td>fit</td>\n",
       "      <td>5' 8\"</td>\n",
       "      <td>364092</td>\n",
       "      <td>8.0</td>\n",
       "      <td>date</td>\n",
       "      <td>April 30, 2016</td>\n",
       "      <td>Traditional with a touch a sass</td>\n",
       "      <td>Didn't actually wear it. It fit perfectly. The...</td>\n",
       "      <td>8</td>\n",
       "      <td>734848</td>\n",
       "      <td>138lbs</td>\n",
       "    </tr>\n",
       "    <tr>\n",
       "      <th>6</th>\n",
       "      <td>27.0</td>\n",
       "      <td>hourglass</td>\n",
       "      <td>34c</td>\n",
       "      <td>dress</td>\n",
       "      <td>fit</td>\n",
       "      <td>5' 3\"</td>\n",
       "      <td>568429</td>\n",
       "      <td>10.0</td>\n",
       "      <td>everyday</td>\n",
       "      <td>December 7, 2017</td>\n",
       "      <td>LITERALLY THE CUTEST DRESS EVER</td>\n",
       "      <td>This dress is so sweet. I loved the print. The...</td>\n",
       "      <td>4</td>\n",
       "      <td>336066</td>\n",
       "      <td>112lbs</td>\n",
       "    </tr>\n",
       "    <tr>\n",
       "      <th>7</th>\n",
       "      <td>65.0</td>\n",
       "      <td>full bust</td>\n",
       "      <td>34d+</td>\n",
       "      <td>dress</td>\n",
       "      <td>fit</td>\n",
       "      <td>5' 3\"</td>\n",
       "      <td>130259</td>\n",
       "      <td>10.0</td>\n",
       "      <td>formal affair</td>\n",
       "      <td>January 1, 2013</td>\n",
       "      <td>Great dress, beautifully made.  I received lot...</td>\n",
       "      <td>Fit was great. Maybe a little tight under the ...</td>\n",
       "      <td>8</td>\n",
       "      <td>86661</td>\n",
       "      <td>118lbs</td>\n",
       "    </tr>\n",
       "    <tr>\n",
       "      <th>8</th>\n",
       "      <td>27.0</td>\n",
       "      <td>full bust</td>\n",
       "      <td>36d</td>\n",
       "      <td>gown</td>\n",
       "      <td>fit</td>\n",
       "      <td>5' 6\"</td>\n",
       "      <td>1729232</td>\n",
       "      <td>10.0</td>\n",
       "      <td>formal affair</td>\n",
       "      <td>June 27, 2016</td>\n",
       "      <td>Great for black tie event!</td>\n",
       "      <td>I was nervous of it looking cheap when it arri...</td>\n",
       "      <td>21</td>\n",
       "      <td>166228</td>\n",
       "      <td>NaN</td>\n",
       "    </tr>\n",
       "    <tr>\n",
       "      <th>9</th>\n",
       "      <td>33.0</td>\n",
       "      <td>petite</td>\n",
       "      <td>32b</td>\n",
       "      <td>gown</td>\n",
       "      <td>fit</td>\n",
       "      <td>5' 3\"</td>\n",
       "      <td>1729232</td>\n",
       "      <td>10.0</td>\n",
       "      <td>formal affair</td>\n",
       "      <td>October 17, 2016</td>\n",
       "      <td>This dress was everything! It was perfect for ...</td>\n",
       "      <td>The dress was very flattering and fit perfectl...</td>\n",
       "      <td>1</td>\n",
       "      <td>154309</td>\n",
       "      <td>114lbs</td>\n",
       "    </tr>\n",
       "    <tr>\n",
       "      <th>10</th>\n",
       "      <td>33.0</td>\n",
       "      <td>athletic</td>\n",
       "      <td>34b</td>\n",
       "      <td>dress</td>\n",
       "      <td>small</td>\n",
       "      <td>5' 3\"</td>\n",
       "      <td>1077123</td>\n",
       "      <td>8.0</td>\n",
       "      <td>party</td>\n",
       "      <td>January 2, 2018</td>\n",
       "      <td>It was fun to wear a dress I wouldn't normally...</td>\n",
       "      <td>The dress arrived with a small hole in the bea...</td>\n",
       "      <td>12</td>\n",
       "      <td>185966</td>\n",
       "      <td>135lbs</td>\n",
       "    </tr>\n",
       "    <tr>\n",
       "      <th>11</th>\n",
       "      <td>30.0</td>\n",
       "      <td>pear</td>\n",
       "      <td>34b</td>\n",
       "      <td>dress</td>\n",
       "      <td>large</td>\n",
       "      <td>5' 6\"</td>\n",
       "      <td>130259</td>\n",
       "      <td>8.0</td>\n",
       "      <td>wedding</td>\n",
       "      <td>January 7, 2013</td>\n",
       "      <td>Stunning dress, perfect for a New Year's Eve w...</td>\n",
       "      <td>This dress was absolutely gorgeous and I recei...</td>\n",
       "      <td>8</td>\n",
       "      <td>533900</td>\n",
       "      <td>135lbs</td>\n",
       "    </tr>\n",
       "    <tr>\n",
       "      <th>12</th>\n",
       "      <td>26.0</td>\n",
       "      <td>straight &amp; narrow</td>\n",
       "      <td>36a</td>\n",
       "      <td>sheath</td>\n",
       "      <td>fit</td>\n",
       "      <td>5' 6\"</td>\n",
       "      <td>1295171</td>\n",
       "      <td>10.0</td>\n",
       "      <td>party</td>\n",
       "      <td>July 28, 2016</td>\n",
       "      <td>This dress made me feel so confident &amp; sexy!</td>\n",
       "      <td>The S was snug but in a good way. I wore a pus...</td>\n",
       "      <td>8</td>\n",
       "      <td>87660</td>\n",
       "      <td>120lbs</td>\n",
       "    </tr>\n",
       "    <tr>\n",
       "      <th>13</th>\n",
       "      <td>29.0</td>\n",
       "      <td>apple</td>\n",
       "      <td>36d</td>\n",
       "      <td>dress</td>\n",
       "      <td>large</td>\n",
       "      <td>5' 2\"</td>\n",
       "      <td>143094</td>\n",
       "      <td>8.0</td>\n",
       "      <td>party</td>\n",
       "      <td>October 4, 2014</td>\n",
       "      <td>Ordered this as a replacement dress</td>\n",
       "      <td>I ordered this dress as a replacement because ...</td>\n",
       "      <td>20</td>\n",
       "      <td>391778</td>\n",
       "      <td>142lbs</td>\n",
       "    </tr>\n",
       "    <tr>\n",
       "      <th>14</th>\n",
       "      <td>32.0</td>\n",
       "      <td>athletic</td>\n",
       "      <td>34b</td>\n",
       "      <td>gown</td>\n",
       "      <td>fit</td>\n",
       "      <td>5' 5\"</td>\n",
       "      <td>123793</td>\n",
       "      <td>10.0</td>\n",
       "      <td>formal affair</td>\n",
       "      <td>May 29, 2014</td>\n",
       "      <td>Stunning gown. Wore this for heart ball and re...</td>\n",
       "      <td>Fit great, super flattering</td>\n",
       "      <td>2</td>\n",
       "      <td>721308</td>\n",
       "      <td>118lbs</td>\n",
       "    </tr>\n",
       "    <tr>\n",
       "      <th>15</th>\n",
       "      <td>30.0</td>\n",
       "      <td>hourglass</td>\n",
       "      <td>34c</td>\n",
       "      <td>leggings</td>\n",
       "      <td>fit</td>\n",
       "      <td>5' 7\"</td>\n",
       "      <td>2595752</td>\n",
       "      <td>10.0</td>\n",
       "      <td>party</td>\n",
       "      <td>May 16, 2016</td>\n",
       "      <td>These leggings are awesome!</td>\n",
       "      <td>Medium would have been a better fit but large ...</td>\n",
       "      <td>20</td>\n",
       "      <td>829124</td>\n",
       "      <td>140lbs</td>\n",
       "    </tr>\n",
       "    <tr>\n",
       "      <th>16</th>\n",
       "      <td>35.0</td>\n",
       "      <td>pear</td>\n",
       "      <td>34c</td>\n",
       "      <td>dress</td>\n",
       "      <td>fit</td>\n",
       "      <td>5' 8\"</td>\n",
       "      <td>909221</td>\n",
       "      <td>10.0</td>\n",
       "      <td>vacation</td>\n",
       "      <td>March 28, 2017</td>\n",
       "      <td>Really cute and comfortable.</td>\n",
       "      <td>This dress is just darling. I would absolutely...</td>\n",
       "      <td>20</td>\n",
       "      <td>499943</td>\n",
       "      <td>170lbs</td>\n",
       "    </tr>\n",
       "    <tr>\n",
       "      <th>17</th>\n",
       "      <td>26.0</td>\n",
       "      <td>athletic</td>\n",
       "      <td>34d</td>\n",
       "      <td>dress</td>\n",
       "      <td>fit</td>\n",
       "      <td>5' 5\"</td>\n",
       "      <td>1622747</td>\n",
       "      <td>10.0</td>\n",
       "      <td>party</td>\n",
       "      <td>November 13, 2017</td>\n",
       "      <td>LOVED</td>\n",
       "      <td>Little tight, but loved this dress!!!</td>\n",
       "      <td>12</td>\n",
       "      <td>339899</td>\n",
       "      <td>143lbs</td>\n",
       "    </tr>\n",
       "    <tr>\n",
       "      <th>18</th>\n",
       "      <td>28.0</td>\n",
       "      <td>petite</td>\n",
       "      <td>34b</td>\n",
       "      <td>dress</td>\n",
       "      <td>fit</td>\n",
       "      <td>5' 3\"</td>\n",
       "      <td>172027</td>\n",
       "      <td>8.0</td>\n",
       "      <td>wedding</td>\n",
       "      <td>July 3, 2017</td>\n",
       "      <td>Semi-formal wedding</td>\n",
       "      <td>This is a pretty and fun dress with vibrant co...</td>\n",
       "      <td>8</td>\n",
       "      <td>649288</td>\n",
       "      <td>115lbs</td>\n",
       "    </tr>\n",
       "    <tr>\n",
       "      <th>19</th>\n",
       "      <td>33.0</td>\n",
       "      <td>petite</td>\n",
       "      <td>34c</td>\n",
       "      <td>gown</td>\n",
       "      <td>small</td>\n",
       "      <td>5' 6\"</td>\n",
       "      <td>1229740</td>\n",
       "      <td>10.0</td>\n",
       "      <td>formal affair</td>\n",
       "      <td>November 16, 2017</td>\n",
       "      <td>gala ready</td>\n",
       "      <td>super cute, 8 was super tight so i wore the 10...</td>\n",
       "      <td>21</td>\n",
       "      <td>16800</td>\n",
       "      <td>135lbs</td>\n",
       "    </tr>\n",
       "  </tbody>\n",
       "</table>\n",
       "</div>"
      ],
      "text/plain": [
       "      age          body type bust size  category    fit height  item_id  \\\n",
       "0    28.0          hourglass       34d    romper    fit  5' 8\"  2260466   \n",
       "1    36.0  straight & narrow       34b      gown    fit  5' 6\"   153475   \n",
       "2   116.0                NaN       NaN    sheath    fit  5' 4\"  1063761   \n",
       "3    34.0               pear       34c     dress    fit  5' 5\"   126335   \n",
       "4    27.0           athletic       34b      gown    fit  5' 9\"   616682   \n",
       "5    45.0           athletic       32b     dress    fit  5' 8\"   364092   \n",
       "6    27.0          hourglass       34c     dress    fit  5' 3\"   568429   \n",
       "7    65.0          full bust      34d+     dress    fit  5' 3\"   130259   \n",
       "8    27.0          full bust       36d      gown    fit  5' 6\"  1729232   \n",
       "9    33.0             petite       32b      gown    fit  5' 3\"  1729232   \n",
       "10   33.0           athletic       34b     dress  small  5' 3\"  1077123   \n",
       "11   30.0               pear       34b     dress  large  5' 6\"   130259   \n",
       "12   26.0  straight & narrow       36a    sheath    fit  5' 6\"  1295171   \n",
       "13   29.0              apple       36d     dress  large  5' 2\"   143094   \n",
       "14   32.0           athletic       34b      gown    fit  5' 5\"   123793   \n",
       "15   30.0          hourglass       34c  leggings    fit  5' 7\"  2595752   \n",
       "16   35.0               pear       34c     dress    fit  5' 8\"   909221   \n",
       "17   26.0           athletic       34d     dress    fit  5' 5\"  1622747   \n",
       "18   28.0             petite       34b     dress    fit  5' 3\"   172027   \n",
       "19   33.0             petite       34c      gown  small  5' 6\"  1229740   \n",
       "\n",
       "    rating     rented for         review_date  \\\n",
       "0     10.0       vacation      April 20, 2016   \n",
       "1     10.0          other       June 18, 2013   \n",
       "2     10.0          party   December 14, 2015   \n",
       "3      8.0  formal affair   February 12, 2014   \n",
       "4     10.0        wedding  September 26, 2016   \n",
       "5      8.0           date      April 30, 2016   \n",
       "6     10.0       everyday    December 7, 2017   \n",
       "7     10.0  formal affair     January 1, 2013   \n",
       "8     10.0  formal affair       June 27, 2016   \n",
       "9     10.0  formal affair    October 17, 2016   \n",
       "10     8.0          party     January 2, 2018   \n",
       "11     8.0        wedding     January 7, 2013   \n",
       "12    10.0          party       July 28, 2016   \n",
       "13     8.0          party     October 4, 2014   \n",
       "14    10.0  formal affair        May 29, 2014   \n",
       "15    10.0          party        May 16, 2016   \n",
       "16    10.0       vacation      March 28, 2017   \n",
       "17    10.0          party   November 13, 2017   \n",
       "18     8.0        wedding        July 3, 2017   \n",
       "19    10.0  formal affair   November 16, 2017   \n",
       "\n",
       "                                       review_summary  \\\n",
       "0                                So many compliments!   \n",
       "1                             I felt so glamourous!!!   \n",
       "2   It was a great time to celebrate the (almost) ...   \n",
       "3    Dress arrived on time and in perfect condition.    \n",
       "4                     Was in love with this dress !!!   \n",
       "5                     Traditional with a touch a sass   \n",
       "6                     LITERALLY THE CUTEST DRESS EVER   \n",
       "7   Great dress, beautifully made.  I received lot...   \n",
       "8                          Great for black tie event!   \n",
       "9   This dress was everything! It was perfect for ...   \n",
       "10  It was fun to wear a dress I wouldn't normally...   \n",
       "11  Stunning dress, perfect for a New Year's Eve w...   \n",
       "12      This dress made me feel so confident & sexy!    \n",
       "13                Ordered this as a replacement dress   \n",
       "14  Stunning gown. Wore this for heart ball and re...   \n",
       "15                        These leggings are awesome!   \n",
       "16                       Really cute and comfortable.   \n",
       "17                                              LOVED   \n",
       "18                                Semi-formal wedding   \n",
       "19                                        gala ready    \n",
       "\n",
       "                                          review_text  size  user_id  weight  \n",
       "0   An adorable romper! Belt and zipper were a lit...    14   420272  137lbs  \n",
       "1   I rented this dress for a photo shoot. The the...    12   273551  132lbs  \n",
       "2   This hugged in all the right places! It was a ...     4   360448     NaN  \n",
       "3   I rented this for my company's black tie award...     8   909926  135lbs  \n",
       "4   I have always been petite in my upper body and...    12   151944  145lbs  \n",
       "5   Didn't actually wear it. It fit perfectly. The...     8   734848  138lbs  \n",
       "6   This dress is so sweet. I loved the print. The...     4   336066  112lbs  \n",
       "7   Fit was great. Maybe a little tight under the ...     8    86661  118lbs  \n",
       "8   I was nervous of it looking cheap when it arri...    21   166228     NaN  \n",
       "9   The dress was very flattering and fit perfectl...     1   154309  114lbs  \n",
       "10  The dress arrived with a small hole in the bea...    12   185966  135lbs  \n",
       "11  This dress was absolutely gorgeous and I recei...     8   533900  135lbs  \n",
       "12  The S was snug but in a good way. I wore a pus...     8    87660  120lbs  \n",
       "13  I ordered this dress as a replacement because ...    20   391778  142lbs  \n",
       "14                        Fit great, super flattering     2   721308  118lbs  \n",
       "15  Medium would have been a better fit but large ...    20   829124  140lbs  \n",
       "16  This dress is just darling. I would absolutely...    20   499943  170lbs  \n",
       "17              Little tight, but loved this dress!!!    12   339899  143lbs  \n",
       "18  This is a pretty and fun dress with vibrant co...     8   649288  115lbs  \n",
       "19  super cute, 8 was super tight so i wore the 10...    21    16800  135lbs  "
      ]
     },
     "execution_count": 117,
     "metadata": {},
     "output_type": "execute_result"
    }
   ],
   "source": [
    "df = pd.read_json('renttherunway_final_data.json', lines = True)\n",
    "df. head(20)"
   ]
  },
  {
   "cell_type": "markdown",
   "metadata": {},
   "source": [
    "1. What are some characteristics of the typical Rent the Runway user?"
   ]
  },
  {
   "cell_type": "markdown",
   "metadata": {},
   "source": [
    "The first thing that I wanted to investigate was who the typical Rent the Runway user is. The first thing that I looked at was the typical age of the RTR customer."
   ]
  },
  {
   "cell_type": "code",
   "execution_count": 36,
   "metadata": {},
   "outputs": [
    {
     "data": {
      "image/png": "[encoded data removed]",
      "text/plain": [
       "<Figure size 432x288 with 1 Axes>"
      ]
     },
     "metadata": {
      "needs_background": "light"
     },
     "output_type": "display_data"
    },
    {
     "name": "stdout",
     "output_type": "stream",
     "text": [
      "Mean Customer Age:  33.871017412727575\n"
     ]
    }
   ],
   "source": [
    "plt.hist(df['age'], bins=20, color = 'pink')\n",
    "plt.xlabel('Customer Age')\n",
    "plt.show()\n",
    "print('Mean Customer Age: ', np.mean(df['age']))"
   ]
  },
  {
   "cell_type": "markdown",
   "metadata": {},
   "source": [
    "This chart shows that the majority of products were rented by customers in their late-twenties to early-thirties. This data does not represent individual customers, but rather individual product reviews; therefore, customers who rented more items are weighted more heavily in this chart. The mean customer age is about 34.\n",
    "\n",
    "Next, I looked at the most common body types among RTR customers. Again, this data represents individual product reviews rather than individual users, so users that rent more products will be weighted more heavily in the chart."
   ]
  },
  {
   "cell_type": "code",
   "execution_count": 101,
   "metadata": {},
   "outputs": [
    {
     "data": {
      "image/png": "[encoded data removed]",
      "text/plain": [
       "<Figure size 432x288 with 1 Axes>"
      ]
     },
     "metadata": {},
     "output_type": "display_data"
    }
   ],
   "source": [
    "df['body type'].value_counts().plot(kind='pie')\n",
    "plt.show()"
   ]
  },
  {
   "cell_type": "markdown",
   "metadata": {},
   "source": [
    "This chart shows that about a third of users describe their bodies as \"hourglass\" shaped, and about a quarter of users describe their bodies as \"athletic\". Only a small portion of users describe themselves as \"apple\" shaped.\n",
    "\n",
    "Next, I was curious about how many items RTR users are renting and reviewing. First, I looked at the number of items that the top 25 users rented."
   ]
  },
  {
   "cell_type": "code",
   "execution_count": 119,
   "metadata": {},
   "outputs": [
    {
     "data": {
      "image/png": "[encoded data removed]",
      "text/plain": [
       "<Figure size 432x288 with 1 Axes>"
      ]
     },
     "metadata": {
      "needs_background": "light"
     },
     "output_type": "display_data"
    }
   ],
   "source": [
    "df.user_id.value_counts().head(25).plot(kind='bar', color = 'purple')\n",
    "plt.xlabel('User ID')\n",
    "plt.ylabel('Number of Items Rented')\n",
    "plt.show()"
   ]
  },
  {
   "cell_type": "markdown",
   "metadata": {},
   "source": [
    "This chart shows that the top user has rented well over 400 items, more than 100 items greater than the second most-frequent user. There is a sharp drop in items rented after the top three users, and the rest of the top 25 users rented around 100 items each.\n",
    "\n",
    "Next, I wanted to look at how many users only used RTR to rent a single item."
   ]
  },
  {
   "cell_type": "code",
   "execution_count": 76,
   "metadata": {},
   "outputs": [
    {
     "name": "stdout",
     "output_type": "stream",
     "text": [
      "71824\n",
      "0.37302642512880174\n"
     ]
    }
   ],
   "source": [
    "user_counts = df['user_id'].value_counts().to_frame()\n",
    "print(len(user_counts[user_counts.user_id == 1]))\n",
    "print(len(user_counts[user_counts.user_id == 1])/len(df))"
   ]
  },
  {
   "cell_type": "markdown",
   "metadata": {},
   "source": [
    "71, 824 users only rented a single item from RTR. This represents about 37% of total items rented.\n",
    "\n",
    "Finally, I looked at how many of the reviews were completed by the RTR Team to see whether this made up a significant portion of the data."
   ]
  },
  {
   "cell_type": "code",
   "execution_count": 77,
   "metadata": {},
   "outputs": [
    {
     "name": "stdout",
     "output_type": "stream",
     "text": [
      "529\n",
      "0.002747423965431278\n"
     ]
    }
   ],
   "source": [
    "print(len(df[df['review_summary']== 'RTR Team Review']))\n",
    "print(len(df[df['review_summary']== 'RTR Team Review'])/len(df))"
   ]
  },
  {
   "cell_type": "markdown",
   "metadata": {},
   "source": [
    "529 reviews were labeled as being completed by the RTR Team, which made up less than 0.3% of total reviews."
   ]
  },
  {
   "cell_type": "markdown",
   "metadata": {},
   "source": [
    "2. How often are the most popular items rented? Are items with higher ratings rented more often?\n",
    "\n",
    "Next, I wanted to look at how many times the most popular items have been rented."
   ]
  },
  {
   "cell_type": "code",
   "execution_count": 120,
   "metadata": {},
   "outputs": [
    {
     "data": {
      "image/png": "[encoded data removed]",
      "text/plain": [
       "<Figure size 432x288 with 1 Axes>"
      ]
     },
     "metadata": {
      "needs_background": "light"
     },
     "output_type": "display_data"
    }
   ],
   "source": [
    "df.item_id.value_counts().head(25).plot(kind='bar', color = 'cyan')\n",
    "plt.xlabel('Item ID')\n",
    "plt.ylabel('Number of Times Rented')\n",
    "plt.show()"
   ]
  },
  {
   "cell_type": "markdown",
   "metadata": {},
   "source": [
    "From the chart above, we can see that the most popular item has been rented over 2200 times, more than 500 more times than the second and third most popular items. All of the 25 most popular items have been rented over 500 times. \n",
    "\n",
    "Similarly to the number of users who only rented a single item, I next wanted to look at how many items had been rented only once."
   ]
  },
  {
   "cell_type": "code",
   "execution_count": 81,
   "metadata": {},
   "outputs": [
    {
     "name": "stdout",
     "output_type": "stream",
     "text": [
      "341\n",
      "0.0017710237659963437\n"
     ]
    }
   ],
   "source": [
    "item_counts = df['item_id'].value_counts().to_frame()\n",
    "print(len(item_counts[item_counts.item_id == 1]))\n",
    "print(len(item_counts[item_counts.item_id == 1])/len(df))"
   ]
  },
  {
   "cell_type": "markdown",
   "metadata": {},
   "source": [
    "In contrast to the number of users that only rented one item, the majority of items were reviewed more than once. Only 341 items were rented a single time, which made up less than 0.2% of the total number of rentals.\n",
    "\n",
    "Next, I wanted to look at whether items that had higher ratings were rented more often."
   ]
  },
  {
   "cell_type": "code",
   "execution_count": 122,
   "metadata": {},
   "outputs": [],
   "source": [
    "item_ratings = pd.DataFrame(df.groupby('item_id').size())\n",
    "item_ratings['avg_rating'] =  df.groupby('item_id').rating.mean()"
   ]
  },
  {
   "cell_type": "code",
   "execution_count": 124,
   "metadata": {},
   "outputs": [
    {
     "data": {
      "image/png": "[encoded data removed]",
      "text/plain": [
       "<Figure size 432x288 with 1 Axes>"
      ]
     },
     "metadata": {
      "needs_background": "light"
     },
     "output_type": "display_data"
    },
    {
     "name": "stdout",
     "output_type": "stream",
     "text": [
      "Overall Average Rating:  9.092371481123546\n"
     ]
    }
   ],
   "source": [
    "plt.scatter(x = item_ratings[0], y = item_ratings['avg_rating'], color = 'orange')\n",
    "plt.xlabel('Number of Ratings')\n",
    "plt.ylabel('Average Item Rating')\n",
    "plt.show()\n",
    "print(\"Overall Average Rating: \", np.mean(df['rating']))"
   ]
  },
  {
   "cell_type": "markdown",
   "metadata": {},
   "source": [
    "While this chart shows no correlation between the number of reviews and average rating for the item, all items that had more than 500 reviews received an average rating greater than 8 out of 10. The items with the lowest number of ratings had the widest range of values. The overall average of all ratings was around 9."
   ]
  },
  {
   "cell_type": "markdown",
   "metadata": {},
   "source": [
    "3. How often did the items rated fit? Did items that fit receive higher ratings?"
   ]
  },
  {
   "cell_type": "code",
   "execution_count": 102,
   "metadata": {},
   "outputs": [
    {
     "data": {
      "image/png": "[encoded data removed]",
      "text/plain": [
       "<Figure size 432x288 with 1 Axes>"
      ]
     },
     "metadata": {},
     "output_type": "display_data"
    }
   ],
   "source": [
    "df['fit'].value_counts().plot(kind='pie')\n",
    "plt.show()"
   ]
  },
  {
   "cell_type": "markdown",
   "metadata": {},
   "source": [
    "From this chart, it is clear that the vast majority of customers (about three-quarters of item reviews) describe their item as fitting. About an eighth of reviews describe an item as being too small, and a similar proportion of reviews describe an item as being too large.\n",
    "\n",
    "Next, I want to look at whether items that do not fit are rated lower than items fit."
   ]
  },
  {
   "cell_type": "code",
   "execution_count": 113,
   "metadata": {},
   "outputs": [
    {
     "data": {
      "text/html": [
       "<div>\n",
       "<style scoped>\n",
       "    .dataframe tbody tr th:only-of-type {\n",
       "        vertical-align: middle;\n",
       "    }\n",
       "\n",
       "    .dataframe tbody tr th {\n",
       "        vertical-align: top;\n",
       "    }\n",
       "\n",
       "    .dataframe thead th {\n",
       "        text-align: right;\n",
       "    }\n",
       "</style>\n",
       "<table border=\"1\" class=\"dataframe\">\n",
       "  <thead>\n",
       "    <tr style=\"text-align: right;\">\n",
       "      <th></th>\n",
       "      <th>rating</th>\n",
       "    </tr>\n",
       "    <tr>\n",
       "      <th>fit</th>\n",
       "      <th></th>\n",
       "    </tr>\n",
       "  </thead>\n",
       "  <tbody>\n",
       "    <tr>\n",
       "      <th>fit</th>\n",
       "      <td>9.308469</td>\n",
       "    </tr>\n",
       "    <tr>\n",
       "      <th>large</th>\n",
       "      <td>8.551942</td>\n",
       "    </tr>\n",
       "    <tr>\n",
       "      <th>small</th>\n",
       "      <td>8.419615</td>\n",
       "    </tr>\n",
       "  </tbody>\n",
       "</table>\n",
       "</div>"
      ],
      "text/plain": [
       "         rating\n",
       "fit            \n",
       "fit    9.308469\n",
       "large  8.551942\n",
       "small  8.419615"
      ]
     },
     "execution_count": 113,
     "metadata": {},
     "output_type": "execute_result"
    }
   ],
   "source": [
    "fit_ratings = df.groupby('fit').rating.mean().to_frame()\n",
    "fit_ratings"
   ]
  },
  {
   "cell_type": "code",
   "execution_count": 116,
   "metadata": {},
   "outputs": [
    {
     "data": {
      "image/png": "[encoded data removed]",
      "text/plain": [
       "<Figure size 432x288 with 1 Axes>"
      ]
     },
     "metadata": {
      "needs_background": "light"
     },
     "output_type": "display_data"
    }
   ],
   "source": [
    "fit_ratings.plot(kind = 'bar', legend = False)\n",
    "plt.show()"
   ]
  },
  {
   "cell_type": "markdown",
   "metadata": {},
   "source": [
    "While items that were too large and items that were too small received similar ratings, items that did not fit received significantly lower ratings (0.8-0.9 points on average) than those that did."
   ]
  },
  {
   "cell_type": "markdown",
   "metadata": {},
   "source": [
    "## Further Research\n",
    "One of the biggest issues when renting or purchasing clothing is determinining the correct size that you need. As shown above, items that did not fit receieved lower ratings than those that did. Further analysis of this data set could be used to help improve the size recommendation process. By using the available information about customer height, weight, and body type, RTR could predict whether certain items will fit similar customers correctly. Additionally, by analyzing the feedback from the customer reviews, RTR can gain insight into why certain items did not fit the customer and use that information to help refine their recommendation system."
   ]
  }
 ],
 "metadata": {
  "kernelspec": {
   "display_name": "Python 3",
   "language": "python",
   "name": "python3"
  },
  "language_info": {
   "codemirror_mode": {
    "name": "ipython",
    "version": 3
   },
   "file_extension": ".py",
   "mimetype": "text/x-python",
   "name": "python",
   "nbconvert_exporter": "python",
   "pygments_lexer": "ipython3",
   "version": "3.7.3"
  }
 },
 "nbformat": 4,
 "nbformat_minor": 2
}
