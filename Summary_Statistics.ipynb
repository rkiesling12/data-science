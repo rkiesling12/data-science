{
 "cells": [
  {
   "cell_type": "code",
   "execution_count": 15,
   "metadata": {},
   "outputs": [],
   "source": [
    "import pandas as pd\n",
    "import matplotlib.pyplot as plt\n",
    "import numpy as np\n",
    "import statistics"
   ]
  },
  {
   "cell_type": "code",
   "execution_count": 5,
   "metadata": {},
   "outputs": [
    {
     "name": "stdout",
     "output_type": "stream",
     "text": [
      "9.857142857142858\n",
      "10.0\n",
      "8\n"
     ]
    }
   ],
   "source": [
    "df = pd.DataFrame()\n",
    "df['age'] = [14, 12, 11, 10, 8, 6, 8]   \n",
    "print(np.mean(df['age']))\n",
    "print(np.median(df['age']))\n",
    "print(statistics.mode(df['age']))"
   ]
  },
  {
   "cell_type": "code",
   "execution_count": 11,
   "metadata": {},
   "outputs": [
    {
     "name": "stdout",
     "output_type": "stream",
     "text": [
      "7.476190476190475\n",
      "2.734262327610589\n",
      "1.0334540197243192\n"
     ]
    }
   ],
   "source": [
    "print(np.var(df.age, ddof = 1))\n",
    "print(np.std(df.age, ddof = 1))\n",
    "print(np.std(df.age, ddof = 1)/np.sqrt(len(df['age'])))"
   ]
  },
  {
   "cell_type": "code",
   "execution_count": 13,
   "metadata": {},
   "outputs": [
    {
     "name": "stdout",
     "output_type": "stream",
     "text": [
      "10.0\n",
      "10.0\n",
      "8\n",
      "6.333333333333333\n",
      "2.516611478423583\n",
      "0.9511897312113418\n"
     ]
    }
   ],
   "source": [
    "df['age2'] = [14, 12, 11, 10, 8, 7, 8]\n",
    "print(np.mean(df['age2']))\n",
    "print(np.median(df['age2']))\n",
    "print(statistics.mode(df['age2']))\n",
    "print(np.var(df.age2, ddof = 1))\n",
    "print(np.std(df.age2, ddof = 1))\n",
    "print(np.std(df.age2, ddof = 1)/np.sqrt(len(df['age2'])))"
   ]
  },
  {
   "cell_type": "code",
   "execution_count": 21,
   "metadata": {},
   "outputs": [
    {
     "name": "stdout",
     "output_type": "stream",
     "text": [
      "9.0\n",
      "10.0\n",
      "18.0\n",
      "4.242640687119285\n",
      "1.6035674514745462\n"
     ]
    }
   ],
   "source": [
    "df['age3'] = [14, 12, 11, 10, 8, 7, 1]\n",
    "print(np.mean(df['age3']))\n",
    "print(np.median(df['age3']))\n",
    "\n",
    "print(np.var(df.age3, ddof = 1))\n",
    "print(np.std(df.age3, ddof = 1))\n",
    "print(np.std(df.age3, ddof = 1)/np.sqrt(len(df['age3'])))"
   ]
  },
  {
   "cell_type": "code",
   "execution_count": null,
   "metadata": {},
   "outputs": [],
   "source": []
  }
 ],
 "metadata": {
  "kernelspec": {
   "display_name": "Python 3",
   "language": "python",
   "name": "python3"
  },
  "language_info": {
   "codemirror_mode": {
    "name": "ipython",
    "version": 3
   },
   "file_extension": ".py",
   "mimetype": "text/x-python",
   "name": "python",
   "nbconvert_exporter": "python",
   "pygments_lexer": "ipython3",
   "version": "3.7.3"
  }
 },
 "nbformat": 4,
 "nbformat_minor": 2
}
