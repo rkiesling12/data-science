{
 "cells": [
  {
   "cell_type": "code",
   "execution_count": 2,
   "metadata": {},
   "outputs": [],
   "source": [
    "import numpy as np\n",
    "import pandas as pd\n",
    "import matplotlib.pyplot as plt\n",
    "%matplotlib inline"
   ]
  },
  {
   "cell_type": "code",
   "execution_count": 25,
   "metadata": {},
   "outputs": [
    {
     "data": {
      "image/png": "[encoded data removed]",
      "text/plain": [
       "<Figure size 432x288 with 1 Axes>"
      ]
     },
     "metadata": {
      "needs_background": "light"
     },
     "output_type": "display_data"
    },
    {
     "name": "stdout",
     "output_type": "stream",
     "text": [
      "Mean:  0.09429208201867963\n",
      "Standard Deviation:  0.08553445337542323\n"
     ]
    }
   ],
   "source": [
    "beta = np.random.beta(1, 10, 100)\n",
    "plt.hist(beta, color = 'c' )\n",
    "plt.axvline(beta.mean(), color='b', linestyle='solid', linewidth=2)\n",
    "plt.axvline(beta.mean() + beta.std(), color='b', linestyle='dashed', linewidth=2)\n",
    "plt.axvline(beta.mean() - beta.std(), color='b', linestyle='dashed', linewidth=2)\n",
    "plt.title('Beta distribution')\n",
    "plt.show()\n",
    "print(\"Mean: \", np.mean(beta))\n",
    "print('Standard Deviation: ', np.std(beta, ddof = 1))"
   ]
  },
  {
   "cell_type": "markdown",
   "metadata": {},
   "source": [
    "In the beta distribution, the mean is equal to a/(a +b). When a and b are equal, this distribution is symmetric so half of the data falls on either side of the mean, but when a does not equal b, the distribution is skewed. With the values above, most of the values of the data are less than the mean."
   ]
  },
  {
   "cell_type": "code",
   "execution_count": 27,
   "metadata": {},
   "outputs": [
    {
     "data": {
      "image/png": "[encoded data removed]",
      "text/plain": [
       "<Figure size 432x288 with 1 Axes>"
      ]
     },
     "metadata": {
      "needs_background": "light"
     },
     "output_type": "display_data"
    },
    {
     "name": "stdout",
     "output_type": "stream",
     "text": [
      "Mean:  0.6869894547510877\n",
      "Standard Deviation:  0.8142945040821707\n"
     ]
    }
   ],
   "source": [
    "exponential = np.random.exponential(0.7, 100)\n",
    "plt.hist(exponential, color = 'c' )\n",
    "plt.axvline(exponential.mean(), color='b', linestyle='solid', linewidth=2)\n",
    "plt.axvline(exponential.mean() + exponential.std(), color='b', linestyle='dashed', linewidth=2)\n",
    "plt.axvline(exponential.mean() - exponential.std(), color='b', linestyle='dashed', linewidth=2)\n",
    "plt.show()\n",
    "print(\"Mean: \", np.mean(exponential))\n",
    "print('Standard Deviation: ', np.std(exponential, ddof = 1))"
   ]
  },
  {
   "cell_type": "markdown",
   "metadata": {},
   "source": [
    "The mean of the exponential distribution is equal to the scale parameter. Most of the data for this distribution falls below the mean. The standard deviation does not provide you with much information as this distribution does not take values less than 0."
   ]
  },
  {
   "cell_type": "code",
   "execution_count": 31,
   "metadata": {},
   "outputs": [
    {
     "data": {
      "image/png": "[encoded data removed]",
      "text/plain": [
       "<Figure size 432x288 with 1 Axes>"
      ]
     },
     "metadata": {
      "needs_background": "light"
     },
     "output_type": "display_data"
    },
    {
     "name": "stdout",
     "output_type": "stream",
     "text": [
      "Mean:  2.42\n",
      "Standard Deviation:  2.080112662061526\n"
     ]
    }
   ],
   "source": [
    "geometric = np.random.geometric(0.4, 100)\n",
    "plt.hist(geometric, color = 'c' )\n",
    "plt.axvline(geometric.mean(), color='b', linestyle='solid', linewidth=2)\n",
    "plt.axvline(geometric.mean() + geometric.std(), color='b', linestyle='dashed', linewidth=2)\n",
    "plt.axvline(geometric.mean() - geometric.std(), color='b', linestyle='dashed', linewidth=2)\n",
    "plt.show()\n",
    "print(\"Mean: \", np.mean(geometric))\n",
    "print('Standard Deviation: ', np.std(geometric, ddof = 1))"
   ]
  },
  {
   "cell_type": "markdown",
   "metadata": {},
   "source": [
    "The mean of the geometric distribution is 1/p. The data in this distribution is most concentrated below the mean and decreases in frequency as you go to the right."
   ]
  },
  {
   "cell_type": "code",
   "execution_count": 35,
   "metadata": {},
   "outputs": [
    {
     "data": {
      "image/png": "[encoded data removed]",
      "text/plain": [
       "<Figure size 432x288 with 1 Axes>"
      ]
     },
     "metadata": {
      "needs_background": "light"
     },
     "output_type": "display_data"
    },
    {
     "name": "stdout",
     "output_type": "stream",
     "text": [
      "Mean:  0.85656192139722\n",
      "Standard Deviation:  0.1320365323839696\n"
     ]
    }
   ],
   "source": [
    "power = np.random.power(6, 100)\n",
    "plt.hist(power, color = 'c' )\n",
    "plt.axvline(power.mean(), color='b', linestyle='solid', linewidth=2)\n",
    "plt.axvline(power.mean() + power.std(), color='b', linestyle='dashed', linewidth=2)\n",
    "plt.axvline(power.mean() - power.std(), color='b', linestyle='dashed', linewidth=2)\n",
    "plt.show()\n",
    "print(\"Mean: \", np.mean(power))\n",
    "print('Standard Deviation: ', np.std(power, ddof = 1))"
   ]
  },
  {
   "cell_type": "markdown",
   "metadata": {},
   "source": [
    "In the power distribution, the mean and standard deviation do not tell you much about the data. Most of the data falls closer to one, with the frequency of data decreasing as the value of the data decreases."
   ]
  },
  {
   "cell_type": "code",
   "execution_count": 41,
   "metadata": {},
   "outputs": [
    {
     "data": {
      "image/png": "[encoded data removed]",
      "text/plain": [
       "<Figure size 432x288 with 1 Axes>"
      ]
     },
     "metadata": {
      "needs_background": "light"
     },
     "output_type": "display_data"
    },
    {
     "name": "stdout",
     "output_type": "stream",
     "text": [
      "Mean:  -0.4042486859711435\n",
      "Standard Deviation:  5.571331940093245\n"
     ]
    }
   ],
   "source": [
    "standard_cauchy = np.random.standard_cauchy(100)\n",
    "plt.hist(standard_cauchy, color = 'c' )\n",
    "plt.axvline(standard_cauchy.mean(), color='b', linestyle='solid', linewidth=2)\n",
    "plt.axvline(standard_cauchy.mean() + standard_cauchy.std(), color='b', linestyle='dashed', linewidth=2)\n",
    "plt.axvline(standard_cauchy.mean() - standard_cauchy.std(), color='b', linestyle='dashed', linewidth=2)\n",
    "plt.show()\n",
    "print(\"Mean: \", np.mean(standard_cauchy))\n",
    "print('Standard Deviation: ', np.std(standard_cauchy, ddof = 1))"
   ]
  },
  {
   "cell_type": "markdown",
   "metadata": {},
   "source": [
    "The mean of the standard Cauchy distribution is 0 and most of the data falls within one standard devation of the mean. The Cauchy distribution is similar to the normal curve but with longer tails."
   ]
  },
  {
   "cell_type": "code",
   "execution_count": 12,
   "metadata": {},
   "outputs": [
    {
     "data": {
      "image/png": "[encoded data removed]",
      "text/plain": [
       "<Figure size 432x288 with 1 Axes>"
      ]
     },
     "metadata": {
      "needs_background": "light"
     },
     "output_type": "display_data"
    },
    {
     "name": "stdout",
     "output_type": "stream",
     "text": [
      "Mean:  2.4613856557876277\n",
      "Standard Deviation:  1.4576786969872555\n"
     ]
    }
   ],
   "source": [
    "uniform = np.random.uniform(0, 5, 100)\n",
    "plt.hist(uniform, color = 'c' )\n",
    "plt.axvline(uniform.mean(), color='b', linestyle='solid', linewidth=2)\n",
    "plt.axvline(uniform.mean() + uniform.std(), color='b', linestyle='dashed', linewidth=2)\n",
    "plt.axvline(uniform.mean() - uniform.std(), color='b', linestyle='dashed', linewidth=2)\n",
    "plt.show()\n",
    "print(\"Mean: \", np.mean(uniform))\n",
    "print('Standard Deviation: ', np.std(uniform, ddof = 1))"
   ]
  },
  {
   "cell_type": "markdown",
   "metadata": {},
   "source": [
    "The mean for the uniform distribution falls in the center of the range that the data is being selected from. In general, the descriptive statistics are more useful for distributions that are symmetric than for those that are not."
   ]
  },
  {
   "cell_type": "code",
   "execution_count": 15,
   "metadata": {},
   "outputs": [
    {
     "data": {
      "image/png": "[encoded data removed]",
      "text/plain": [
       "<Figure size 432x288 with 1 Axes>"
      ]
     },
     "metadata": {
      "needs_background": "light"
     },
     "output_type": "display_data"
    },
    {
     "name": "stdout",
     "output_type": "stream",
     "text": [
      "Mean =  15.175065592169098\n",
      "Standard Deviation =  1.1009778328838855\n"
     ]
    }
   ],
   "source": [
    "normal1 = np.random.normal(5, 0.5, 100)\n",
    "normal2 = np.random.normal(10, 1, 100)\n",
    "normal3 = normal1 + normal2\n",
    "plt.hist(normal3)\n",
    "plt.axvline(normal3.mean(), color='c', linestyle='solid', linewidth=2)\n",
    "plt.axvline(normal3.mean() + normal3.std(), color='c', linestyle='dashed', linewidth=2)\n",
    "plt.axvline(normal3.mean() - normal3.std(), color='c', linestyle='dashed', linewidth=2)\n",
    "plt.show()\n",
    "print('Mean = ', np.mean(normal3))\n",
    "print('Standard Deviation = ', np.std(normal3))"
   ]
  },
  {
   "cell_type": "markdown",
   "metadata": {},
   "source": [
    "The mean is around 15, which is the sum of the means of the first two normal curves. The standard deviation is around 1.1, slightly larger than the standard deviation of either of the first two curves."
   ]
  }
 ],
 "metadata": {
  "kernelspec": {
   "display_name": "Python 3",
   "language": "python",
   "name": "python3"
  },
  "language_info": {
   "codemirror_mode": {
    "name": "ipython",
    "version": 3
   },
   "file_extension": ".py",
   "mimetype": "text/x-python",
   "name": "python",
   "nbconvert_exporter": "python",
   "pygments_lexer": "ipython3",
   "version": "3.7.3"
  }
 },
 "nbformat": 4,
 "nbformat_minor": 2
}
