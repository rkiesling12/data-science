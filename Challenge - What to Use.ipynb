{
 "cells": [
  {
   "cell_type": "code",
   "execution_count": 1,
   "metadata": {},
   "outputs": [],
   "source": [
    "import pandas as pd\n",
    "import numpy as np\n",
    "import matplotlib.pyplot as plt\n",
    "import scipy.stats as stats\n",
    "import statsmodels.api as sm\n",
    "import seaborn as sns\n",
    "%matplotlib inline"
   ]
  },
  {
   "cell_type": "code",
   "execution_count": 2,
   "metadata": {},
   "outputs": [
    {
     "data": {
      "text/html": [
       "<div>\n",
       "<style scoped>\n",
       "    .dataframe tbody tr th:only-of-type {\n",
       "        vertical-align: middle;\n",
       "    }\n",
       "\n",
       "    .dataframe tbody tr th {\n",
       "        vertical-align: top;\n",
       "    }\n",
       "\n",
       "    .dataframe thead th {\n",
       "        text-align: right;\n",
       "    }\n",
       "</style>\n",
       "<table border=\"1\" class=\"dataframe\">\n",
       "  <thead>\n",
       "    <tr style=\"text-align: right;\">\n",
       "      <th></th>\n",
       "      <th>cntry</th>\n",
       "      <th>idno</th>\n",
       "      <th>year</th>\n",
       "      <th>tvtot</th>\n",
       "      <th>ppltrst</th>\n",
       "      <th>pplfair</th>\n",
       "      <th>pplhlp</th>\n",
       "      <th>happy</th>\n",
       "      <th>sclmeet</th>\n",
       "      <th>sclact</th>\n",
       "      <th>gndr</th>\n",
       "      <th>agea</th>\n",
       "      <th>partner</th>\n",
       "    </tr>\n",
       "  </thead>\n",
       "  <tbody>\n",
       "    <tr>\n",
       "      <td>0</td>\n",
       "      <td>CH</td>\n",
       "      <td>5.0</td>\n",
       "      <td>6</td>\n",
       "      <td>3.0</td>\n",
       "      <td>3.0</td>\n",
       "      <td>10.0</td>\n",
       "      <td>5.0</td>\n",
       "      <td>8.0</td>\n",
       "      <td>5.0</td>\n",
       "      <td>4.0</td>\n",
       "      <td>2.0</td>\n",
       "      <td>60.0</td>\n",
       "      <td>1.0</td>\n",
       "    </tr>\n",
       "    <tr>\n",
       "      <td>1</td>\n",
       "      <td>CH</td>\n",
       "      <td>25.0</td>\n",
       "      <td>6</td>\n",
       "      <td>6.0</td>\n",
       "      <td>5.0</td>\n",
       "      <td>7.0</td>\n",
       "      <td>5.0</td>\n",
       "      <td>9.0</td>\n",
       "      <td>3.0</td>\n",
       "      <td>2.0</td>\n",
       "      <td>2.0</td>\n",
       "      <td>59.0</td>\n",
       "      <td>1.0</td>\n",
       "    </tr>\n",
       "    <tr>\n",
       "      <td>2</td>\n",
       "      <td>CH</td>\n",
       "      <td>26.0</td>\n",
       "      <td>6</td>\n",
       "      <td>1.0</td>\n",
       "      <td>8.0</td>\n",
       "      <td>8.0</td>\n",
       "      <td>8.0</td>\n",
       "      <td>7.0</td>\n",
       "      <td>6.0</td>\n",
       "      <td>3.0</td>\n",
       "      <td>1.0</td>\n",
       "      <td>24.0</td>\n",
       "      <td>2.0</td>\n",
       "    </tr>\n",
       "    <tr>\n",
       "      <td>3</td>\n",
       "      <td>CH</td>\n",
       "      <td>28.0</td>\n",
       "      <td>6</td>\n",
       "      <td>4.0</td>\n",
       "      <td>6.0</td>\n",
       "      <td>6.0</td>\n",
       "      <td>7.0</td>\n",
       "      <td>10.0</td>\n",
       "      <td>6.0</td>\n",
       "      <td>2.0</td>\n",
       "      <td>2.0</td>\n",
       "      <td>64.0</td>\n",
       "      <td>1.0</td>\n",
       "    </tr>\n",
       "    <tr>\n",
       "      <td>4</td>\n",
       "      <td>CH</td>\n",
       "      <td>29.0</td>\n",
       "      <td>6</td>\n",
       "      <td>5.0</td>\n",
       "      <td>6.0</td>\n",
       "      <td>7.0</td>\n",
       "      <td>5.0</td>\n",
       "      <td>8.0</td>\n",
       "      <td>7.0</td>\n",
       "      <td>2.0</td>\n",
       "      <td>2.0</td>\n",
       "      <td>55.0</td>\n",
       "      <td>1.0</td>\n",
       "    </tr>\n",
       "  </tbody>\n",
       "</table>\n",
       "</div>"
      ],
      "text/plain": [
       "  cntry  idno  year  tvtot  ppltrst  pplfair  pplhlp  happy  sclmeet  sclact  \\\n",
       "0    CH   5.0     6    3.0      3.0     10.0     5.0    8.0      5.0     4.0   \n",
       "1    CH  25.0     6    6.0      5.0      7.0     5.0    9.0      3.0     2.0   \n",
       "2    CH  26.0     6    1.0      8.0      8.0     8.0    7.0      6.0     3.0   \n",
       "3    CH  28.0     6    4.0      6.0      6.0     7.0   10.0      6.0     2.0   \n",
       "4    CH  29.0     6    5.0      6.0      7.0     5.0    8.0      7.0     2.0   \n",
       "\n",
       "   gndr  agea  partner  \n",
       "0   2.0  60.0      1.0  \n",
       "1   2.0  59.0      1.0  \n",
       "2   1.0  24.0      2.0  \n",
       "3   2.0  64.0      1.0  \n",
       "4   2.0  55.0      1.0  "
      ]
     },
     "execution_count": 2,
     "metadata": {},
     "output_type": "execute_result"
    }
   ],
   "source": [
    "#load data\n",
    "survey_df = pd.read_csv('https://raw.githubusercontent.com/Thinkful-Ed/data-201-resources/master/ESS_practice_data/ESSdata_Thinkful.csv')\n",
    "survey_df.head()"
   ]
  },
  {
   "cell_type": "code",
   "execution_count": 3,
   "metadata": {},
   "outputs": [
    {
     "name": "stdout",
     "output_type": "stream",
     "text": [
      "<class 'pandas.core.frame.DataFrame'>\n",
      "RangeIndex: 8594 entries, 0 to 8593\n",
      "Data columns (total 13 columns):\n",
      "cntry      8594 non-null object\n",
      "idno       8594 non-null float64\n",
      "year       8594 non-null int64\n",
      "tvtot      8586 non-null float64\n",
      "ppltrst    8580 non-null float64\n",
      "pplfair    8555 non-null float64\n",
      "pplhlp     8569 non-null float64\n",
      "happy      8563 non-null float64\n",
      "sclmeet    8579 non-null float64\n",
      "sclact     8500 non-null float64\n",
      "gndr       8584 non-null float64\n",
      "agea       8355 non-null float64\n",
      "partner    8577 non-null float64\n",
      "dtypes: float64(11), int64(1), object(1)\n",
      "memory usage: 873.0+ KB\n"
     ]
    }
   ],
   "source": [
    "#get data types\n",
    "survey_df.info()"
   ]
  },
  {
   "cell_type": "code",
   "execution_count": 4,
   "metadata": {},
   "outputs": [
    {
     "data": {
      "text/plain": [
       "cntry      0.000000\n",
       "idno       0.000000\n",
       "year       0.000000\n",
       "tvtot      0.093088\n",
       "ppltrst    0.162904\n",
       "pplfair    0.453805\n",
       "pplhlp     0.290901\n",
       "happy      0.360717\n",
       "sclmeet    0.174540\n",
       "sclact     1.093786\n",
       "gndr       0.116360\n",
       "agea       2.781010\n",
       "partner    0.197812\n",
       "dtype: float64"
      ]
     },
     "execution_count": 4,
     "metadata": {},
     "output_type": "execute_result"
    }
   ],
   "source": [
    "#check for missing data\n",
    "survey_df.isnull().sum()*100/survey_df.isnull().count()"
   ]
  },
  {
   "cell_type": "markdown",
   "metadata": {},
   "source": [
    "I will replace the missing values with the mean for each variable."
   ]
  },
  {
   "cell_type": "code",
   "execution_count": 5,
   "metadata": {},
   "outputs": [],
   "source": [
    "#replace missing values with column means\n",
    "fill = ['tvtot', 'ppltrst', 'pplfair', 'pplhlp', 'happy', 'sclmeet', 'sclact', 'gndr', 'agea', 'partner']\n",
    "for col in fill:\n",
    "    survey_df.loc[:, col].fillna(survey_df.loc[:, col].mean(), inplace=True)"
   ]
  },
  {
   "cell_type": "markdown",
   "metadata": {},
   "source": [
    "# 1\n",
    "\n",
    "Did people become less trusting from 2012 to 2014? Compute results for each country in the sample."
   ]
  },
  {
   "cell_type": "code",
   "execution_count": 6,
   "metadata": {},
   "outputs": [],
   "source": [
    "#select data for Switzerland\n",
    "survey_df_CH = survey_df[survey_df['cntry'] == 'CH']\n",
    "survey_df_CH_12 = survey_df_CH[survey_df_CH['year'] == 6]\n",
    "survey_df_CH_14 = survey_df_CH[survey_df_CH['year'] == 7]"
   ]
  },
  {
   "cell_type": "code",
   "execution_count": 7,
   "metadata": {},
   "outputs": [
    {
     "name": "stdout",
     "output_type": "stream",
     "text": [
      "2012 mean:  5.677878395860285\n",
      "2014 mean:  5.751617076326003\n"
     ]
    },
    {
     "data": {
      "image/png": "[encoded data removed]",
      "text/plain": [
       "<Figure size 360x360 with 1 Axes>"
      ]
     },
     "metadata": {
      "needs_background": "light"
     },
     "output_type": "display_data"
    }
   ],
   "source": [
    "#Switzerland means and boxplot by year\n",
    "print('2012 mean: ', survey_df_CH_12['ppltrst'].mean())\n",
    "print('2014 mean: ', survey_df_CH_14['ppltrst'].mean())\n",
    "\n",
    "sns.catplot(x='year', y= 'ppltrst', kind='box', data= survey_df_CH)\n",
    "plt.xlabel('Year')\n",
    "plt.ylabel('Trust')\n",
    "plt.title('Trust by Year - Switzerland')\n",
    "plt.show()"
   ]
  },
  {
   "cell_type": "code",
   "execution_count": 8,
   "metadata": {},
   "outputs": [
    {
     "data": {
      "image/png": "[encoded data removed]",
      "text/plain": [
       "<Figure size 432x288 with 2 Axes>"
      ]
     },
     "metadata": {
      "needs_background": "light"
     },
     "output_type": "display_data"
    }
   ],
   "source": [
    "#distribution of trust by year\n",
    "plt.subplot(1, 2, 1)\n",
    "sns.distplot(survey_df_CH_12['ppltrst'], kde = False, color = '#80013f')\n",
    "plt.title('2012 Trust - Switzerland')\n",
    "plt.subplot(1, 2, 2)\n",
    "sns.distplot(survey_df_CH_14['ppltrst'], kde = False, color = '#10a674')\n",
    "plt.title('2014 Trust - Switzerland')\n",
    "plt.show()"
   ]
  },
  {
   "cell_type": "markdown",
   "metadata": {},
   "source": [
    "Since this data is from two different years in the same country, we will assume that the survey went to the same people for both years of the survey, and therefore that the two groups are dependent. The distributions are similar to a normal distribution with most of the data concentrated towards the center. Thus, we will use a t-test for paired samples."
   ]
  },
  {
   "cell_type": "code",
   "execution_count": 9,
   "metadata": {},
   "outputs": [
    {
     "data": {
      "text/plain": [
       "Ttest_relResult(statistic=-0.6586851756725737, pvalue=0.5102943511301135)"
      ]
     },
     "execution_count": 9,
     "metadata": {},
     "output_type": "execute_result"
    }
   ],
   "source": [
    "stats.ttest_rel(survey_df_CH_12['ppltrst'], survey_df_CH_14['ppltrst'])"
   ]
  },
  {
   "cell_type": "markdown",
   "metadata": {},
   "source": [
    "There was no significant difference in how trusting people were in Switzerland between 2012 and 2014."
   ]
  },
  {
   "cell_type": "code",
   "execution_count": 10,
   "metadata": {},
   "outputs": [],
   "source": [
    "#select data for Czech Republic\n",
    "survey_df_CZ = survey_df[survey_df['cntry'] == 'CZ']\n",
    "survey_df_CZ_12 = survey_df_CZ[survey_df_CZ['year'] == 6]\n",
    "survey_df_CZ_14 = survey_df_CZ[survey_df_CZ['year'] == 7]"
   ]
  },
  {
   "cell_type": "code",
   "execution_count": 11,
   "metadata": {},
   "outputs": [
    {
     "name": "stdout",
     "output_type": "stream",
     "text": [
      "4.3752573667467285\n",
      "4.426382837021135\n"
     ]
    },
    {
     "data": {
      "image/png": "[encoded data removed]",
      "text/plain": [
       "<Figure size 360x360 with 1 Axes>"
      ]
     },
     "metadata": {
      "needs_background": "light"
     },
     "output_type": "display_data"
    }
   ],
   "source": [
    "#means and boxplot by year\n",
    "print(survey_df_CZ_12['ppltrst'].mean())\n",
    "print(survey_df_CZ_14['ppltrst'].mean())\n",
    "\n",
    "sns.catplot(x='year', y= 'ppltrst', kind='box', data= survey_df_CZ)\n",
    "plt.xlabel('Year')\n",
    "plt.ylabel('Trust')\n",
    "plt.title('Trust by Year - Czech Republic')\n",
    "plt.show()"
   ]
  },
  {
   "cell_type": "code",
   "execution_count": 12,
   "metadata": {},
   "outputs": [
    {
     "data": {
      "image/png": "[encoded data removed]",
      "text/plain": [
       "<Figure size 432x288 with 2 Axes>"
      ]
     },
     "metadata": {
      "needs_background": "light"
     },
     "output_type": "display_data"
    }
   ],
   "source": [
    "#histograms of trust by year\n",
    "plt.subplot(1, 2, 1)\n",
    "sns.distplot(survey_df_CZ_12['ppltrst'], kde = False, color = '#80013f')\n",
    "plt.title('2012 Trust - Czech Republic')\n",
    "plt.subplot(1, 2, 2)\n",
    "sns.distplot(survey_df_CZ_14['ppltrst'], kde = False, color = '#10a674')\n",
    "plt.title('2014 Trust - Czech Republic')\n",
    "plt.show()"
   ]
  },
  {
   "cell_type": "code",
   "execution_count": 13,
   "metadata": {},
   "outputs": [
    {
     "data": {
      "text/plain": [
       "Ttest_relResult(statistic=-0.3806726938653253, pvalue=0.7035691821557306)"
      ]
     },
     "execution_count": 13,
     "metadata": {},
     "output_type": "execute_result"
    }
   ],
   "source": [
    "stats.ttest_rel(survey_df_CZ_12['ppltrst'], survey_df_CZ_14['ppltrst'])"
   ]
  },
  {
   "cell_type": "markdown",
   "metadata": {},
   "source": [
    "There was no significant difference in how trusting people in the Czech Republic were between 2012 and 2014."
   ]
  },
  {
   "cell_type": "code",
   "execution_count": 14,
   "metadata": {},
   "outputs": [],
   "source": [
    "#select data for Germany\n",
    "survey_df_DE = survey_df[survey_df['cntry'] == 'DE']\n",
    "survey_df_DE_12 = survey_df_DE[survey_df_DE['year'] == 6]\n",
    "survey_df_DE_14 = survey_df_DE[survey_df_DE['year'] == 7]"
   ]
  },
  {
   "cell_type": "code",
   "execution_count": 15,
   "metadata": {},
   "outputs": [
    {
     "name": "stdout",
     "output_type": "stream",
     "text": [
      "5.214285714285714\n",
      "5.357142857142857\n"
     ]
    },
    {
     "data": {
      "image/png": "[encoded data removed]",
      "text/plain": [
       "<Figure size 360x360 with 1 Axes>"
      ]
     },
     "metadata": {
      "needs_background": "light"
     },
     "output_type": "display_data"
    }
   ],
   "source": [
    "#means and boxplot by year\n",
    "print(survey_df_DE_12['ppltrst'].mean())\n",
    "print(survey_df_DE_14['ppltrst'].mean())\n",
    "\n",
    "sns.catplot(x='year', y= 'ppltrst', kind='box', data= survey_df_DE)\n",
    "plt.xlabel('Year')\n",
    "plt.ylabel('Trust')\n",
    "plt.title('Trust by Year - Germany')\n",
    "plt.show()"
   ]
  },
  {
   "cell_type": "code",
   "execution_count": 16,
   "metadata": {},
   "outputs": [
    {
     "data": {
      "image/png": "[encoded data removed]",
      "text/plain": [
       "<Figure size 432x288 with 2 Axes>"
      ]
     },
     "metadata": {
      "needs_background": "light"
     },
     "output_type": "display_data"
    }
   ],
   "source": [
    "#histograms of trust by year\n",
    "plt.subplot(1, 2, 1)\n",
    "sns.distplot(survey_df_DE_12['ppltrst'], kde = False, color = '#80013f')\n",
    "plt.title('2012 Trust - Germany')\n",
    "plt.subplot(1, 2, 2)\n",
    "sns.distplot(survey_df_DE_14['ppltrst'], kde = False, color = '#10a674')\n",
    "plt.title('2014 Trust - Germany')\n",
    "plt.show()"
   ]
  },
  {
   "cell_type": "code",
   "execution_count": 17,
   "metadata": {},
   "outputs": [
    {
     "data": {
      "text/plain": [
       "Ttest_relResult(statistic=-0.18399501804849683, pvalue=0.8568563797095805)"
      ]
     },
     "execution_count": 17,
     "metadata": {},
     "output_type": "execute_result"
    }
   ],
   "source": [
    "stats.ttest_rel(survey_df_DE_12['ppltrst'], survey_df_DE_14['ppltrst'])"
   ]
  },
  {
   "cell_type": "markdown",
   "metadata": {},
   "source": [
    "There was no significant difference in how trusting people were in Germany between 2012 and 2014."
   ]
  },
  {
   "cell_type": "code",
   "execution_count": 18,
   "metadata": {},
   "outputs": [],
   "source": [
    "#select data for Spain\n",
    "survey_df_ES = survey_df[survey_df['cntry'] == 'ES']\n",
    "survey_df_ES_12 = survey_df_ES[survey_df_ES['year'] == 6]\n",
    "survey_df_ES_14 = survey_df_ES[survey_df_ES['year'] == 7]"
   ]
  },
  {
   "cell_type": "code",
   "execution_count": 19,
   "metadata": {},
   "outputs": [
    {
     "name": "stdout",
     "output_type": "stream",
     "text": [
      "5.114591920857379\n",
      "4.896224083693169\n"
     ]
    },
    {
     "data": {
      "image/png": "[encoded data removed]",
      "text/plain": [
       "<Figure size 360x360 with 1 Axes>"
      ]
     },
     "metadata": {
      "needs_background": "light"
     },
     "output_type": "display_data"
    }
   ],
   "source": [
    "#means and boxplot by year\n",
    "print(survey_df_ES_12['ppltrst'].mean())\n",
    "print(survey_df_ES_14['ppltrst'].mean())\n",
    "\n",
    "sns.catplot(x='year', y= 'ppltrst', kind='box', data= survey_df_ES)\n",
    "plt.xlabel('Year')\n",
    "plt.ylabel('Trust')\n",
    "plt.title('Trust by Year - Spain')\n",
    "plt.show()"
   ]
  },
  {
   "cell_type": "code",
   "execution_count": 20,
   "metadata": {},
   "outputs": [
    {
     "data": {
      "image/png": "[encoded data removed]",
      "text/plain": [
       "<Figure size 432x288 with 2 Axes>"
      ]
     },
     "metadata": {
      "needs_background": "light"
     },
     "output_type": "display_data"
    }
   ],
   "source": [
    "#histograms of trust by year\n",
    "plt.subplot(1, 2, 1)\n",
    "sns.distplot(survey_df_ES_12['ppltrst'], kde = False, color = '#80013f')\n",
    "plt.title('2012 Trust - Spain')\n",
    "plt.subplot(1, 2, 2)\n",
    "sns.distplot(survey_df_ES_14['ppltrst'], kde = False, color = '#10a674')\n",
    "plt.title('2014 Trust - Spain')\n",
    "plt.show()"
   ]
  },
  {
   "cell_type": "code",
   "execution_count": 21,
   "metadata": {},
   "outputs": [
    {
     "data": {
      "text/plain": [
       "Ttest_relResult(statistic=2.4735850532737875, pvalue=0.013512727333085083)"
      ]
     },
     "execution_count": 21,
     "metadata": {},
     "output_type": "execute_result"
    }
   ],
   "source": [
    "stats.ttest_rel(survey_df_ES_12['ppltrst'], survey_df_ES_14['ppltrst'])"
   ]
  },
  {
   "cell_type": "markdown",
   "metadata": {},
   "source": [
    "People in Spain became less trusting between 2012 and 2014."
   ]
  },
  {
   "cell_type": "code",
   "execution_count": 22,
   "metadata": {},
   "outputs": [],
   "source": [
    "#select data for Norway\n",
    "survey_df_NO = survey_df[survey_df['cntry'] == 'NO']\n",
    "survey_df_NO_12 = survey_df_NO[survey_df_NO['year'] == 6]\n",
    "survey_df_NO_14 = survey_df_NO[survey_df_NO['year'] == 7]"
   ]
  },
  {
   "cell_type": "code",
   "execution_count": 23,
   "metadata": {},
   "outputs": [
    {
     "name": "stdout",
     "output_type": "stream",
     "text": [
      "6.647824769849394\n",
      "6.597209174774155\n"
     ]
    },
    {
     "data": {
      "image/png": "[encoded data removed]",
      "text/plain": [
       "<Figure size 360x360 with 1 Axes>"
      ]
     },
     "metadata": {
      "needs_background": "light"
     },
     "output_type": "display_data"
    }
   ],
   "source": [
    "#means and boxplot by year\n",
    "print(survey_df_NO_12['ppltrst'].mean())\n",
    "print(survey_df_NO_14['ppltrst'].mean())\n",
    "\n",
    "sns.catplot(x='year', y= 'ppltrst', kind='box', data= survey_df_NO)\n",
    "plt.xlabel('Year')\n",
    "plt.ylabel('Trust')\n",
    "plt.title('Trust by Year - Norway')\n",
    "plt.show()"
   ]
  },
  {
   "cell_type": "code",
   "execution_count": 24,
   "metadata": {},
   "outputs": [
    {
     "data": {
      "image/png": "[encoded data removed]",
      "text/plain": [
       "<Figure size 432x288 with 2 Axes>"
      ]
     },
     "metadata": {
      "needs_background": "light"
     },
     "output_type": "display_data"
    }
   ],
   "source": [
    "#histograms of trust by year\n",
    "plt.subplot(1, 2, 1)\n",
    "sns.distplot(survey_df_NO_12['ppltrst'], kde = False, color = '#80013f')\n",
    "plt.title('2012 Trust - Norway')\n",
    "plt.subplot(1, 2, 2)\n",
    "sns.distplot(survey_df_NO_14['ppltrst'], kde = False, color = '#10a674')\n",
    "plt.title('2014 Trust - Norway')\n",
    "plt.show()"
   ]
  },
  {
   "cell_type": "code",
   "execution_count": 25,
   "metadata": {},
   "outputs": [
    {
     "data": {
      "text/plain": [
       "Ttest_relResult(statistic=0.5359620844852665, pvalue=0.5921480165258421)"
      ]
     },
     "execution_count": 25,
     "metadata": {},
     "output_type": "execute_result"
    }
   ],
   "source": [
    "stats.ttest_rel(survey_df_NO_12['ppltrst'], survey_df_NO_14['ppltrst'])"
   ]
  },
  {
   "cell_type": "markdown",
   "metadata": {},
   "source": [
    "There was no significant difference in how trusting people in Norway were from 2012 to 2014."
   ]
  },
  {
   "cell_type": "code",
   "execution_count": 26,
   "metadata": {},
   "outputs": [],
   "source": [
    "#select data for Sweden\n",
    "survey_df_SE = survey_df[survey_df['cntry'] == 'SE']\n",
    "survey_df_SE_12 = survey_df_SE[survey_df_SE['year'] == 6]\n",
    "survey_df_SE_14 = survey_df_SE[survey_df_SE['year'] == 7]"
   ]
  },
  {
   "cell_type": "code",
   "execution_count": 27,
   "metadata": {},
   "outputs": [
    {
     "name": "stdout",
     "output_type": "stream",
     "text": [
      "6.057400675682614\n",
      "6.257709251101321\n"
     ]
    },
    {
     "data": {
      "image/png": "[encoded data removed]",
      "text/plain": [
       "<Figure size 360x360 with 1 Axes>"
      ]
     },
     "metadata": {
      "needs_background": "light"
     },
     "output_type": "display_data"
    }
   ],
   "source": [
    "#means and boxplot by year\n",
    "print(survey_df_SE_12['ppltrst'].mean())\n",
    "print(survey_df_SE_14['ppltrst'].mean())\n",
    "\n",
    "sns.catplot(x='year', y= 'ppltrst', kind='box', data= survey_df_SE)\n",
    "plt.xlabel('Year')\n",
    "plt.ylabel('Trust')\n",
    "plt.title('Trust by Year - Sweden')\n",
    "plt.show()"
   ]
  },
  {
   "cell_type": "code",
   "execution_count": 28,
   "metadata": {},
   "outputs": [
    {
     "data": {
      "image/png": "[encoded data removed]",
      "text/plain": [
       "<Figure size 432x288 with 2 Axes>"
      ]
     },
     "metadata": {
      "needs_background": "light"
     },
     "output_type": "display_data"
    }
   ],
   "source": [
    "#histograms of trust by year\n",
    "plt.subplot(1, 2, 1)\n",
    "sns.distplot(survey_df_SE_12['ppltrst'], kde = False, color = '#80013f')\n",
    "plt.title('2012 Trust - Sweden')\n",
    "plt.subplot(1, 2, 2)\n",
    "sns.distplot(survey_df_SE_14['ppltrst'], kde = False, color = '#10a674')\n",
    "plt.title('2014 Trust - Sweden')\n",
    "plt.show()"
   ]
  },
  {
   "cell_type": "code",
   "execution_count": 29,
   "metadata": {},
   "outputs": [
    {
     "data": {
      "text/plain": [
       "Ttest_relResult(statistic=-2.0879313873469765, pvalue=0.037082509549775954)"
      ]
     },
     "execution_count": 29,
     "metadata": {},
     "output_type": "execute_result"
    }
   ],
   "source": [
    "stats.ttest_rel(survey_df_SE_12['ppltrst'], survey_df_SE_14['ppltrst'])"
   ]
  },
  {
   "cell_type": "markdown",
   "metadata": {},
   "source": [
    "People became slightly more trusting in Sweden between 2012 and 2014.\n",
    "\n",
    "Overall, there was not a significant change in how trusting people were between 2012 and 2014, but people became slightly more trusting in Spain and slightly less trusting in Sweden."
   ]
  },
  {
   "cell_type": "markdown",
   "metadata": {},
   "source": [
    "## 2\n",
    "\n",
    "Did people become happier from 2012 to 2014? Compute results for each country in the sample."
   ]
  },
  {
   "cell_type": "code",
   "execution_count": 30,
   "metadata": {},
   "outputs": [
    {
     "name": "stdout",
     "output_type": "stream",
     "text": [
      "2012 mean:  8.086783763413065\n",
      "2014 mean:  8.116429495472186\n"
     ]
    },
    {
     "data": {
      "image/png": "[encoded data removed]",
      "text/plain": [
       "<Figure size 360x360 with 1 Axes>"
      ]
     },
     "metadata": {
      "needs_background": "light"
     },
     "output_type": "display_data"
    }
   ],
   "source": [
    "#Switzerland means and boxplot by year\n",
    "print('2012 mean: ', survey_df_CH_12['happy'].mean())\n",
    "print('2014 mean: ', survey_df_CH_14['happy'].mean())\n",
    "\n",
    "sns.catplot(x='year', y= 'happy', kind='box', data= survey_df_CH)\n",
    "plt.xlabel('Year')\n",
    "plt.ylabel('Happiness')\n",
    "plt.title('Happiness by Year - Switzerland')\n",
    "plt.show()"
   ]
  },
  {
   "cell_type": "code",
   "execution_count": 31,
   "metadata": {},
   "outputs": [
    {
     "data": {
      "image/png": "[encoded data removed]",
      "text/plain": [
       "<Figure size 432x288 with 2 Axes>"
      ]
     },
     "metadata": {
      "needs_background": "light"
     },
     "output_type": "display_data"
    }
   ],
   "source": [
    "#distribution of happiness by year\n",
    "plt.subplot(1, 2, 1)\n",
    "sns.distplot(survey_df_CH_12['happy'], kde = False, color = '#ff5b00')\n",
    "plt.title('2012 Happiness - Switzerland')\n",
    "plt.subplot(1, 2, 2)\n",
    "sns.distplot(survey_df_CH_14['happy'], kde = False, color = '#000133')\n",
    "plt.title('2014 Happiness - Switzerland')\n",
    "plt.show()"
   ]
  },
  {
   "cell_type": "markdown",
   "metadata": {},
   "source": [
    "Based on the assumption that the same people were surveyed each year, we have two dependent groups. This variable is not normally distributed, so we will use a Wilcoxon signed-rank test."
   ]
  },
  {
   "cell_type": "code",
   "execution_count": 32,
   "metadata": {},
   "outputs": [
    {
     "data": {
      "text/plain": [
       "WilcoxonResult(statistic=93199.5, pvalue=0.8908303608327776)"
      ]
     },
     "execution_count": 32,
     "metadata": {},
     "output_type": "execute_result"
    }
   ],
   "source": [
    "stats.wilcoxon(survey_df_CH_12['happy'], survey_df_CH_14['happy'])"
   ]
  },
  {
   "cell_type": "markdown",
   "metadata": {},
   "source": [
    "There was not a significant difference in happiness in Switzerland between 2012 and 2014."
   ]
  },
  {
   "cell_type": "code",
   "execution_count": 33,
   "metadata": {},
   "outputs": [
    {
     "name": "stdout",
     "output_type": "stream",
     "text": [
      "2012 mean:  6.78774376363708\n",
      "2014 mean:  6.921227504918844\n"
     ]
    },
    {
     "data": {
      "image/png": "[encoded data removed]",
      "text/plain": [
       "<Figure size 360x360 with 1 Axes>"
      ]
     },
     "metadata": {
      "needs_background": "light"
     },
     "output_type": "display_data"
    }
   ],
   "source": [
    "#means and boxplot by year\n",
    "print('2012 mean: ', survey_df_CZ_12['happy'].mean())\n",
    "print('2014 mean: ', survey_df_CZ_14['happy'].mean())\n",
    "\n",
    "sns.catplot(x='year', y= 'happy', kind='box', data= survey_df_CZ)\n",
    "plt.xlabel('Year')\n",
    "plt.ylabel('Happiness')\n",
    "plt.title('Happiness by Year - Czech Republic')\n",
    "plt.show()"
   ]
  },
  {
   "cell_type": "code",
   "execution_count": 34,
   "metadata": {},
   "outputs": [
    {
     "data": {
      "image/png": "[encoded data removed]",
      "text/plain": [
       "<Figure size 432x288 with 2 Axes>"
      ]
     },
     "metadata": {
      "needs_background": "light"
     },
     "output_type": "display_data"
    }
   ],
   "source": [
    "#distribution of happiness by year\n",
    "plt.subplot(1, 2, 1)\n",
    "sns.distplot(survey_df_CZ_12['happy'], kde = False, color = '#ff5b00')\n",
    "plt.title('2012 Happiness - Czech Republic')\n",
    "plt.subplot(1, 2, 2)\n",
    "sns.distplot(survey_df_CZ_14['happy'], kde = False, color = '#000133')\n",
    "plt.title('2014 Happiness - Czech Republic')\n",
    "plt.show()"
   ]
  },
  {
   "cell_type": "code",
   "execution_count": 35,
   "metadata": {},
   "outputs": [
    {
     "data": {
      "text/plain": [
       "WilcoxonResult(statistic=79039.0, pvalue=0.2756811173565926)"
      ]
     },
     "execution_count": 35,
     "metadata": {},
     "output_type": "execute_result"
    }
   ],
   "source": [
    "stats.wilcoxon(survey_df_CZ_12['happy'], survey_df_CZ_14['happy'])"
   ]
  },
  {
   "cell_type": "markdown",
   "metadata": {},
   "source": [
    "There was no significant difference in happiness in the Czech Republic from 2012 to 2014."
   ]
  },
  {
   "cell_type": "code",
   "execution_count": 36,
   "metadata": {},
   "outputs": [
    {
     "name": "stdout",
     "output_type": "stream",
     "text": [
      "2012 mean:  7.428571428571429\n",
      "2014 mean:  7.857142857142857\n"
     ]
    },
    {
     "data": {
      "image/png": "[encoded data removed]",
      "text/plain": [
       "<Figure size 360x360 with 1 Axes>"
      ]
     },
     "metadata": {
      "needs_background": "light"
     },
     "output_type": "display_data"
    }
   ],
   "source": [
    "#means and boxplot by year\n",
    "print('2012 mean: ', survey_df_DE_12['happy'].mean())\n",
    "print('2014 mean: ', survey_df_DE_14['happy'].mean())\n",
    "\n",
    "sns.catplot(x='year', y= 'happy', kind='box', data= survey_df_DE)\n",
    "plt.xlabel('Year')\n",
    "plt.ylabel('Happiness')\n",
    "plt.title('Happiness by Year - Germany')\n",
    "plt.show()"
   ]
  },
  {
   "cell_type": "code",
   "execution_count": 37,
   "metadata": {},
   "outputs": [
    {
     "data": {
      "image/png": "[encoded data removed]",
      "text/plain": [
       "<Figure size 432x288 with 2 Axes>"
      ]
     },
     "metadata": {
      "needs_background": "light"
     },
     "output_type": "display_data"
    }
   ],
   "source": [
    "#distribution of happiness by year\n",
    "plt.subplot(1, 2, 1)\n",
    "sns.distplot(survey_df_DE_12['happy'], kde = False, color = '#ff5b00')\n",
    "plt.title('2012 Happiness - Germany')\n",
    "plt.subplot(1, 2, 2)\n",
    "sns.distplot(survey_df_DE_14['happy'], kde = False, color = '#000133')\n",
    "plt.title('2014 Happiness - Germany')\n",
    "plt.show()"
   ]
  },
  {
   "cell_type": "code",
   "execution_count": 38,
   "metadata": {},
   "outputs": [
    {
     "data": {
      "text/plain": [
       "WilcoxonResult(statistic=23.5, pvalue=0.393351316918508)"
      ]
     },
     "execution_count": 38,
     "metadata": {},
     "output_type": "execute_result"
    }
   ],
   "source": [
    "stats.wilcoxon(survey_df_DE_12['happy'], survey_df_DE_14['happy'])"
   ]
  },
  {
   "cell_type": "markdown",
   "metadata": {},
   "source": [
    "There was no significant change in happiness in Germany between 2012 and 2014."
   ]
  },
  {
   "cell_type": "code",
   "execution_count": 39,
   "metadata": {},
   "outputs": [
    {
     "name": "stdout",
     "output_type": "stream",
     "text": [
      "2012 mean:  7.548800178378208\n",
      "2014 mean:  7.42019341827928\n"
     ]
    },
    {
     "data": {
      "image/png": "[encoded data removed]",
      "text/plain": [
       "<Figure size 360x360 with 1 Axes>"
      ]
     },
     "metadata": {
      "needs_background": "light"
     },
     "output_type": "display_data"
    }
   ],
   "source": [
    "#means and boxplot by year\n",
    "print('2012 mean: ', survey_df_ES_12['happy'].mean())\n",
    "print('2014 mean: ', survey_df_ES_14['happy'].mean())\n",
    "\n",
    "sns.catplot(x='year', y= 'happy', kind='box', data= survey_df_ES)\n",
    "plt.xlabel('Year')\n",
    "plt.ylabel('Happiness')\n",
    "plt.title('Happiness by Year - Spain')\n",
    "plt.show()"
   ]
  },
  {
   "cell_type": "code",
   "execution_count": 40,
   "metadata": {},
   "outputs": [
    {
     "data": {
      "image/png": "[encoded data removed]",
      "text/plain": [
       "<Figure size 432x288 with 2 Axes>"
      ]
     },
     "metadata": {
      "needs_background": "light"
     },
     "output_type": "display_data"
    }
   ],
   "source": [
    "#distribution of happiness by year\n",
    "plt.subplot(1, 2, 1)\n",
    "sns.distplot(survey_df_ES_12['happy'], kde = False, color = '#ff5b00')\n",
    "plt.title('2012 Happiness - Spain')\n",
    "plt.subplot(1, 2, 2)\n",
    "sns.distplot(survey_df_ES_14['happy'], kde = False, color = '#000133')\n",
    "plt.title('2014 Happiness - Spain')\n",
    "plt.show()"
   ]
  },
  {
   "cell_type": "code",
   "execution_count": 41,
   "metadata": {},
   "outputs": [
    {
     "data": {
      "text/plain": [
       "WilcoxonResult(statistic=232720.5, pvalue=0.05979608639061816)"
      ]
     },
     "execution_count": 41,
     "metadata": {},
     "output_type": "execute_result"
    }
   ],
   "source": [
    "stats.wilcoxon(survey_df_ES_12['happy'], survey_df_ES_14['happy'])"
   ]
  },
  {
   "cell_type": "markdown",
   "metadata": {},
   "source": [
    "There was no significant difference in happiness in Spain from 2012 to 2014."
   ]
  },
  {
   "cell_type": "code",
   "execution_count": 42,
   "metadata": {},
   "outputs": [
    {
     "name": "stdout",
     "output_type": "stream",
     "text": [
      "2012 mean:  8.248670951424167\n",
      "2014 mean:  7.9151846785225715\n"
     ]
    },
    {
     "data": {
      "image/png": "[encoded data removed]",
      "text/plain": [
       "<Figure size 360x360 with 1 Axes>"
      ]
     },
     "metadata": {
      "needs_background": "light"
     },
     "output_type": "display_data"
    }
   ],
   "source": [
    "#means and boxplot by year\n",
    "print('2012 mean: ', survey_df_NO_12['happy'].mean())\n",
    "print('2014 mean: ', survey_df_NO_14['happy'].mean())\n",
    "\n",
    "sns.catplot(x='year', y= 'happy', kind='box', data= survey_df_NO)\n",
    "plt.xlabel('Year')\n",
    "plt.ylabel('Happiness')\n",
    "plt.title('Happiness by Year - Norway')\n",
    "plt.show()"
   ]
  },
  {
   "cell_type": "code",
   "execution_count": 43,
   "metadata": {},
   "outputs": [
    {
     "data": {
      "image/png": "[encoded data removed]",
      "text/plain": [
       "<Figure size 432x288 with 2 Axes>"
      ]
     },
     "metadata": {
      "needs_background": "light"
     },
     "output_type": "display_data"
    }
   ],
   "source": [
    "#distribution of happiness by year\n",
    "plt.subplot(1, 2, 1)\n",
    "sns.distplot(survey_df_NO_12['happy'], kde = False, color = '#ff5b00')\n",
    "plt.title('2012 Happiness - Norway')\n",
    "plt.subplot(1, 2, 2)\n",
    "sns.distplot(survey_df_NO_14['happy'], kde = False, color = '#000133')\n",
    "plt.title('2014 Happiness - Norway')\n",
    "plt.show()"
   ]
  },
  {
   "cell_type": "code",
   "execution_count": 44,
   "metadata": {},
   "outputs": [
    {
     "data": {
      "text/plain": [
       "WilcoxonResult(statistic=68932.5, pvalue=1.3328464907648905e-05)"
      ]
     },
     "execution_count": 44,
     "metadata": {},
     "output_type": "execute_result"
    }
   ],
   "source": [
    "stats.wilcoxon(survey_df_NO_12['happy'], survey_df_NO_14['happy'])"
   ]
  },
  {
   "cell_type": "markdown",
   "metadata": {},
   "source": [
    "People became less happy in Norway from 2012 to 2014."
   ]
  },
  {
   "cell_type": "code",
   "execution_count": 45,
   "metadata": {},
   "outputs": [
    {
     "name": "stdout",
     "output_type": "stream",
     "text": [
      "2012 mean:  7.907152661203487\n",
      "2014 mean:  7.946127587134691\n"
     ]
    },
    {
     "data": {
      "image/png": "[encoded data removed]",
      "text/plain": [
       "<Figure size 360x360 with 1 Axes>"
      ]
     },
     "metadata": {
      "needs_background": "light"
     },
     "output_type": "display_data"
    }
   ],
   "source": [
    "#means and boxplot by year\n",
    "print('2012 mean: ', survey_df_SE_12['happy'].mean())\n",
    "print('2014 mean: ', survey_df_SE_14['happy'].mean())\n",
    "\n",
    "sns.catplot(x='year', y= 'happy', kind='box', data= survey_df_NO)\n",
    "plt.xlabel('Year')\n",
    "plt.ylabel('Happiness')\n",
    "plt.title('Happiness by Year - Sweden')\n",
    "plt.show()"
   ]
  },
  {
   "cell_type": "code",
   "execution_count": 46,
   "metadata": {},
   "outputs": [
    {
     "data": {
      "image/png": "[encoded data removed]",
      "text/plain": [
       "<Figure size 432x288 with 2 Axes>"
      ]
     },
     "metadata": {
      "needs_background": "light"
     },
     "output_type": "display_data"
    }
   ],
   "source": [
    "#distribution of happiness by year\n",
    "plt.subplot(1, 2, 1)\n",
    "sns.distplot(survey_df_SE_12['happy'], kde = False, color = '#ff5b00')\n",
    "plt.title('2012 Happiness - Sweden')\n",
    "plt.subplot(1, 2, 2)\n",
    "sns.distplot(survey_df_SE_14['happy'], kde = False, color = '#000133')\n",
    "plt.title('2014 Happiness - Sweden')\n",
    "plt.show()"
   ]
  },
  {
   "cell_type": "code",
   "execution_count": 47,
   "metadata": {},
   "outputs": [
    {
     "data": {
      "text/plain": [
       "WilcoxonResult(statistic=126893.0, pvalue=0.6924584472351083)"
      ]
     },
     "execution_count": 47,
     "metadata": {},
     "output_type": "execute_result"
    }
   ],
   "source": [
    "stats.wilcoxon(survey_df_SE_12['happy'], survey_df_SE_14['happy'])"
   ]
  },
  {
   "cell_type": "markdown",
   "metadata": {},
   "source": [
    "There was no significant difference in happiness in Sweden from 2012 to 2014.\n",
    "\n",
    "Overall, there was not a significant difference in happiness from 2012 to 2014 in 5 out of the 6 countries. The only country that saw a change in happiness was Norway, where happiness decreased."
   ]
  },
  {
   "cell_type": "markdown",
   "metadata": {},
   "source": [
    "# 3\n",
    "\n",
    "Who reported watching more TV in 2012, men or women?"
   ]
  },
  {
   "cell_type": "code",
   "execution_count": 48,
   "metadata": {},
   "outputs": [
    {
     "name": "stdout",
     "output_type": "stream",
     "text": [
      "Female mean:  3.944277159999256\n",
      "Male mean:  3.901850489265741\n"
     ]
    },
    {
     "data": {
      "image/png": "[encoded data removed]",
      "text/plain": [
       "<Figure size 360x360 with 1 Axes>"
      ]
     },
     "metadata": {
      "needs_background": "light"
     },
     "output_type": "display_data"
    }
   ],
   "source": [
    "#select 2012 data\n",
    "survey_df_12 = survey_df[survey_df['year'] == 6]\n",
    "survey_df_12_f = survey_df_12[survey_df_12['gndr'] == 2.0]\n",
    "survey_df_12_m = survey_df_12[survey_df_12['gndr'] == 1.0]\n",
    "\n",
    "#get mean for each group\n",
    "print('Female mean: ', survey_df_12_f['tvtot'].mean())\n",
    "print('Male mean: ', survey_df_12_m['tvtot'].mean())\n",
    "\n",
    "sns.catplot(x='gndr', y= 'tvtot', kind='box', data= survey_df_12)\n",
    "plt.xlabel('Gender')\n",
    "plt.ylabel('TV Watching, Total Time')\n",
    "plt.title('TV Watching by Gender')\n",
    "plt.show()"
   ]
  },
  {
   "cell_type": "code",
   "execution_count": 49,
   "metadata": {},
   "outputs": [
    {
     "data": {
      "image/png": "[encoded data removed]",
      "text/plain": [
       "<Figure size 432x288 with 2 Axes>"
      ]
     },
     "metadata": {
      "needs_background": "light"
     },
     "output_type": "display_data"
    }
   ],
   "source": [
    "#distribution of happiness by year\n",
    "plt.subplot(1, 2, 1)\n",
    "sns.distplot(survey_df_12_f['tvtot'], kde = False, color = '#fe46a5')\n",
    "plt.title('2012 TV Watching - Females')\n",
    "plt.subplot(1, 2, 2)\n",
    "sns.distplot(survey_df_12_m['tvtot'], kde = False, color = '#2976bb')\n",
    "plt.title('2012 TV Watching - Males')\n",
    "plt.show()"
   ]
  },
  {
   "cell_type": "markdown",
   "metadata": {},
   "source": [
    "These are two independent groups, but the variables are not normally distributed. Therefore, I will use the Mann-Whitney U test to determine whether there is a significant difference between the two groups."
   ]
  },
  {
   "cell_type": "code",
   "execution_count": 50,
   "metadata": {},
   "outputs": [
    {
     "data": {
      "text/plain": [
       "MannwhitneyuResult(statistic=2277416.0, pvalue=0.22352009375447118)"
      ]
     },
     "execution_count": 50,
     "metadata": {},
     "output_type": "execute_result"
    }
   ],
   "source": [
    "stats.mannwhitneyu(survey_df_12_f['tvtot'], survey_df_12_m['tvtot'])"
   ]
  },
  {
   "cell_type": "markdown",
   "metadata": {},
   "source": [
    "The p-value of this test was greater than 0.05, which indicates that it is unlikely that there is a significant difference between the amount of time spent watching tv by men and women in 2012."
   ]
  },
  {
   "cell_type": "markdown",
   "metadata": {},
   "source": [
    "# 4\n",
    "\n",
    "Who was more likely to believe people were fair in 2012, people living with a partner or people living alone?"
   ]
  },
  {
   "cell_type": "code",
   "execution_count": 51,
   "metadata": {},
   "outputs": [
    {
     "name": "stdout",
     "output_type": "stream",
     "text": [
      "Partner mean:  6.080425046784697\n",
      "No partner mean:  5.857698728668892\n"
     ]
    },
    {
     "data": {
      "image/png": "[encoded data removed]",
      "text/plain": [
       "<Figure size 360x360 with 1 Axes>"
      ]
     },
     "metadata": {
      "needs_background": "light"
     },
     "output_type": "display_data"
    }
   ],
   "source": [
    "#get data for each group\n",
    "survey_df_12_part = survey_df_12[survey_df_12['partner'] == 1.0]\n",
    "survey_df_12_no_part = survey_df_12[survey_df_12['partner'] == 2.0]\n",
    "\n",
    "#print mean for each group\n",
    "print('Partner mean: ', survey_df_12_part['pplfair'].mean())\n",
    "print('No partner mean: ', survey_df_12_no_part['pplfair'].mean())\n",
    "\n",
    "#print boxplot by group\n",
    "sns.catplot(x='partner', y= 'pplfair', kind='box', data= survey_df_12)\n",
    "plt.xlabel('Partner')\n",
    "plt.ylabel('Fairness')\n",
    "plt.title('Fairness by Existance of Partner')\n",
    "plt.show()"
   ]
  },
  {
   "cell_type": "code",
   "execution_count": 52,
   "metadata": {},
   "outputs": [
    {
     "data": {
      "image/png": "[encoded data removed]",
      "text/plain": [
       "<Figure size 432x288 with 2 Axes>"
      ]
     },
     "metadata": {
      "needs_background": "light"
     },
     "output_type": "display_data"
    }
   ],
   "source": [
    "#distribution of fairness by presence of a partner\n",
    "plt.subplot(1, 2, 1)\n",
    "sns.distplot(survey_df_12_part['pplfair'], kde = False, color = '#2138ab')\n",
    "plt.title('2012 Fairness - Partner')\n",
    "plt.subplot(1, 2, 2)\n",
    "sns.distplot(survey_df_12_no_part['pplfair'], kde = False, color = '#720058')\n",
    "plt.title('2012 Fairness - No Partner')\n",
    "plt.show()"
   ]
  },
  {
   "cell_type": "markdown",
   "metadata": {},
   "source": [
    "These are two independent groups, since a person cannot both have a partner and not have a partner at the same time. This variable is fairly close to a normal distribution, with most of the data located towards the mean, and less of the data located towards the ends. Therefore, we will use the t-test for independent samples to compare the two groups."
   ]
  },
  {
   "cell_type": "code",
   "execution_count": 53,
   "metadata": {},
   "outputs": [
    {
     "data": {
      "text/plain": [
       "Ttest_indResult(statistic=3.3196342169381756, pvalue=0.0009088839089194009)"
      ]
     },
     "execution_count": 53,
     "metadata": {},
     "output_type": "execute_result"
    }
   ],
   "source": [
    "stats.ttest_ind(survey_df_12_part['pplfair'], survey_df_12_no_part['pplfair'])"
   ]
  },
  {
   "cell_type": "markdown",
   "metadata": {},
   "source": [
    "The p-value for this test is less than 0.05, which indicates that there is a significant difference between the means of the two groups. People who lived with a partner were more likely to think people were fair than people who did not live with a partner."
   ]
  },
  {
   "cell_type": "markdown",
   "metadata": {},
   "source": [
    "# 5\n",
    "\n",
    "Pick three or four of the countries in the sample and compare how often people met socially in 2014. Are there differences, and if so, which countries stand out?"
   ]
  },
  {
   "cell_type": "code",
   "execution_count": 54,
   "metadata": {},
   "outputs": [],
   "source": [
    "#select data for 2014 for Switzerland, Czech Republic, Germany, and Sweden\n",
    "survey_df_14 = survey_df[survey_df['year'] == 7]\n",
    "survey_df_14_CH = survey_df_14[survey_df_14['cntry'] == 'CH']\n",
    "survey_df_14_CZ = survey_df_14[survey_df_14['cntry'] == 'CZ']\n",
    "survey_df_14_DE = survey_df_14[survey_df_14['cntry'] == 'DE']\n",
    "survey_df_14_SE = survey_df_14[survey_df_14['cntry'] == 'SE']"
   ]
  },
  {
   "cell_type": "code",
   "execution_count": 55,
   "metadata": {},
   "outputs": [
    {
     "name": "stdout",
     "output_type": "stream",
     "text": [
      "Switzerland mean:  5.160663083099364\n",
      "Czech Republic mean:  4.449206215360829\n",
      "Germany mean:  4.428571428571429\n",
      "Sweden mean:  5.426211453744493\n"
     ]
    },
    {
     "data": {
      "image/png": "[encoded data removed]",
      "text/plain": [
       "<Figure size 360x360 with 1 Axes>"
      ]
     },
     "metadata": {
      "needs_background": "light"
     },
     "output_type": "display_data"
    }
   ],
   "source": [
    "print('Switzerland mean: ', survey_df_14_CH['sclmeet'].mean())\n",
    "print('Czech Republic mean: ', survey_df_14_CZ['sclmeet'].mean())\n",
    "print('Germany mean: ', survey_df_14_DE['sclmeet'].mean())\n",
    "print('Sweden mean: ', survey_df_14_SE['sclmeet'].mean())\n",
    "\n",
    "sns.catplot(x='cntry', y= 'sclmeet', kind='box', data= survey_df_14)\n",
    "plt.xlabel('Country')\n",
    "plt.ylabel('Social Meetings')\n",
    "plt.title('Social Meetings by Country')\n",
    "plt.show()"
   ]
  },
  {
   "cell_type": "code",
   "execution_count": 56,
   "metadata": {},
   "outputs": [
    {
     "data": {
      "image/png": "[encoded data removed]",
      "text/plain": [
       "<Figure size 2160x720 with 4 Axes>"
      ]
     },
     "metadata": {
      "needs_background": "light"
     },
     "output_type": "display_data"
    }
   ],
   "source": [
    "#distribution of happiness by year\n",
    "plt.figure(figsize=(30,10))\n",
    "plt.subplot(1, 4, 1)\n",
    "sns.distplot(survey_df_14_CH['sclmeet'], kde = False, color = '#ff028d')\n",
    "plt.title('2014 Social Meetings - Switzerland')\n",
    "plt.subplot(1, 4, 2)\n",
    "sns.distplot(survey_df_14_CZ['sclmeet'], kde = False, color = '#4b006e')\n",
    "plt.title('2014 Social Meetings - Czech Republic')\n",
    "plt.subplot(1, 4, 3)\n",
    "sns.distplot(survey_df_14_DE['sclmeet'], kde = False, color = '#0652ff')\n",
    "plt.title('2014 Social Meetings - Germany')\n",
    "plt.subplot(1, 4, 4)\n",
    "sns.distplot(survey_df_14_SE['sclmeet'], kde = False, color = '#11875d')\n",
    "plt.title('2014 Social Meetings - Sweden')\n",
    "plt.show()"
   ]
  },
  {
   "cell_type": "markdown",
   "metadata": {},
   "source": [
    "These groups are all independent, since a person can only live in one country at a time. This variable is not normally distributed. Since we have four groups, we will use Mood's median test to compare all of the groups and then use a Mann-Whitney U Test to compare each of the groups with each of the other groups. "
   ]
  },
  {
   "cell_type": "code",
   "execution_count": 57,
   "metadata": {},
   "outputs": [
    {
     "data": {
      "text/plain": [
       "(159.60474335042397, 2.230638721231956e-34, 5.0, array([[392, 180,   1, 527],\n",
       "        [381, 478,  13, 381]], dtype=int64))"
      ]
     },
     "execution_count": 57,
     "metadata": {},
     "output_type": "execute_result"
    }
   ],
   "source": [
    "stats.median_test(survey_df_14_CH['sclmeet'], survey_df_14_CZ['sclmeet'], survey_df_14_DE['sclmeet'], \n",
    "                  survey_df_14_SE['sclmeet'])"
   ]
  },
  {
   "cell_type": "code",
   "execution_count": 58,
   "metadata": {},
   "outputs": [
    {
     "name": "stdout",
     "output_type": "stream",
     "text": [
      "MannwhitneyuResult(statistic=183215.0, pvalue=4.106365100981541e-21)\n",
      "MannwhitneyuResult(statistic=3288.5, pvalue=0.004489249187130013)\n",
      "MannwhitneyuResult(statistic=306356.0, pvalue=1.7019991826412022e-06)\n"
     ]
    }
   ],
   "source": [
    "print(stats.mannwhitneyu(survey_df_14_CH['sclmeet'], survey_df_14_CZ['sclmeet']))\n",
    "print(stats.mannwhitneyu(survey_df_14_CH['sclmeet'], survey_df_14_DE['sclmeet']))\n",
    "print(stats.mannwhitneyu(survey_df_14_CH['sclmeet'], survey_df_14_SE['sclmeet']))"
   ]
  },
  {
   "cell_type": "code",
   "execution_count": 59,
   "metadata": {},
   "outputs": [
    {
     "name": "stdout",
     "output_type": "stream",
     "text": [
      "MannwhitneyuResult(statistic=4483.0, pvalue=0.43084410418984737)\n",
      "MannwhitneyuResult(statistic=188319.0, pvalue=1.0581320775763484e-37)\n"
     ]
    }
   ],
   "source": [
    "print(stats.mannwhitneyu(survey_df_14_CZ['sclmeet'], survey_df_14_DE['sclmeet']))\n",
    "print(stats.mannwhitneyu(survey_df_14_CZ['sclmeet'], survey_df_14_SE['sclmeet']))"
   ]
  },
  {
   "cell_type": "code",
   "execution_count": 60,
   "metadata": {},
   "outputs": [
    {
     "name": "stdout",
     "output_type": "stream",
     "text": [
      "MannwhitneyuResult(statistic=3355.0, pvalue=0.000873548057175828)\n"
     ]
    }
   ],
   "source": [
    "print(stats.mannwhitneyu(survey_df_14_DE['sclmeet'], survey_df_14_SE['sclmeet']))"
   ]
  },
  {
   "cell_type": "markdown",
   "metadata": {},
   "source": [
    "Mood's median test showed that there was a difference between the four groups. The Mann-Whitney U Test showed differences between each pair of countries except for the Czech Republic and Germany. People met most often in Sweden, followed by Switzerland, followed by Czech Republic and Germany."
   ]
  },
  {
   "cell_type": "markdown",
   "metadata": {},
   "source": [
    "## 6\n",
    "\n",
    "Pick three or four of the countries in the sample and compare how often people took part in social activities, relative to others their age, in 2014. Are there differences, and if so, which countries stand out?"
   ]
  },
  {
   "cell_type": "code",
   "execution_count": 61,
   "metadata": {},
   "outputs": [
    {
     "name": "stdout",
     "output_type": "stream",
     "text": [
      "Switzerland mean:  2.781360322654289\n",
      "Czech Republic mean:  2.703634543178974\n",
      "Germany mean:  2.7142857142857144\n",
      "Spain mean:  2.6199260947577705\n"
     ]
    },
    {
     "data": {
      "image/png": "[encoded data removed]",
      "text/plain": [
       "<Figure size 360x360 with 1 Axes>"
      ]
     },
     "metadata": {
      "needs_background": "light"
     },
     "output_type": "display_data"
    }
   ],
   "source": [
    "survey_df_14_ES = survey_df_14[survey_df_14['cntry'] == 'ES']\n",
    "print('Switzerland mean: ', survey_df_14_CH['sclact'].mean())\n",
    "print('Czech Republic mean: ', survey_df_14_CZ['sclact'].mean())\n",
    "print('Germany mean: ', survey_df_14_DE['sclact'].mean())\n",
    "print('Spain mean: ', survey_df_14_ES['sclact'].mean())\n",
    "\n",
    "sns.catplot(x='cntry', y= 'sclact', kind='box', data= survey_df_14)\n",
    "plt.xlabel('Country')\n",
    "plt.ylabel('Social Activities')\n",
    "plt.title('Social Activities by Country')\n",
    "plt.show()"
   ]
  },
  {
   "cell_type": "code",
   "execution_count": 62,
   "metadata": {},
   "outputs": [
    {
     "data": {
      "image/png": "[encoded data removed]",
      "text/plain": [
       "<Figure size 2160x720 with 4 Axes>"
      ]
     },
     "metadata": {
      "needs_background": "light"
     },
     "output_type": "display_data"
    }
   ],
   "source": [
    "#distribution of happiness by year\n",
    "plt.figure(figsize=(30,10))\n",
    "plt.subplot(1, 4, 1)\n",
    "sns.distplot(survey_df_14_CH['sclact'], kde = False, color = '#ffa62b')\n",
    "plt.title('2014 Social Activities - Switzerland')\n",
    "plt.subplot(1, 4, 2)\n",
    "sns.distplot(survey_df_14_CZ['sclact'], kde = False, color = '#fe0002')\n",
    "plt.title('2014 Social Activities - Czech Republic')\n",
    "plt.subplot(1, 4, 3)\n",
    "sns.distplot(survey_df_14_DE['sclact'], kde = False, color = '#f5bf03')\n",
    "plt.title('2014 Social Activities - Germany')\n",
    "plt.subplot(1, 4, 4)\n",
    "sns.distplot(survey_df_14_ES['sclact'], kde = False, color = '#fe4b03')\n",
    "plt.title('2014 Social Activities - Spain')\n",
    "plt.show()"
   ]
  },
  {
   "cell_type": "markdown",
   "metadata": {},
   "source": [
    "Since a person cannot live in more than one country at once, these groups are independent. The groups are fairly normally distributed, with most of the data concentrated towards the mean and less data on either end. Since we have more than two groups, we will start with a one-way ANOVA and then compare the groups pairwise using t-tests."
   ]
  },
  {
   "cell_type": "code",
   "execution_count": 63,
   "metadata": {},
   "outputs": [
    {
     "data": {
      "text/plain": [
       "F_onewayResult(statistic=5.062044017308539, pvalue=0.0016962772272038663)"
      ]
     },
     "execution_count": 63,
     "metadata": {},
     "output_type": "execute_result"
    }
   ],
   "source": [
    "stats.f_oneway(survey_df_14_CH['sclact'], survey_df_14_CZ['sclact'], survey_df_14_DE['sclact'], survey_df_14_ES['sclact'])"
   ]
  },
  {
   "cell_type": "code",
   "execution_count": 64,
   "metadata": {},
   "outputs": [
    {
     "name": "stdout",
     "output_type": "stream",
     "text": [
      "Ttest_indResult(statistic=1.6654627801911122, pvalue=0.09603965267664333)\n",
      "Ttest_indResult(statistic=0.27473605754923935, pvalue=0.783591314562264)\n",
      "Ttest_indResult(statistic=3.7749105195874604, pvalue=0.00016476909025929954)\n"
     ]
    }
   ],
   "source": [
    "print(stats.ttest_ind(survey_df_14_CH['sclact'], survey_df_14_CZ['sclact']))\n",
    "print(stats.ttest_ind(survey_df_14_CH['sclact'], survey_df_14_DE['sclact']))\n",
    "print(stats.ttest_ind(survey_df_14_CH['sclact'], survey_df_14_ES['sclact']))"
   ]
  },
  {
   "cell_type": "code",
   "execution_count": 65,
   "metadata": {},
   "outputs": [
    {
     "name": "stdout",
     "output_type": "stream",
     "text": [
      "Ttest_indResult(statistic=-0.04675895844664183, pvalue=0.9627192732205789)\n",
      "Ttest_indResult(statistic=1.9008180262458867, pvalue=0.05747955752757104)\n"
     ]
    }
   ],
   "source": [
    "print(stats.ttest_ind(survey_df_14_CZ['sclact'], survey_df_14_DE['sclact']))\n",
    "print(stats.ttest_ind(survey_df_14_CZ['sclact'], survey_df_14_ES['sclact']))"
   ]
  },
  {
   "cell_type": "code",
   "execution_count": 66,
   "metadata": {},
   "outputs": [
    {
     "name": "stdout",
     "output_type": "stream",
     "text": [
      "Ttest_indResult(statistic=0.3732781905877244, pvalue=0.7090059903476165)\n"
     ]
    }
   ],
   "source": [
    "print(stats.ttest_ind(survey_df_14_DE['sclact'], survey_df_14_ES['sclact']))"
   ]
  }
 ],
 "metadata": {
  "kernelspec": {
   "display_name": "Python 3",
   "language": "python",
   "name": "python3"
  },
  "language_info": {
   "codemirror_mode": {
    "name": "ipython",
    "version": 3
   },
   "file_extension": ".py",
   "mimetype": "text/x-python",
   "name": "python",
   "nbconvert_exporter": "python",
   "pygments_lexer": "ipython3",
   "version": "3.7.3"
  }
 },
 "nbformat": 4,
 "nbformat_minor": 2
}
