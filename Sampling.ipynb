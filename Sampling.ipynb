{
 "cells": [
  {
   "cell_type": "code",
   "execution_count": 5,
   "metadata": {},
   "outputs": [],
   "source": [
    "import numpy as np\n",
    "import pandas as pd\n",
    "import matplotlib.pyplot as plt\n",
    "%matplotlib inline\n",
    "from scipy.stats import ttest_ind"
   ]
  },
  {
   "cell_type": "code",
   "execution_count": 2,
   "metadata": {},
   "outputs": [
    {
     "data": {
      "image/png": "[encoded data removed]",
      "text/plain": [
       "<Figure size 432x288 with 1 Axes>"
      ]
     },
     "metadata": {
      "needs_background": "light"
     },
     "output_type": "display_data"
    },
    {
     "name": "stdout",
     "output_type": "stream",
     "text": [
      "mean1:  2.22\n",
      "mean2:  5.0\n",
      "standard deviation1:  1.4531345429794174\n",
      "standard deviation2:  1.5427248620541512\n"
     ]
    }
   ],
   "source": [
    "pop1 = np.random.binomial(10, 0.2, 10000)\n",
    "pop2 = np.random.binomial(10, 0.5, 10000)\n",
    "sample1 = np.random.choice(pop1, 100, replace=True)\n",
    "sample2 = np.random.choice(pop2, 100, replace=True)\n",
    "plt.hist(sample1, alpha=0.5, label='Population 1') \n",
    "plt.hist(sample2, alpha=0.5, label='Population 2') \n",
    "plt.legend(loc='upper right') \n",
    "plt.show()\n",
    "print(\"mean1: \", np.mean(sample1))\n",
    "print(\"mean2: \", np.mean(sample2))\n",
    "print(\"standard deviation1: \", np.std(sample1))\n",
    "print(\"standard deviation2: \", np.std(sample2))"
   ]
  },
  {
   "cell_type": "markdown",
   "metadata": {},
   "source": [
    "Increasing the sample size should keep the mean and standard deviation constant; however, if the mean and standard deviation change, they are more likely to be closer to the true mean and standard deviation."
   ]
  },
  {
   "cell_type": "code",
   "execution_count": 3,
   "metadata": {},
   "outputs": [
    {
     "data": {
      "image/png": "[encoded data removed]",
      "text/plain": [
       "<Figure size 432x288 with 1 Axes>"
      ]
     },
     "metadata": {
      "needs_background": "light"
     },
     "output_type": "display_data"
    },
    {
     "name": "stdout",
     "output_type": "stream",
     "text": [
      "mean1:  1.921\n",
      "mean2:  5.011\n",
      "standard deviation1:  1.2077909587341678\n",
      "standard deviation2:  1.5062798544759206\n"
     ]
    }
   ],
   "source": [
    "sample1 = np.random.choice(pop1, 1000, replace=True)\n",
    "sample2 = np.random.choice(pop2, 1000, replace=True)\n",
    "plt.hist(sample1, alpha=0.5, label='Population 1') \n",
    "plt.hist(sample2, alpha=0.5, label='Population 2') \n",
    "plt.legend(loc='upper right') \n",
    "plt.show()\n",
    "print(\"mean1: \", np.mean(sample1))\n",
    "print(\"mean2: \", np.mean(sample2))\n",
    "print(\"standard deviation1: \", np.std(sample1))\n",
    "print(\"standard deviation2: \", np.std(sample2))"
   ]
  },
  {
   "cell_type": "markdown",
   "metadata": {},
   "source": [
    "Decreasing the sample size makes it more likely that the mean and standard deviation will change, and are less likely to represent the true mean of the population."
   ]
  },
  {
   "cell_type": "code",
   "execution_count": 17,
   "metadata": {},
   "outputs": [
    {
     "data": {
      "image/png": "[encoded data removed]",
      "text/plain": [
       "<Figure size 432x288 with 1 Axes>"
      ]
     },
     "metadata": {
      "needs_background": "light"
     },
     "output_type": "display_data"
    },
    {
     "name": "stdout",
     "output_type": "stream",
     "text": [
      "mean1:  2.15\n",
      "mean2:  4.9\n",
      "standard deviation1:  1.3518505834595775\n",
      "standard deviation2:  1.2609520212918492\n"
     ]
    }
   ],
   "source": [
    "sample1 = np.random.choice(pop1, 20, replace=True)\n",
    "sample2 = np.random.choice(pop2, 20, replace=True)\n",
    "plt.hist(sample1, alpha=0.5, label='Population 1') \n",
    "plt.hist(sample2, alpha=0.5, label='Population 2') \n",
    "plt.legend(loc='upper right') \n",
    "plt.show()\n",
    "print(\"mean1: \", np.mean(sample1))\n",
    "print(\"mean2: \", np.mean(sample2))\n",
    "print(\"standard deviation1: \", np.std(sample1))\n",
    "print(\"standard deviation2: \", np.std(sample2))"
   ]
  },
  {
   "cell_type": "code",
   "execution_count": 7,
   "metadata": {},
   "outputs": [
    {
     "name": "stdout",
     "output_type": "stream",
     "text": [
      "Ttest_indResult(statistic=7.531004852083611, pvalue=1.751619229902971e-12)\n"
     ]
    }
   ],
   "source": [
    "pop1 = np.random.binomial(10, 0.3, 10000)\n",
    "sample1 = np.random.choice(pop1, 100, replace=True)\n",
    "sample2 = np.random.choice(pop2, 100, replace=True)\n",
    "print(ttest_ind(sample2, sample1, equal_var=False))"
   ]
  },
  {
   "cell_type": "code",
   "execution_count": 8,
   "metadata": {},
   "outputs": [
    {
     "name": "stdout",
     "output_type": "stream",
     "text": [
      "Ttest_indResult(statistic=5.596559789860327, pvalue=7.255301139416586e-08)\n"
     ]
    }
   ],
   "source": [
    "pop1 = np.random.binomial(10, 0.4, 10000)\n",
    "sample1 = np.random.choice(pop1, 100, replace=True)\n",
    "sample2 = np.random.choice(pop2, 100, replace=True)\n",
    "print(ttest_ind(sample2, sample1, equal_var=False))"
   ]
  },
  {
   "cell_type": "markdown",
   "metadata": {},
   "source": [
    "Increasing the p value for pop1 decreased the t-value and increased the p-value. This makes sense because the population with the higher p value is more similar to pop2 than the population with the lower p value."
   ]
  },
  {
   "cell_type": "code",
   "execution_count": 11,
   "metadata": {},
   "outputs": [
    {
     "name": "stdout",
     "output_type": "stream",
     "text": [
      "mean1:  3.0387\n",
      "mean2:  6.0142\n",
      "standard deviation1:  1.7451081083990183\n",
      "standard deviation2:  2.4595931289544617\n"
     ]
    },
    {
     "data": {
      "image/png": "[encoded data removed]",
      "text/plain": [
       "<Figure size 432x288 with 1 Axes>"
      ]
     },
     "metadata": {
      "needs_background": "light"
     },
     "output_type": "display_data"
    },
    {
     "name": "stdout",
     "output_type": "stream",
     "text": [
      "mean1:  3.003\n",
      "mean2:  5.987\n",
      "standard deviation1:  1.7357969351280695\n",
      "standard deviation2:  2.467555673130801\n",
      "Ttest_indResult(statistic=31.262045722635808, pvalue=1.2716103322702427e-171)\n"
     ]
    }
   ],
   "source": [
    "poisson1 = np.random.poisson(3, 10000)\n",
    "poisson2 = np.random.poisson(6, 10000)\n",
    "print(\"mean1: \", np.mean(poisson1))\n",
    "print(\"mean2: \", np.mean(poisson2))\n",
    "print(\"standard deviation1: \", np.std(poisson1))\n",
    "print(\"standard deviation2: \", np.std(poisson2))\n",
    "sample1 = np.random.choice(poisson1, 1000, replace=True)\n",
    "sample2 = np.random.choice(poisson2, 1000, replace=True)\n",
    "plt.hist(sample1, alpha=0.5, label='Poisson 1') \n",
    "plt.hist(sample2, alpha=0.5, label='Poisson 2') \n",
    "plt.legend(loc='upper right') \n",
    "plt.show()\n",
    "print(\"mean1: \", np.mean(sample1))\n",
    "print(\"mean2: \", np.mean(sample2))\n",
    "print(\"standard deviation1: \", np.std(sample1))\n",
    "print(\"standard deviation2: \", np.std(sample2))\n",
    "print(ttest_ind(sample2, sample1, equal_var=False))"
   ]
  },
  {
   "cell_type": "markdown",
   "metadata": {},
   "source": [
    "The sample mean and standard deviation accurately represent the population mean and standard deviations. The large t-value and small p-value show that the difference in means is due to a real difference in populations."
   ]
  }
 ],
 "metadata": {
  "kernelspec": {
   "display_name": "Python 3",
   "language": "python",
   "name": "python3"
  },
  "language_info": {
   "codemirror_mode": {
    "name": "ipython",
    "version": 3
   },
   "file_extension": ".py",
   "mimetype": "text/x-python",
   "name": "python",
   "nbconvert_exporter": "python",
   "pygments_lexer": "ipython3",
   "version": "3.7.3"
  }
 },
 "nbformat": 4,
 "nbformat_minor": 2
}
