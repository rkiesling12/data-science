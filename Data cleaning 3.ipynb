{
 "cells": [
  {
   "cell_type": "code",
   "execution_count": 1,
   "metadata": {},
   "outputs": [],
   "source": [
    "#load packages\n",
    "import pandas as pd\n",
    "import numpy as np\n",
    "from sqlalchemy import create_engine\n",
    "import warnings\n",
    "import matplotlib.pyplot as plt\n",
    "from scipy.stats import zscore\n",
    "from scipy.stats.mstats import winsorize\n",
    "\n",
    "warnings.filterwarnings('ignore')"
   ]
  },
  {
   "cell_type": "code",
   "execution_count": 2,
   "metadata": {},
   "outputs": [],
   "source": [
    "#get data\n",
    "postgres_user = 'dsbc_student'\n",
    "postgres_pw = '7*.8G9QH21'\n",
    "postgres_host = '142.93.121.174'\n",
    "postgres_port = '5432'\n",
    "postgres_db = 'useducation'\n",
    "\n",
    "engine = create_engine('postgresql://{}:{}@{}:{}/{}'.format(\n",
    "    postgres_user, postgres_pw, postgres_host, postgres_port, postgres_db))\n",
    "\n",
    "education_df = pd.read_sql_query('select * from useducation',con=engine)\n",
    "\n",
    "engine.dispose()"
   ]
  },
  {
   "cell_type": "code",
   "execution_count": 3,
   "metadata": {},
   "outputs": [],
   "source": [
    "#replace missing values\n",
    "fill = ['ENROLL', 'TOTAL_REVENUE', 'FEDERAL_REVENUE', 'STATE_REVENUE', 'LOCAL_REVENUE', 'TOTAL_EXPENDITURE', \n",
    "        'INSTRUCTION_EXPENDITURE', 'SUPPORT_SERVICES_EXPENDITURE', 'OTHER_EXPENDITURE', 'CAPITAL_OUTLAY_EXPENDITURE',\n",
    "       'GRADES_PK_G', 'GRADES_KG_G', 'GRADES_4_G', 'GRADES_8_G', 'GRADES_12_G', 'GRADES_1_8_G', 'GRADES_9_12_G', 'GRADES_ALL_G']\n",
    "states = education_df['STATE'].unique()\n",
    "\n",
    "for state in states:\n",
    "    education_df.loc[education_df['STATE'] == state, fill] = education_df.loc[education_df['STATE'] == state, fill].interpolate()\n",
    "\n",
    "# we drop the null values after interpolation\n",
    "education_df.dropna(inplace=True)"
   ]
  },
  {
   "cell_type": "code",
   "execution_count": 4,
   "metadata": {},
   "outputs": [
    {
     "data": {
      "image/png": "[encoded data removed]",
      "text/plain": [
       "<Figure size 432x288 with 1 Axes>"
      ]
     },
     "metadata": {
      "needs_background": "light"
     },
     "output_type": "display_data"
    }
   ],
   "source": [
    "#check for outliers\n",
    "plt.boxplot(education_df['TOTAL_REVENUE'])\n",
    "plt.show()"
   ]
  },
  {
   "cell_type": "code",
   "execution_count": 5,
   "metadata": {},
   "outputs": [
    {
     "data": {
      "image/png": "[encoded data removed]",
      "text/plain": [
       "<Figure size 432x288 with 1 Axes>"
      ]
     },
     "metadata": {
      "needs_background": "light"
     },
     "output_type": "display_data"
    }
   ],
   "source": [
    "#check for outliers\n",
    "plt.boxplot(education_df['TOTAL_EXPENDITURE'])\n",
    "plt.show()"
   ]
  },
  {
   "cell_type": "code",
   "execution_count": 6,
   "metadata": {},
   "outputs": [
    {
     "name": "stdout",
     "output_type": "stream",
     "text": [
      "The score threshold is: 1\n",
      "The indices of the outliers:\n",
      "(array([  3,  27,  53,  62,  91, 102, 114, 142, 153, 165, 170, 191, 193,\n",
      "       199, 204, 216, 222, 226, 244, 246, 252, 257, 269, 274, 278, 295,\n",
      "       297, 303, 308, 322, 327, 331, 348, 350, 356, 361, 373, 378, 382,\n",
      "       399, 401, 404, 407, 412, 420, 425, 430, 434, 451, 453, 458],\n",
      "      dtype=int64),)\n",
      "Number of outliers is: 51\n",
      "The score threshold is: 2\n",
      "The indices of the outliers:\n",
      "(array([ 27,  62,  91, 114, 142, 165, 193, 204, 216, 246, 257, 269, 297,\n",
      "       308, 322, 350, 361, 373, 401, 412, 425, 453, 458], dtype=int64),)\n",
      "Number of outliers is: 23\n",
      "The score threshold is: 3\n",
      "The indices of the outliers:\n",
      "(array([ 62, 114, 165, 216, 246, 269, 297, 322, 350, 373, 401, 412, 425,\n",
      "       453, 458], dtype=int64),)\n",
      "Number of outliers is: 15\n",
      "The score threshold is: 4\n",
      "The indices of the outliers:\n",
      "(array([165, 216, 269, 322, 373, 425, 453], dtype=int64),)\n",
      "Number of outliers is: 7\n"
     ]
    }
   ],
   "source": [
    "#check for outliers\n",
    "z_scores = zscore(education_df['TOTAL_REVENUE'])\n",
    "for threshold in range(1,5):\n",
    "    print('The score threshold is: {}'.format(threshold))\n",
    "    print('The indices of the outliers:')\n",
    "    print(np.where(z_scores > threshold))\n",
    "    print('Number of outliers is: {}'.format(len((np.where(z_scores > threshold)[0]))))"
   ]
  },
  {
   "cell_type": "code",
   "execution_count": 7,
   "metadata": {},
   "outputs": [
    {
     "name": "stdout",
     "output_type": "stream",
     "text": [
      "The score threshold is: 1\n",
      "The indices of the outliers:\n",
      "(array([  3,  27,  53,  62,  91, 102, 114, 142, 153, 165, 170, 191, 193,\n",
      "       199, 204, 216, 222, 226, 244, 246, 252, 257, 269, 274, 278, 295,\n",
      "       297, 303, 308, 322, 327, 331, 348, 350, 356, 361, 373, 378, 382,\n",
      "       399, 401, 407, 412, 420, 425, 430, 434, 451, 453, 458], dtype=int64),)\n",
      "Number of outliers is: 50\n",
      "The score threshold is: 2\n",
      "The indices of the outliers:\n",
      "(array([ 27,  62,  91, 114, 142, 153, 165, 193, 204, 216, 246, 257, 269,\n",
      "       297, 308, 322, 350, 361, 373, 401, 412, 425, 453, 458], dtype=int64),)\n",
      "Number of outliers is: 24\n",
      "The score threshold is: 3\n",
      "The indices of the outliers:\n",
      "(array([ 62, 114, 165, 216, 246, 257, 269, 297, 308, 322, 350, 373, 401,\n",
      "       412, 425, 453, 458], dtype=int64),)\n",
      "Number of outliers is: 17\n",
      "The score threshold is: 4\n",
      "The indices of the outliers:\n",
      "(array([114, 165, 216, 269, 322, 373, 425, 453], dtype=int64),)\n",
      "Number of outliers is: 8\n"
     ]
    }
   ],
   "source": [
    "#check for outliers\n",
    "z_scores = zscore(education_df['TOTAL_EXPENDITURE'])\n",
    "for threshold in range(1,5):\n",
    "    print('The score threshold is: {}'.format(threshold))\n",
    "    print('The indices of the outliers:')\n",
    "    print(np.where(z_scores > threshold))\n",
    "    print('Number of outliers is: {}'.format(len((np.where(z_scores > threshold)[0]))))"
   ]
  },
  {
   "cell_type": "code",
   "execution_count": 8,
   "metadata": {},
   "outputs": [
    {
     "name": "stdout",
     "output_type": "stream",
     "text": [
      "The score threshold is: 1.0\n",
      "Number of outliers is: 61\n",
      "The score threshold is: 1.5\n",
      "Number of outliers is: 45\n",
      "The score threshold is: 2.0\n",
      "Number of outliers is: 28\n",
      "The score threshold is: 2.5\n",
      "Number of outliers is: 24\n",
      "The score threshold is: 3.0\n",
      "Number of outliers is: 22\n",
      "The score threshold is: 3.5\n",
      "Number of outliers is: 20\n",
      "The score threshold is: 4.0\n",
      "Number of outliers is: 17\n",
      "The score threshold is: 4.5\n",
      "Number of outliers is: 15\n"
     ]
    }
   ],
   "source": [
    "#check for outliers\n",
    "q75, q25 = np.percentile(education_df['TOTAL_REVENUE'], [75 ,25])\n",
    "iqr = q75 - q25\n",
    "\n",
    "for threshold in np.arange(1,5,0.5):\n",
    "    min_val = q25 - (iqr*threshold)\n",
    "    max_val = q75 + (iqr*threshold)\n",
    "    print('The score threshold is: {}'.format(threshold))\n",
    "    print('Number of outliers is: {}'.format(\n",
    "        len((np.where((education_df['TOTAL_REVENUE'] > max_val) \n",
    "                      | (education_df['TOTAL_REVENUE'] < min_val))[0]))\n",
    "    ))"
   ]
  },
  {
   "cell_type": "code",
   "execution_count": 18,
   "metadata": {},
   "outputs": [],
   "source": [
    "#remove revenue outliers and check\n",
    "education_df['WINSORIZED_REVENUE'] = winsorize(education_df['TOTAL_REVENUE'], (0, 0.10))"
   ]
  },
  {
   "cell_type": "code",
   "execution_count": 19,
   "metadata": {},
   "outputs": [
    {
     "data": {
      "image/png": "[encoded data removed]",
      "text/plain": [
       "<Figure size 432x288 with 1 Axes>"
      ]
     },
     "metadata": {
      "needs_background": "light"
     },
     "output_type": "display_data"
    }
   ],
   "source": [
    "plt.boxplot(education_df['WINSORIZED_REVENUE'])\n",
    "plt.show()"
   ]
  },
  {
   "cell_type": "code",
   "execution_count": 21,
   "metadata": {},
   "outputs": [
    {
     "data": {
      "image/png": "[encoded data removed]",
      "text/plain": [
       "<Figure size 432x288 with 1 Axes>"
      ]
     },
     "metadata": {
      "needs_background": "light"
     },
     "output_type": "display_data"
    }
   ],
   "source": [
    "#remove expenditure outliers and check\n",
    "education_df['WINSORIZED_EXPENDITURE'] = winsorize(education_df['TOTAL_EXPENDITURE'], (0, 0.10))\n",
    "plt.boxplot(education_df['WINSORIZED_EXPENDITURE'])\n",
    "plt.show()"
   ]
  },
  {
   "cell_type": "code",
   "execution_count": 12,
   "metadata": {},
   "outputs": [
    {
     "data": {
      "image/png": "[encoded data removed]",
      "text/plain": [
       "<Figure size 432x288 with 1 Axes>"
      ]
     },
     "metadata": {
      "needs_background": "light"
     },
     "output_type": "display_data"
    }
   ],
   "source": [
    "#define deficit and check for outliers\n",
    "education_df['DEFICIT'] = education_df['TOTAL_REVENUE'] - education_df['TOTAL_EXPENDITURE']\n",
    "plt.boxplot(education_df['DEFICIT'])\n",
    "plt.show()"
   ]
  },
  {
   "cell_type": "code",
   "execution_count": 22,
   "metadata": {},
   "outputs": [
    {
     "data": {
      "image/png": "[encoded data removed]",
      "text/plain": [
       "<Figure size 432x288 with 1 Axes>"
      ]
     },
     "metadata": {
      "needs_background": "light"
     },
     "output_type": "display_data"
    }
   ],
   "source": [
    "#remove outliers from deficit\n",
    "education_df['winsorised_deficit'] = winsorize(education_df['DEFICIT'], (0.10, 0.10))\n",
    "plt.boxplot(education_df['winsorised_deficit'] )\n",
    "plt.show()"
   ]
  },
  {
   "cell_type": "code",
   "execution_count": 14,
   "metadata": {},
   "outputs": [
    {
     "data": {
      "image/png": "[encoded data removed]",
      "text/plain": [
       "<Figure size 432x288 with 1 Axes>"
      ]
     },
     "metadata": {
      "needs_background": "light"
     },
     "output_type": "display_data"
    }
   ],
   "source": [
    "#define deficit using winsorized variables and check for outliers\n",
    "education_df['REVISED_DEFICIT'] = education_df['WINSORIZED_REVENUE'] - education_df['WINSORIZED_EXPENDITURE']\n",
    "plt.boxplot(education_df['REVISED_DEFICIT'])\n",
    "plt.show()"
   ]
  },
  {
   "cell_type": "code",
   "execution_count": 23,
   "metadata": {},
   "outputs": [
    {
     "data": {
      "image/png": "[encoded data removed]",
      "text/plain": [
       "<Figure size 432x288 with 1 Axes>"
      ]
     },
     "metadata": {
      "needs_background": "light"
     },
     "output_type": "display_data"
    }
   ],
   "source": [
    "#remove outliers\n",
    "education_df['REVISED_WINSORISED_DEFICIT'] = winsorize(education_df['REVISED_DEFICIT'], (0.10, 0.10))\n",
    "plt.boxplot(education_df['REVISED_WINSORISED_DEFICIT'])\n",
    "plt.show()"
   ]
  },
  {
   "cell_type": "code",
   "execution_count": 24,
   "metadata": {},
   "outputs": [
    {
     "data": {
      "text/html": [
       "<div>\n",
       "<style scoped>\n",
       "    .dataframe tbody tr th:only-of-type {\n",
       "        vertical-align: middle;\n",
       "    }\n",
       "\n",
       "    .dataframe tbody tr th {\n",
       "        vertical-align: top;\n",
       "    }\n",
       "\n",
       "    .dataframe thead th {\n",
       "        text-align: right;\n",
       "    }\n",
       "</style>\n",
       "<table border=\"1\" class=\"dataframe\">\n",
       "  <thead>\n",
       "    <tr style=\"text-align: right;\">\n",
       "      <th></th>\n",
       "      <th>winsorised_deficit</th>\n",
       "      <th>REVISED_WINSORISED_DEFICIT</th>\n",
       "    </tr>\n",
       "  </thead>\n",
       "  <tbody>\n",
       "    <tr>\n",
       "      <th>count</th>\n",
       "      <td>466.000000</td>\n",
       "      <td>466.000000</td>\n",
       "    </tr>\n",
       "    <tr>\n",
       "      <th>mean</th>\n",
       "      <td>-46221.075107</td>\n",
       "      <td>-65786.019313</td>\n",
       "    </tr>\n",
       "    <tr>\n",
       "      <th>std</th>\n",
       "      <td>256023.510074</td>\n",
       "      <td>275351.713657</td>\n",
       "    </tr>\n",
       "    <tr>\n",
       "      <th>min</th>\n",
       "      <td>-538253.000000</td>\n",
       "      <td>-630307.000000</td>\n",
       "    </tr>\n",
       "    <tr>\n",
       "      <th>25%</th>\n",
       "      <td>-196574.750000</td>\n",
       "      <td>-204775.000000</td>\n",
       "    </tr>\n",
       "    <tr>\n",
       "      <th>50%</th>\n",
       "      <td>-8872.500000</td>\n",
       "      <td>-12823.500000</td>\n",
       "    </tr>\n",
       "    <tr>\n",
       "      <th>75%</th>\n",
       "      <td>101394.750000</td>\n",
       "      <td>98263.000000</td>\n",
       "    </tr>\n",
       "    <tr>\n",
       "      <th>max</th>\n",
       "      <td>365079.000000</td>\n",
       "      <td>347190.000000</td>\n",
       "    </tr>\n",
       "  </tbody>\n",
       "</table>\n",
       "</div>"
      ],
      "text/plain": [
       "       winsorised_deficit  REVISED_WINSORISED_DEFICIT\n",
       "count          466.000000                  466.000000\n",
       "mean        -46221.075107               -65786.019313\n",
       "std         256023.510074               275351.713657\n",
       "min        -538253.000000              -630307.000000\n",
       "25%        -196574.750000              -204775.000000\n",
       "50%          -8872.500000               -12823.500000\n",
       "75%         101394.750000                98263.000000\n",
       "max         365079.000000               347190.000000"
      ]
     },
     "execution_count": 24,
     "metadata": {},
     "output_type": "execute_result"
    }
   ],
   "source": [
    "#get descriptive statistics for deficit variables\n",
    "education_df[['winsorised_deficit', 'REVISED_WINSORISED_DEFICIT']].describe()"
   ]
  },
  {
   "cell_type": "markdown",
   "metadata": {},
   "source": [
    "The summary statistics for the two methods of calculating the deficit have some differences. The mean of the two variables varies by about 20,000, while the median differs by only about 4000.\n",
    "\n",
    "If the variable of interest is the budget deficit, it makes more sense to calculate the deficit and then remove outliers, as completed in question 3. Taking the difference of the two variables might cancel two outliers out, so it is better to calculate the deficit after taking the difference."
   ]
  }
 ],
 "metadata": {
  "kernelspec": {
   "display_name": "Python 3",
   "language": "python",
   "name": "python3"
  },
  "language_info": {
   "codemirror_mode": {
    "name": "ipython",
    "version": 3
   },
   "file_extension": ".py",
   "mimetype": "text/x-python",
   "name": "python",
   "nbconvert_exporter": "python",
   "pygments_lexer": "ipython3",
   "version": "3.7.3"
  }
 },
 "nbformat": 4,
 "nbformat_minor": 2
}
