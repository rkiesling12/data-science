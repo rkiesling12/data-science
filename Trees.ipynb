{
 "cells": [
  {
   "cell_type": "markdown",
   "metadata": {},
   "source": [
    "DRILL:\n",
    "\n",
    "Implement a binary tree, which is filled with 15 pieces of random data. Your job is to then write a program to traverse the tree using a breadth first traversal. If you want additional practice, try other forms of traversal."
   ]
  },
  {
   "cell_type": "code",
   "execution_count": 1,
   "metadata": {},
   "outputs": [],
   "source": [
    "class Node:\n",
    "    def __init__(self, val):\n",
    "        self.left = None\n",
    "        self.right = None\n",
    "        self.val = val"
   ]
  },
  {
   "cell_type": "code",
   "execution_count": 2,
   "metadata": {},
   "outputs": [],
   "source": [
    "def printLevelOrder(root): \n",
    "    h = height(root) \n",
    "    for i in range(1, h+1): \n",
    "        printGivenLevel(root, i)"
   ]
  },
  {
   "cell_type": "code",
   "execution_count": 17,
   "metadata": {},
   "outputs": [],
   "source": [
    "def printGivenLevel(root , level): \n",
    "    if root is None: \n",
    "        return\n",
    "    if level == 1: \n",
    "        print('', root.val), \n",
    "    elif level > 1 : \n",
    "        printGivenLevel(root.left , level-1) \n",
    "        printGivenLevel(root.right , level-1)"
   ]
  },
  {
   "cell_type": "code",
   "execution_count": 5,
   "metadata": {},
   "outputs": [],
   "source": [
    "def height(node): \n",
    "    if node is None: \n",
    "        return 0 \n",
    "    else : \n",
    "        # Compute the height of each subtree  \n",
    "        lheight = height(node.left) \n",
    "        rheight = height(node.right) \n",
    "  \n",
    "        #Use the larger one \n",
    "        if lheight > rheight : \n",
    "            return lheight+1\n",
    "        else: \n",
    "            return rheight+1"
   ]
  },
  {
   "cell_type": "code",
   "execution_count": 32,
   "metadata": {},
   "outputs": [],
   "source": [
    "# Establish the initial root node and children\n",
    "root = Node(2)\n",
    "root.left = Node(0)\n",
    "root.right = Node(9)\n",
    "\n",
    "# Add the appropriate children for ‘B’ and ‘C’\n",
    "root.left.left = Node(6)\n",
    "root.left.right = Node(8)\n",
    "root.right.left = Node(8)\n",
    "root.right.right = Node(5)\n",
    "\n",
    "root.left.left.left = Node(0)\n",
    "root.left.left.right = Node(5)\n",
    "root.left.right.left = Node(2)\n",
    "root.left.right.right = Node(4)\n",
    "root.right.left.left = Node(8)\n",
    "root.right.left.right = Node(8)\n",
    "root.right.right.left = Node(2)\n",
    "root.right.right.right = Node(3)"
   ]
  },
  {
   "cell_type": "code",
   "execution_count": 33,
   "metadata": {},
   "outputs": [
    {
     "name": "stdout",
     "output_type": "stream",
     "text": [
      "Level order traversal of binary tree is -\n",
      " 2\n",
      " 0\n",
      " 9\n",
      " 6\n",
      " 8\n",
      " 8\n",
      " 5\n",
      " 0\n",
      " 5\n",
      " 2\n",
      " 4\n",
      " 8\n",
      " 8\n",
      " 2\n",
      " 3\n"
     ]
    }
   ],
   "source": [
    "print(\"Level order traversal of binary tree is -\")\n",
    "printLevelOrder(root) "
   ]
  }
 ],
 "metadata": {
  "kernelspec": {
   "display_name": "Python 3",
   "language": "python",
   "name": "python3"
  },
  "language_info": {
   "codemirror_mode": {
    "name": "ipython",
    "version": 3
   },
   "file_extension": ".py",
   "mimetype": "text/x-python",
   "name": "python",
   "nbconvert_exporter": "python",
   "pygments_lexer": "ipython3",
   "version": "3.7.3"
  }
 },
 "nbformat": 4,
 "nbformat_minor": 2
}
