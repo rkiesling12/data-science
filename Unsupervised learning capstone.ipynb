{
 "cells": [
  {
   "cell_type": "code",
   "execution_count": 1,
   "metadata": {},
   "outputs": [],
   "source": [
    "import numpy as np\n",
    "import pandas as pd\n",
    "import json\n",
    "import scipy\n",
    "import matplotlib.pyplot as plt\n",
    "import seaborn as sns\n",
    "from sklearn.cluster import KMeans\n",
    "from sklearn.preprocessing import normalize\n",
    "from sklearn.decomposition import PCA\n",
    "from sklearn.cluster import MiniBatchKMeans\n",
    "from sklearn.cluster import MeanShift, estimate_bandwidth\n",
    "from sklearn.cluster import SpectralClustering\n",
    "from sklearn.cluster import AffinityPropagation\n",
    "from sklearn import metrics\n",
    "%matplotlib inline\n",
    "from sklearn.model_selection import train_test_split\n",
    "from ast import literal_eval"
   ]
  },
  {
   "cell_type": "code",
   "execution_count": 2,
   "metadata": {},
   "outputs": [
    {
     "name": "stderr",
     "output_type": "stream",
     "text": [
      "C:\\Users\\rkies\\Anaconda3\\lib\\site-packages\\IPython\\core\\interactiveshell.py:3051: DtypeWarning: Columns (10) have mixed types. Specify dtype option on import or set low_memory=False.\n",
      "  interactivity=interactivity, compiler=compiler, result=result)\n"
     ]
    }
   ],
   "source": [
    "#load data\n",
    "df = pd.read_csv('movies_metadata.csv')"
   ]
  },
  {
   "cell_type": "markdown",
   "metadata": {},
   "source": [
    "For this assignment, I will use the movies dataset from Kaggle (available [here](https://www.kaggle.com/rounakbanik/the-movies-dataset)) to identify similar movies based on movie characteristics. I will start by looking at the first few rows of data and checking for missing values."
   ]
  },
  {
   "cell_type": "code",
   "execution_count": 3,
   "metadata": {},
   "outputs": [
    {
     "data": {
      "text/html": [
       "<div>\n",
       "<style scoped>\n",
       "    .dataframe tbody tr th:only-of-type {\n",
       "        vertical-align: middle;\n",
       "    }\n",
       "\n",
       "    .dataframe tbody tr th {\n",
       "        vertical-align: top;\n",
       "    }\n",
       "\n",
       "    .dataframe thead th {\n",
       "        text-align: right;\n",
       "    }\n",
       "</style>\n",
       "<table border=\"1\" class=\"dataframe\">\n",
       "  <thead>\n",
       "    <tr style=\"text-align: right;\">\n",
       "      <th></th>\n",
       "      <th>adult</th>\n",
       "      <th>belongs_to_collection</th>\n",
       "      <th>budget</th>\n",
       "      <th>genres</th>\n",
       "      <th>homepage</th>\n",
       "      <th>id</th>\n",
       "      <th>imdb_id</th>\n",
       "      <th>original_language</th>\n",
       "      <th>original_title</th>\n",
       "      <th>overview</th>\n",
       "      <th>...</th>\n",
       "      <th>release_date</th>\n",
       "      <th>revenue</th>\n",
       "      <th>runtime</th>\n",
       "      <th>spoken_languages</th>\n",
       "      <th>status</th>\n",
       "      <th>tagline</th>\n",
       "      <th>title</th>\n",
       "      <th>video</th>\n",
       "      <th>vote_average</th>\n",
       "      <th>vote_count</th>\n",
       "    </tr>\n",
       "  </thead>\n",
       "  <tbody>\n",
       "    <tr>\n",
       "      <th>0</th>\n",
       "      <td>False</td>\n",
       "      <td>{'id': 10194, 'name': 'Toy Story Collection', ...</td>\n",
       "      <td>30000000</td>\n",
       "      <td>[{'id': 16, 'name': 'Animation'}, {'id': 35, '...</td>\n",
       "      <td>http://toystory.disney.com/toy-story</td>\n",
       "      <td>862</td>\n",
       "      <td>tt0114709</td>\n",
       "      <td>en</td>\n",
       "      <td>Toy Story</td>\n",
       "      <td>Led by Woody, Andy's toys live happily in his ...</td>\n",
       "      <td>...</td>\n",
       "      <td>1995-10-30</td>\n",
       "      <td>373554033.0</td>\n",
       "      <td>81.0</td>\n",
       "      <td>[{'iso_639_1': 'en', 'name': 'English'}]</td>\n",
       "      <td>Released</td>\n",
       "      <td>NaN</td>\n",
       "      <td>Toy Story</td>\n",
       "      <td>False</td>\n",
       "      <td>7.7</td>\n",
       "      <td>5415.0</td>\n",
       "    </tr>\n",
       "    <tr>\n",
       "      <th>1</th>\n",
       "      <td>False</td>\n",
       "      <td>NaN</td>\n",
       "      <td>65000000</td>\n",
       "      <td>[{'id': 12, 'name': 'Adventure'}, {'id': 14, '...</td>\n",
       "      <td>NaN</td>\n",
       "      <td>8844</td>\n",
       "      <td>tt0113497</td>\n",
       "      <td>en</td>\n",
       "      <td>Jumanji</td>\n",
       "      <td>When siblings Judy and Peter discover an encha...</td>\n",
       "      <td>...</td>\n",
       "      <td>1995-12-15</td>\n",
       "      <td>262797249.0</td>\n",
       "      <td>104.0</td>\n",
       "      <td>[{'iso_639_1': 'en', 'name': 'English'}, {'iso...</td>\n",
       "      <td>Released</td>\n",
       "      <td>Roll the dice and unleash the excitement!</td>\n",
       "      <td>Jumanji</td>\n",
       "      <td>False</td>\n",
       "      <td>6.9</td>\n",
       "      <td>2413.0</td>\n",
       "    </tr>\n",
       "    <tr>\n",
       "      <th>2</th>\n",
       "      <td>False</td>\n",
       "      <td>{'id': 119050, 'name': 'Grumpy Old Men Collect...</td>\n",
       "      <td>0</td>\n",
       "      <td>[{'id': 10749, 'name': 'Romance'}, {'id': 35, ...</td>\n",
       "      <td>NaN</td>\n",
       "      <td>15602</td>\n",
       "      <td>tt0113228</td>\n",
       "      <td>en</td>\n",
       "      <td>Grumpier Old Men</td>\n",
       "      <td>A family wedding reignites the ancient feud be...</td>\n",
       "      <td>...</td>\n",
       "      <td>1995-12-22</td>\n",
       "      <td>0.0</td>\n",
       "      <td>101.0</td>\n",
       "      <td>[{'iso_639_1': 'en', 'name': 'English'}]</td>\n",
       "      <td>Released</td>\n",
       "      <td>Still Yelling. Still Fighting. Still Ready for...</td>\n",
       "      <td>Grumpier Old Men</td>\n",
       "      <td>False</td>\n",
       "      <td>6.5</td>\n",
       "      <td>92.0</td>\n",
       "    </tr>\n",
       "    <tr>\n",
       "      <th>3</th>\n",
       "      <td>False</td>\n",
       "      <td>NaN</td>\n",
       "      <td>16000000</td>\n",
       "      <td>[{'id': 35, 'name': 'Comedy'}, {'id': 18, 'nam...</td>\n",
       "      <td>NaN</td>\n",
       "      <td>31357</td>\n",
       "      <td>tt0114885</td>\n",
       "      <td>en</td>\n",
       "      <td>Waiting to Exhale</td>\n",
       "      <td>Cheated on, mistreated and stepped on, the wom...</td>\n",
       "      <td>...</td>\n",
       "      <td>1995-12-22</td>\n",
       "      <td>81452156.0</td>\n",
       "      <td>127.0</td>\n",
       "      <td>[{'iso_639_1': 'en', 'name': 'English'}]</td>\n",
       "      <td>Released</td>\n",
       "      <td>Friends are the people who let you be yourself...</td>\n",
       "      <td>Waiting to Exhale</td>\n",
       "      <td>False</td>\n",
       "      <td>6.1</td>\n",
       "      <td>34.0</td>\n",
       "    </tr>\n",
       "    <tr>\n",
       "      <th>4</th>\n",
       "      <td>False</td>\n",
       "      <td>{'id': 96871, 'name': 'Father of the Bride Col...</td>\n",
       "      <td>0</td>\n",
       "      <td>[{'id': 35, 'name': 'Comedy'}]</td>\n",
       "      <td>NaN</td>\n",
       "      <td>11862</td>\n",
       "      <td>tt0113041</td>\n",
       "      <td>en</td>\n",
       "      <td>Father of the Bride Part II</td>\n",
       "      <td>Just when George Banks has recovered from his ...</td>\n",
       "      <td>...</td>\n",
       "      <td>1995-02-10</td>\n",
       "      <td>76578911.0</td>\n",
       "      <td>106.0</td>\n",
       "      <td>[{'iso_639_1': 'en', 'name': 'English'}]</td>\n",
       "      <td>Released</td>\n",
       "      <td>Just When His World Is Back To Normal... He's ...</td>\n",
       "      <td>Father of the Bride Part II</td>\n",
       "      <td>False</td>\n",
       "      <td>5.7</td>\n",
       "      <td>173.0</td>\n",
       "    </tr>\n",
       "  </tbody>\n",
       "</table>\n",
       "<p>5 rows × 24 columns</p>\n",
       "</div>"
      ],
      "text/plain": [
       "   adult                              belongs_to_collection    budget  \\\n",
       "0  False  {'id': 10194, 'name': 'Toy Story Collection', ...  30000000   \n",
       "1  False                                                NaN  65000000   \n",
       "2  False  {'id': 119050, 'name': 'Grumpy Old Men Collect...         0   \n",
       "3  False                                                NaN  16000000   \n",
       "4  False  {'id': 96871, 'name': 'Father of the Bride Col...         0   \n",
       "\n",
       "                                              genres  \\\n",
       "0  [{'id': 16, 'name': 'Animation'}, {'id': 35, '...   \n",
       "1  [{'id': 12, 'name': 'Adventure'}, {'id': 14, '...   \n",
       "2  [{'id': 10749, 'name': 'Romance'}, {'id': 35, ...   \n",
       "3  [{'id': 35, 'name': 'Comedy'}, {'id': 18, 'nam...   \n",
       "4                     [{'id': 35, 'name': 'Comedy'}]   \n",
       "\n",
       "                               homepage     id    imdb_id original_language  \\\n",
       "0  http://toystory.disney.com/toy-story    862  tt0114709                en   \n",
       "1                                   NaN   8844  tt0113497                en   \n",
       "2                                   NaN  15602  tt0113228                en   \n",
       "3                                   NaN  31357  tt0114885                en   \n",
       "4                                   NaN  11862  tt0113041                en   \n",
       "\n",
       "                original_title  \\\n",
       "0                    Toy Story   \n",
       "1                      Jumanji   \n",
       "2             Grumpier Old Men   \n",
       "3            Waiting to Exhale   \n",
       "4  Father of the Bride Part II   \n",
       "\n",
       "                                            overview  ... release_date  \\\n",
       "0  Led by Woody, Andy's toys live happily in his ...  ...   1995-10-30   \n",
       "1  When siblings Judy and Peter discover an encha...  ...   1995-12-15   \n",
       "2  A family wedding reignites the ancient feud be...  ...   1995-12-22   \n",
       "3  Cheated on, mistreated and stepped on, the wom...  ...   1995-12-22   \n",
       "4  Just when George Banks has recovered from his ...  ...   1995-02-10   \n",
       "\n",
       "       revenue runtime                                   spoken_languages  \\\n",
       "0  373554033.0    81.0           [{'iso_639_1': 'en', 'name': 'English'}]   \n",
       "1  262797249.0   104.0  [{'iso_639_1': 'en', 'name': 'English'}, {'iso...   \n",
       "2          0.0   101.0           [{'iso_639_1': 'en', 'name': 'English'}]   \n",
       "3   81452156.0   127.0           [{'iso_639_1': 'en', 'name': 'English'}]   \n",
       "4   76578911.0   106.0           [{'iso_639_1': 'en', 'name': 'English'}]   \n",
       "\n",
       "     status                                            tagline  \\\n",
       "0  Released                                                NaN   \n",
       "1  Released          Roll the dice and unleash the excitement!   \n",
       "2  Released  Still Yelling. Still Fighting. Still Ready for...   \n",
       "3  Released  Friends are the people who let you be yourself...   \n",
       "4  Released  Just When His World Is Back To Normal... He's ...   \n",
       "\n",
       "                         title  video vote_average vote_count  \n",
       "0                    Toy Story  False          7.7     5415.0  \n",
       "1                      Jumanji  False          6.9     2413.0  \n",
       "2             Grumpier Old Men  False          6.5       92.0  \n",
       "3            Waiting to Exhale  False          6.1       34.0  \n",
       "4  Father of the Bride Part II  False          5.7      173.0  \n",
       "\n",
       "[5 rows x 24 columns]"
      ]
     },
     "execution_count": 3,
     "metadata": {},
     "output_type": "execute_result"
    }
   ],
   "source": [
    "#look at first few rows of data\n",
    "df.head()"
   ]
  },
  {
   "cell_type": "code",
   "execution_count": 4,
   "metadata": {},
   "outputs": [
    {
     "name": "stdout",
     "output_type": "stream",
     "text": [
      "<class 'pandas.core.frame.DataFrame'>\n",
      "RangeIndex: 45466 entries, 0 to 45465\n",
      "Data columns (total 24 columns):\n",
      "adult                    45466 non-null object\n",
      "belongs_to_collection    4494 non-null object\n",
      "budget                   45466 non-null object\n",
      "genres                   45466 non-null object\n",
      "homepage                 7782 non-null object\n",
      "id                       45466 non-null object\n",
      "imdb_id                  45449 non-null object\n",
      "original_language        45455 non-null object\n",
      "original_title           45466 non-null object\n",
      "overview                 44512 non-null object\n",
      "popularity               45461 non-null object\n",
      "poster_path              45080 non-null object\n",
      "production_companies     45463 non-null object\n",
      "production_countries     45463 non-null object\n",
      "release_date             45379 non-null object\n",
      "revenue                  45460 non-null float64\n",
      "runtime                  45203 non-null float64\n",
      "spoken_languages         45460 non-null object\n",
      "status                   45379 non-null object\n",
      "tagline                  20412 non-null object\n",
      "title                    45460 non-null object\n",
      "video                    45460 non-null object\n",
      "vote_average             45460 non-null float64\n",
      "vote_count               45460 non-null float64\n",
      "dtypes: float64(4), object(20)\n",
      "memory usage: 8.3+ MB\n"
     ]
    }
   ],
   "source": [
    "#get datatypes\n",
    "df.info()"
   ]
  },
  {
   "cell_type": "code",
   "execution_count": 5,
   "metadata": {},
   "outputs": [
    {
     "data": {
      "text/plain": [
       "adult                     0.000000\n",
       "belongs_to_collection    90.115691\n",
       "budget                    0.000000\n",
       "genres                    0.000000\n",
       "homepage                 82.883913\n",
       "id                        0.000000\n",
       "imdb_id                   0.037391\n",
       "original_language         0.024194\n",
       "original_title            0.000000\n",
       "overview                  2.098271\n",
       "popularity                0.010997\n",
       "poster_path               0.848986\n",
       "production_companies      0.006598\n",
       "production_countries      0.006598\n",
       "release_date              0.191352\n",
       "revenue                   0.013197\n",
       "runtime                   0.578454\n",
       "spoken_languages          0.013197\n",
       "status                    0.191352\n",
       "tagline                  55.104914\n",
       "title                     0.013197\n",
       "video                     0.013197\n",
       "vote_average              0.013197\n",
       "vote_count                0.013197\n",
       "dtype: float64"
      ]
     },
     "execution_count": 5,
     "metadata": {},
     "output_type": "execute_result"
    }
   ],
   "source": [
    "#check for missing values\n",
    "df.isnull().sum()*100/df.isnull().count()"
   ]
  },
  {
   "cell_type": "markdown",
   "metadata": {},
   "source": [
    "Based on the first few rows of data, the \"adult\" variable appears to be Boolean, but it is in fact a string variable. For using in clustering, I will change it to Boolean."
   ]
  },
  {
   "cell_type": "code",
   "execution_count": 6,
   "metadata": {},
   "outputs": [],
   "source": [
    "#change adult variable to Boolean\n",
    "df['adult'] = df['adult'] == 'True'"
   ]
  },
  {
   "cell_type": "markdown",
   "metadata": {},
   "source": [
    "The variables belong to collection, homepage, and tagline are missing values for more than half of the data. I will change these variables to Boolean."
   ]
  },
  {
   "cell_type": "code",
   "execution_count": 7,
   "metadata": {},
   "outputs": [],
   "source": [
    "#change variables to Boolean\n",
    "cols = ['belongs_to_collection', 'homepage', 'tagline']\n",
    "\n",
    "for col in cols:\n",
    "    df[col] = df[col].isnull()"
   ]
  },
  {
   "cell_type": "markdown",
   "metadata": {},
   "source": [
    "Popularity and budget are two variables that we would expect to be numeric, but are instead objects. Based on further exploration, this is because of a few anomalous values for each of the variables. We will replace those values with \"None\" and then convert the rest of the values to float."
   ]
  },
  {
   "cell_type": "code",
   "execution_count": 8,
   "metadata": {},
   "outputs": [],
   "source": [
    "cols = ['popularity', 'budget']\n",
    "\n",
    "for col in cols:\n",
    "    df[col] = df[col].replace('Beware Of Frost Bites', None)\n",
    "    df[col] = df[col].replace('/ff9qCepilowshEtG2GYWwzt2bs4.jpg', None)\n",
    "    df[col] = df[col].replace('/zV8bHuSL6WXoD6FWogP9j4x80bL.jpg', None)\n",
    "    df[col] = df[col].replace('/zaSf5OG7V8X8gqFvly88zDdRm46.jpg', None)\n",
    "    df[col] = df[col].apply(lambda x: float(x))"
   ]
  },
  {
   "cell_type": "markdown",
   "metadata": {},
   "source": [
    "For the columns with numeric values, I will fill the missing values with the mean. Since no column is missing more than 3% of the data, I will then go ahead and drop the missing values for the rest of the columns."
   ]
  },
  {
   "cell_type": "code",
   "execution_count": 9,
   "metadata": {},
   "outputs": [],
   "source": [
    "cols = ['popularity', 'revenue', 'runtime', 'vote_average', 'vote_count']\n",
    "for col in cols:\n",
    "    df[col] = df[col].fillna(df[col].mean())"
   ]
  },
  {
   "cell_type": "code",
   "execution_count": 10,
   "metadata": {},
   "outputs": [],
   "source": [
    "df = df.dropna()"
   ]
  },
  {
   "cell_type": "markdown",
   "metadata": {},
   "source": [
    "Next, I will work with production companies, production countries, and genres. First, I will get the data into a format that is easier to work with."
   ]
  },
  {
   "cell_type": "code",
   "execution_count": 11,
   "metadata": {},
   "outputs": [],
   "source": [
    "df['production_companies'] = df['production_companies'].apply(literal_eval)\n",
    "df['production_countries'] = df['production_countries'].apply(literal_eval)\n",
    "df['genres'] = df['genres'].apply(literal_eval)"
   ]
  },
  {
   "cell_type": "code",
   "execution_count": 12,
   "metadata": {},
   "outputs": [],
   "source": [
    "#get list of names for variable\n",
    "def get_list(x):\n",
    "    if isinstance(x, list):\n",
    "        names = [i['name'] for i in x]\n",
    "        return names\n",
    "    #Return empty list in case of missing/malformed data\n",
    "    return []"
   ]
  },
  {
   "cell_type": "code",
   "execution_count": 13,
   "metadata": {},
   "outputs": [],
   "source": [
    "#get list for genres, production companies, production countries\n",
    "df['genres'] = df['genres'].apply(get_list)\n",
    "df['production_companies'] = df['production_companies'].apply(get_list)\n",
    "df['production_countries'] = df['production_countries'].apply(get_list)"
   ]
  },
  {
   "cell_type": "markdown",
   "metadata": {},
   "source": [
    "Next, I will create dummy variables for each of the genres. There are a few anomalous values for genre that I will not create dummy variables for."
   ]
  },
  {
   "cell_type": "code",
   "execution_count": 14,
   "metadata": {},
   "outputs": [],
   "source": [
    "genres = ['Music', 'Animation', 'Comedy', 'Adventure', 'Romance', 'Drama', 'Family', 'Fantasy', 'Crime', 'Action', 'Mystery',\n",
    "         'Thriller', 'Horror', 'History', 'Science Fiction', 'War', 'Foreign', 'Documentary', 'Western', 'TV Movie']\n",
    "#get dummy variables for genre\n",
    "genre_columns = pd.get_dummies(df['genres'].apply(pd.Series).stack()).sum(level=0)\n",
    "genre_column_names = []\n",
    "#concat genre variables with rest of data\n",
    "for genre in genres:\n",
    "    df = pd.concat([df, genre_columns[genre]], axis=1)\n",
    "    genre_column_names.append(genre)"
   ]
  },
  {
   "cell_type": "markdown",
   "metadata": {},
   "source": [
    "For production countries and production companies, I do not want to create dummy variables for all of the values because there are so many of them. I will first look at the most common values for each of those variables, and then create dummy variables for just the most common values."
   ]
  },
  {
   "cell_type": "code",
   "execution_count": 15,
   "metadata": {},
   "outputs": [],
   "source": [
    "#define function to count items in a column list\n",
    "def list_counter(col):\n",
    "    result = dict()\n",
    "    for cell in col:\n",
    "        if isinstance(cell, float):\n",
    "            continue\n",
    "        for word in cell:\n",
    "            if word in result:\n",
    "                result[word] += 1\n",
    "            else:\n",
    "                result[word] = 1\n",
    "    result = {k: v for k, v in sorted(result.items(), key=lambda item: item[1], reverse=True)}\n",
    "    sum_selected = 0\n",
    "    total_selected = 0\n",
    "    rest = 0\n",
    "    returned = []\n",
    "    for i in result: \n",
    "        sum_selected += result[i]\n",
    "        total_selected += result[i]\n",
    "        returned.append([i, result[i]])\n",
    "    return returned"
   ]
  },
  {
   "cell_type": "code",
   "execution_count": 16,
   "metadata": {},
   "outputs": [
    {
     "name": "stdout",
     "output_type": "stream",
     "text": [
      "160\n"
     ]
    },
    {
     "data": {
      "text/html": [
       "<div>\n",
       "<style scoped>\n",
       "    .dataframe tbody tr th:only-of-type {\n",
       "        vertical-align: middle;\n",
       "    }\n",
       "\n",
       "    .dataframe tbody tr th {\n",
       "        vertical-align: top;\n",
       "    }\n",
       "\n",
       "    .dataframe thead th {\n",
       "        text-align: right;\n",
       "    }\n",
       "</style>\n",
       "<table border=\"1\" class=\"dataframe\">\n",
       "  <thead>\n",
       "    <tr style=\"text-align: right;\">\n",
       "      <th></th>\n",
       "      <th>production_countries</th>\n",
       "      <th>count</th>\n",
       "    </tr>\n",
       "  </thead>\n",
       "  <tbody>\n",
       "    <tr>\n",
       "      <th>0</th>\n",
       "      <td>United States of America</td>\n",
       "      <td>21018</td>\n",
       "    </tr>\n",
       "    <tr>\n",
       "      <th>1</th>\n",
       "      <td>United Kingdom</td>\n",
       "      <td>4069</td>\n",
       "    </tr>\n",
       "    <tr>\n",
       "      <th>2</th>\n",
       "      <td>France</td>\n",
       "      <td>3802</td>\n",
       "    </tr>\n",
       "    <tr>\n",
       "      <th>3</th>\n",
       "      <td>Germany</td>\n",
       "      <td>2151</td>\n",
       "    </tr>\n",
       "    <tr>\n",
       "      <th>4</th>\n",
       "      <td>Italy</td>\n",
       "      <td>1980</td>\n",
       "    </tr>\n",
       "    <tr>\n",
       "      <th>5</th>\n",
       "      <td>Canada</td>\n",
       "      <td>1744</td>\n",
       "    </tr>\n",
       "    <tr>\n",
       "      <th>6</th>\n",
       "      <td>Japan</td>\n",
       "      <td>1638</td>\n",
       "    </tr>\n",
       "    <tr>\n",
       "      <th>7</th>\n",
       "      <td>Spain</td>\n",
       "      <td>917</td>\n",
       "    </tr>\n",
       "    <tr>\n",
       "      <th>8</th>\n",
       "      <td>Russia</td>\n",
       "      <td>883</td>\n",
       "    </tr>\n",
       "    <tr>\n",
       "      <th>9</th>\n",
       "      <td>India</td>\n",
       "      <td>820</td>\n",
       "    </tr>\n",
       "    <tr>\n",
       "      <th>10</th>\n",
       "      <td>Hong Kong</td>\n",
       "      <td>595</td>\n",
       "    </tr>\n",
       "    <tr>\n",
       "      <th>11</th>\n",
       "      <td>Sweden</td>\n",
       "      <td>574</td>\n",
       "    </tr>\n",
       "    <tr>\n",
       "      <th>12</th>\n",
       "      <td>Australia</td>\n",
       "      <td>566</td>\n",
       "    </tr>\n",
       "    <tr>\n",
       "      <th>13</th>\n",
       "      <td>South Korea</td>\n",
       "      <td>495</td>\n",
       "    </tr>\n",
       "    <tr>\n",
       "      <th>14</th>\n",
       "      <td>Belgium</td>\n",
       "      <td>428</td>\n",
       "    </tr>\n",
       "  </tbody>\n",
       "</table>\n",
       "</div>"
      ],
      "text/plain": [
       "        production_countries  count\n",
       "0   United States of America  21018\n",
       "1             United Kingdom   4069\n",
       "2                     France   3802\n",
       "3                    Germany   2151\n",
       "4                      Italy   1980\n",
       "5                     Canada   1744\n",
       "6                      Japan   1638\n",
       "7                      Spain    917\n",
       "8                     Russia    883\n",
       "9                      India    820\n",
       "10                 Hong Kong    595\n",
       "11                    Sweden    574\n",
       "12                 Australia    566\n",
       "13               South Korea    495\n",
       "14                   Belgium    428"
      ]
     },
     "execution_count": 16,
     "metadata": {},
     "output_type": "execute_result"
    }
   ],
   "source": [
    "#create a data frame with counts for each production country\n",
    "countries_occur = list_counter(df[\"production_countries\"].values)\n",
    "countries = pd.DataFrame.from_records(countries_occur, columns=[\"production_countries\", \"count\"])\n",
    "#get number of countries\n",
    "print(len(countries))\n",
    "#select countries that produced at least 400 films\n",
    "countries[countries['count'] >= 400]"
   ]
  },
  {
   "cell_type": "markdown",
   "metadata": {},
   "source": [
    "For production countries, I will include dummy variables for any country that produced at least 400 variables."
   ]
  },
  {
   "cell_type": "code",
   "execution_count": 17,
   "metadata": {},
   "outputs": [],
   "source": [
    "top_countries = ['United States of America', 'United Kingdom', 'France', 'Germany', 'Italy', 'Canada', 'Japan', 'Spain',\n",
    "                 'Russia', 'India', 'Hong Kong', 'Sweden', 'Australia', 'South Korea', 'Belgium']\n",
    "#create dummy variables for production countries\n",
    "country_columns = pd.get_dummies(df['production_countries'].apply(pd.Series).stack()).sum(level=0)\n",
    "country_column_names = []\n",
    "#append dummy variables for the top countries to rest of data\n",
    "for country in top_countries:\n",
    "    df = pd.concat([df, country_columns[country]], axis=1)\n",
    "    country_column_names.append(country)"
   ]
  },
  {
   "cell_type": "code",
   "execution_count": 18,
   "metadata": {},
   "outputs": [
    {
     "name": "stdout",
     "output_type": "stream",
     "text": [
      "23280\n"
     ]
    },
    {
     "data": {
      "text/html": [
       "<div>\n",
       "<style scoped>\n",
       "    .dataframe tbody tr th:only-of-type {\n",
       "        vertical-align: middle;\n",
       "    }\n",
       "\n",
       "    .dataframe tbody tr th {\n",
       "        vertical-align: top;\n",
       "    }\n",
       "\n",
       "    .dataframe thead th {\n",
       "        text-align: right;\n",
       "    }\n",
       "</style>\n",
       "<table border=\"1\" class=\"dataframe\">\n",
       "  <thead>\n",
       "    <tr style=\"text-align: right;\">\n",
       "      <th></th>\n",
       "      <th>production_companies</th>\n",
       "      <th>count</th>\n",
       "    </tr>\n",
       "  </thead>\n",
       "  <tbody>\n",
       "    <tr>\n",
       "      <th>0</th>\n",
       "      <td>Warner Bros.</td>\n",
       "      <td>1244</td>\n",
       "    </tr>\n",
       "    <tr>\n",
       "      <th>1</th>\n",
       "      <td>Metro-Goldwyn-Mayer (MGM)</td>\n",
       "      <td>1075</td>\n",
       "    </tr>\n",
       "    <tr>\n",
       "      <th>2</th>\n",
       "      <td>Paramount Pictures</td>\n",
       "      <td>1002</td>\n",
       "    </tr>\n",
       "    <tr>\n",
       "      <th>3</th>\n",
       "      <td>Twentieth Century Fox Film Corporation</td>\n",
       "      <td>836</td>\n",
       "    </tr>\n",
       "    <tr>\n",
       "      <th>4</th>\n",
       "      <td>Universal Pictures</td>\n",
       "      <td>830</td>\n",
       "    </tr>\n",
       "    <tr>\n",
       "      <th>5</th>\n",
       "      <td>Columbia Pictures Corporation</td>\n",
       "      <td>448</td>\n",
       "    </tr>\n",
       "    <tr>\n",
       "      <th>6</th>\n",
       "      <td>Columbia Pictures</td>\n",
       "      <td>431</td>\n",
       "    </tr>\n",
       "    <tr>\n",
       "      <th>7</th>\n",
       "      <td>Canal+</td>\n",
       "      <td>428</td>\n",
       "    </tr>\n",
       "    <tr>\n",
       "      <th>8</th>\n",
       "      <td>RKO Radio Pictures</td>\n",
       "      <td>290</td>\n",
       "    </tr>\n",
       "    <tr>\n",
       "      <th>9</th>\n",
       "      <td>United Artists</td>\n",
       "      <td>279</td>\n",
       "    </tr>\n",
       "    <tr>\n",
       "      <th>10</th>\n",
       "      <td>New Line Cinema</td>\n",
       "      <td>277</td>\n",
       "    </tr>\n",
       "    <tr>\n",
       "      <th>11</th>\n",
       "      <td>Walt Disney Pictures</td>\n",
       "      <td>263</td>\n",
       "    </tr>\n",
       "    <tr>\n",
       "      <th>12</th>\n",
       "      <td>Touchstone Pictures</td>\n",
       "      <td>225</td>\n",
       "    </tr>\n",
       "  </tbody>\n",
       "</table>\n",
       "</div>"
      ],
      "text/plain": [
       "                      production_companies  count\n",
       "0                             Warner Bros.   1244\n",
       "1                Metro-Goldwyn-Mayer (MGM)   1075\n",
       "2                       Paramount Pictures   1002\n",
       "3   Twentieth Century Fox Film Corporation    836\n",
       "4                       Universal Pictures    830\n",
       "5            Columbia Pictures Corporation    448\n",
       "6                        Columbia Pictures    431\n",
       "7                                   Canal+    428\n",
       "8                       RKO Radio Pictures    290\n",
       "9                           United Artists    279\n",
       "10                         New Line Cinema    277\n",
       "11                    Walt Disney Pictures    263\n",
       "12                     Touchstone Pictures    225"
      ]
     },
     "execution_count": 18,
     "metadata": {},
     "output_type": "execute_result"
    }
   ],
   "source": [
    "#get counts for each production company\n",
    "companies_occur = list_counter(df[\"production_companies\"].values)\n",
    "companies = pd.DataFrame.from_records(companies_occur, columns=[\"production_companies\", \"count\"])\n",
    "#print number of companies\n",
    "print(len(companies))\n",
    "#select companies that have produced at least 200 films\n",
    "companies[companies['count'] > 200]"
   ]
  },
  {
   "cell_type": "markdown",
   "metadata": {},
   "source": [
    "Since there is a wider variety of production companies, I will include dummy variables for any company that produced at least 200 films."
   ]
  },
  {
   "cell_type": "code",
   "execution_count": 19,
   "metadata": {},
   "outputs": [],
   "source": [
    "companies = ['Warner Bros.', 'Metro-Goldwyn-Mayer (MGM)', 'Paramount Pictures', 'Twentieth Century Fox Film Corporation',\n",
    "            'Universal Pictures', 'Columbia Pictures Corporation', 'Columbia Pictures', 'RKO Radio Pictures', 'Canal+',\n",
    "            'United Artists', 'New Line Cinema', 'Walt Disney Pictures', 'Touchstone Pictures']\n",
    "#get dummy variables for production companies\n",
    "company_columns = pd.get_dummies(df['production_companies'].apply(pd.Series), prefix='', prefix_sep='').sum(level=0, axis=1)\n",
    "company_column_names = []\n",
    "#append dummy variables for most common production companies to rest of data\n",
    "for company in companies:\n",
    "    df = pd.concat([df, company_columns[company]], axis=1)\n",
    "    company_column_names.append(company)"
   ]
  },
  {
   "cell_type": "markdown",
   "metadata": {},
   "source": [
    "Next, I will apply a similar process to create dummy variables for original language. This process is slightly different because there is only a single value for original language for each film."
   ]
  },
  {
   "cell_type": "code",
   "execution_count": 20,
   "metadata": {},
   "outputs": [
    {
     "name": "stdout",
     "output_type": "stream",
     "text": [
      "89\n"
     ]
    },
    {
     "data": {
      "text/html": [
       "<div>\n",
       "<style scoped>\n",
       "    .dataframe tbody tr th:only-of-type {\n",
       "        vertical-align: middle;\n",
       "    }\n",
       "\n",
       "    .dataframe tbody tr th {\n",
       "        vertical-align: top;\n",
       "    }\n",
       "\n",
       "    .dataframe thead th {\n",
       "        text-align: right;\n",
       "    }\n",
       "</style>\n",
       "<table border=\"1\" class=\"dataframe\">\n",
       "  <thead>\n",
       "    <tr style=\"text-align: right;\">\n",
       "      <th></th>\n",
       "      <th>original_language</th>\n",
       "      <th>count</th>\n",
       "    </tr>\n",
       "  </thead>\n",
       "  <tbody>\n",
       "    <tr>\n",
       "      <th>0</th>\n",
       "      <td>en</td>\n",
       "      <td>31791</td>\n",
       "    </tr>\n",
       "    <tr>\n",
       "      <th>1</th>\n",
       "      <td>fr</td>\n",
       "      <td>2273</td>\n",
       "    </tr>\n",
       "    <tr>\n",
       "      <th>2</th>\n",
       "      <td>ja</td>\n",
       "      <td>1343</td>\n",
       "    </tr>\n",
       "    <tr>\n",
       "      <th>3</th>\n",
       "      <td>it</td>\n",
       "      <td>1264</td>\n",
       "    </tr>\n",
       "    <tr>\n",
       "      <th>4</th>\n",
       "      <td>de</td>\n",
       "      <td>959</td>\n",
       "    </tr>\n",
       "    <tr>\n",
       "      <th>5</th>\n",
       "      <td>es</td>\n",
       "      <td>923</td>\n",
       "    </tr>\n",
       "    <tr>\n",
       "      <th>6</th>\n",
       "      <td>ru</td>\n",
       "      <td>782</td>\n",
       "    </tr>\n",
       "    <tr>\n",
       "      <th>7</th>\n",
       "      <td>hi</td>\n",
       "      <td>506</td>\n",
       "    </tr>\n",
       "    <tr>\n",
       "      <th>8</th>\n",
       "      <td>ko</td>\n",
       "      <td>444</td>\n",
       "    </tr>\n",
       "    <tr>\n",
       "      <th>9</th>\n",
       "      <td>zh</td>\n",
       "      <td>406</td>\n",
       "    </tr>\n",
       "  </tbody>\n",
       "</table>\n",
       "</div>"
      ],
      "text/plain": [
       "  original_language  count\n",
       "0                en  31791\n",
       "1                fr   2273\n",
       "2                ja   1343\n",
       "3                it   1264\n",
       "4                de    959\n",
       "5                es    923\n",
       "6                ru    782\n",
       "7                hi    506\n",
       "8                ko    444\n",
       "9                zh    406"
      ]
     },
     "execution_count": 20,
     "metadata": {},
     "output_type": "execute_result"
    }
   ],
   "source": [
    "languages_occur = df['original_language'].value_counts()\n",
    "languages = languages_occur.rename_axis('original_language').reset_index(name='count')\n",
    "print(len(languages))\n",
    "languages[languages['count'] > 400]"
   ]
  },
  {
   "cell_type": "markdown",
   "metadata": {},
   "source": [
    "Like production country, I will include dummy variables for any language that appeared in at least 400 films."
   ]
  },
  {
   "cell_type": "code",
   "execution_count": 21,
   "metadata": {},
   "outputs": [],
   "source": [
    "top_languages = ['en', 'fr', 'ja', 'it', 'de', 'es', 'ru', 'hi', 'ko', 'zh']\n",
    "#get dummy variables for languages\n",
    "language_columns = pd.get_dummies(df['original_language'], prefix = 'language')\n",
    "language_column_names = []\n",
    "#add columns for most popular languages to main df\n",
    "for lang in top_languages:\n",
    "    df = pd.concat([df, language_columns['language_' + lang]], axis=1)\n",
    "    language_column_names.append('language_' + lang)"
   ]
  },
  {
   "cell_type": "markdown",
   "metadata": {},
   "source": [
    "Next, I will look at the status column."
   ]
  },
  {
   "cell_type": "code",
   "execution_count": 22,
   "metadata": {},
   "outputs": [
    {
     "name": "stdout",
     "output_type": "stream",
     "text": [
      "6\n"
     ]
    },
    {
     "data": {
      "text/html": [
       "<div>\n",
       "<style scoped>\n",
       "    .dataframe tbody tr th:only-of-type {\n",
       "        vertical-align: middle;\n",
       "    }\n",
       "\n",
       "    .dataframe tbody tr th {\n",
       "        vertical-align: top;\n",
       "    }\n",
       "\n",
       "    .dataframe thead th {\n",
       "        text-align: right;\n",
       "    }\n",
       "</style>\n",
       "<table border=\"1\" class=\"dataframe\">\n",
       "  <thead>\n",
       "    <tr style=\"text-align: right;\">\n",
       "      <th></th>\n",
       "      <th>status</th>\n",
       "      <th>count</th>\n",
       "    </tr>\n",
       "  </thead>\n",
       "  <tbody>\n",
       "    <tr>\n",
       "      <th>0</th>\n",
       "      <td>Released</td>\n",
       "      <td>43709</td>\n",
       "    </tr>\n",
       "    <tr>\n",
       "      <th>1</th>\n",
       "      <td>Rumored</td>\n",
       "      <td>214</td>\n",
       "    </tr>\n",
       "    <tr>\n",
       "      <th>2</th>\n",
       "      <td>Post Production</td>\n",
       "      <td>96</td>\n",
       "    </tr>\n",
       "    <tr>\n",
       "      <th>3</th>\n",
       "      <td>In Production</td>\n",
       "      <td>16</td>\n",
       "    </tr>\n",
       "    <tr>\n",
       "      <th>4</th>\n",
       "      <td>Planned</td>\n",
       "      <td>12</td>\n",
       "    </tr>\n",
       "    <tr>\n",
       "      <th>5</th>\n",
       "      <td>Canceled</td>\n",
       "      <td>1</td>\n",
       "    </tr>\n",
       "  </tbody>\n",
       "</table>\n",
       "</div>"
      ],
      "text/plain": [
       "            status  count\n",
       "0         Released  43709\n",
       "1          Rumored    214\n",
       "2  Post Production     96\n",
       "3    In Production     16\n",
       "4          Planned     12\n",
       "5         Canceled      1"
      ]
     },
     "execution_count": 22,
     "metadata": {},
     "output_type": "execute_result"
    }
   ],
   "source": [
    "#get counts for each status\n",
    "status_occur = df['status'].value_counts()\n",
    "statuses = status_occur.rename_axis('status').reset_index(name='count')\n",
    "print(len(statuses))\n",
    "statuses"
   ]
  },
  {
   "cell_type": "markdown",
   "metadata": {},
   "source": [
    "For our purposes, we will only look at the films that have been released, as information for films that have not been released may not be entirely accurate."
   ]
  },
  {
   "cell_type": "code",
   "execution_count": 23,
   "metadata": {},
   "outputs": [],
   "source": [
    "df = df[df['status'] == 'Released']"
   ]
  },
  {
   "cell_type": "markdown",
   "metadata": {},
   "source": [
    "Information about the cast and crew of each film is also available in a separate csv."
   ]
  },
  {
   "cell_type": "code",
   "execution_count": 24,
   "metadata": {},
   "outputs": [
    {
     "data": {
      "text/html": [
       "<div>\n",
       "<style scoped>\n",
       "    .dataframe tbody tr th:only-of-type {\n",
       "        vertical-align: middle;\n",
       "    }\n",
       "\n",
       "    .dataframe tbody tr th {\n",
       "        vertical-align: top;\n",
       "    }\n",
       "\n",
       "    .dataframe thead th {\n",
       "        text-align: right;\n",
       "    }\n",
       "</style>\n",
       "<table border=\"1\" class=\"dataframe\">\n",
       "  <thead>\n",
       "    <tr style=\"text-align: right;\">\n",
       "      <th></th>\n",
       "      <th>cast</th>\n",
       "      <th>crew</th>\n",
       "      <th>id</th>\n",
       "    </tr>\n",
       "  </thead>\n",
       "  <tbody>\n",
       "    <tr>\n",
       "      <th>0</th>\n",
       "      <td>[{'cast_id': 14, 'character': 'Woody (voice)',...</td>\n",
       "      <td>[{'credit_id': '52fe4284c3a36847f8024f49', 'de...</td>\n",
       "      <td>862</td>\n",
       "    </tr>\n",
       "    <tr>\n",
       "      <th>1</th>\n",
       "      <td>[{'cast_id': 1, 'character': 'Alan Parrish', '...</td>\n",
       "      <td>[{'credit_id': '52fe44bfc3a36847f80a7cd1', 'de...</td>\n",
       "      <td>8844</td>\n",
       "    </tr>\n",
       "    <tr>\n",
       "      <th>2</th>\n",
       "      <td>[{'cast_id': 2, 'character': 'Max Goldman', 'c...</td>\n",
       "      <td>[{'credit_id': '52fe466a9251416c75077a89', 'de...</td>\n",
       "      <td>15602</td>\n",
       "    </tr>\n",
       "    <tr>\n",
       "      <th>3</th>\n",
       "      <td>[{'cast_id': 1, 'character': \"Savannah 'Vannah...</td>\n",
       "      <td>[{'credit_id': '52fe44779251416c91011acb', 'de...</td>\n",
       "      <td>31357</td>\n",
       "    </tr>\n",
       "    <tr>\n",
       "      <th>4</th>\n",
       "      <td>[{'cast_id': 1, 'character': 'George Banks', '...</td>\n",
       "      <td>[{'credit_id': '52fe44959251416c75039ed7', 'de...</td>\n",
       "      <td>11862</td>\n",
       "    </tr>\n",
       "  </tbody>\n",
       "</table>\n",
       "</div>"
      ],
      "text/plain": [
       "                                                cast  \\\n",
       "0  [{'cast_id': 14, 'character': 'Woody (voice)',...   \n",
       "1  [{'cast_id': 1, 'character': 'Alan Parrish', '...   \n",
       "2  [{'cast_id': 2, 'character': 'Max Goldman', 'c...   \n",
       "3  [{'cast_id': 1, 'character': \"Savannah 'Vannah...   \n",
       "4  [{'cast_id': 1, 'character': 'George Banks', '...   \n",
       "\n",
       "                                                crew     id  \n",
       "0  [{'credit_id': '52fe4284c3a36847f8024f49', 'de...    862  \n",
       "1  [{'credit_id': '52fe44bfc3a36847f80a7cd1', 'de...   8844  \n",
       "2  [{'credit_id': '52fe466a9251416c75077a89', 'de...  15602  \n",
       "3  [{'credit_id': '52fe44779251416c91011acb', 'de...  31357  \n",
       "4  [{'credit_id': '52fe44959251416c75039ed7', 'de...  11862  "
      ]
     },
     "execution_count": 24,
     "metadata": {},
     "output_type": "execute_result"
    }
   ],
   "source": [
    "#load cast and crew info\n",
    "credits_df = pd.read_csv('credits.csv')\n",
    "credits_df.head()"
   ]
  },
  {
   "cell_type": "code",
   "execution_count": 25,
   "metadata": {},
   "outputs": [],
   "source": [
    "#convert features to dictionary\n",
    "features = ['cast', 'crew']\n",
    "for feature in features:\n",
    "    credits_df[feature] = credits_df[feature].apply(literal_eval)"
   ]
  },
  {
   "cell_type": "markdown",
   "metadata": {},
   "source": [
    "Next, I will select the director for each film from the crew column and store it in its own column. Then I will look at the most popular directors and create dummy variables for those directors."
   ]
  },
  {
   "cell_type": "code",
   "execution_count": 26,
   "metadata": {},
   "outputs": [],
   "source": [
    "#define function to select director\n",
    "def get_director(x):\n",
    "    for i in x:\n",
    "        if i['job'] == 'Director':\n",
    "            return i['name']\n",
    "    return np.nan"
   ]
  },
  {
   "cell_type": "code",
   "execution_count": 27,
   "metadata": {},
   "outputs": [],
   "source": [
    "#create new director column\n",
    "credits_df['director'] = credits_df['crew'].apply(get_director)"
   ]
  },
  {
   "cell_type": "code",
   "execution_count": 28,
   "metadata": {},
   "outputs": [
    {
     "name": "stdout",
     "output_type": "stream",
     "text": [
      "17572\n"
     ]
    },
    {
     "data": {
      "text/html": [
       "<div>\n",
       "<style scoped>\n",
       "    .dataframe tbody tr th:only-of-type {\n",
       "        vertical-align: middle;\n",
       "    }\n",
       "\n",
       "    .dataframe tbody tr th {\n",
       "        vertical-align: top;\n",
       "    }\n",
       "\n",
       "    .dataframe thead th {\n",
       "        text-align: right;\n",
       "    }\n",
       "</style>\n",
       "<table border=\"1\" class=\"dataframe\">\n",
       "  <thead>\n",
       "    <tr style=\"text-align: right;\">\n",
       "      <th></th>\n",
       "      <th>director</th>\n",
       "      <th>count</th>\n",
       "    </tr>\n",
       "  </thead>\n",
       "  <tbody>\n",
       "    <tr>\n",
       "      <th>0</th>\n",
       "      <td>John Ford</td>\n",
       "      <td>66</td>\n",
       "    </tr>\n",
       "    <tr>\n",
       "      <th>1</th>\n",
       "      <td>Michael Curtiz</td>\n",
       "      <td>65</td>\n",
       "    </tr>\n",
       "    <tr>\n",
       "      <th>2</th>\n",
       "      <td>Werner Herzog</td>\n",
       "      <td>54</td>\n",
       "    </tr>\n",
       "    <tr>\n",
       "      <th>3</th>\n",
       "      <td>Alfred Hitchcock</td>\n",
       "      <td>53</td>\n",
       "    </tr>\n",
       "    <tr>\n",
       "      <th>4</th>\n",
       "      <td>Georges Méliès</td>\n",
       "      <td>51</td>\n",
       "    </tr>\n",
       "    <tr>\n",
       "      <th>5</th>\n",
       "      <td>Woody Allen</td>\n",
       "      <td>49</td>\n",
       "    </tr>\n",
       "    <tr>\n",
       "      <th>6</th>\n",
       "      <td>Jean-Luc Godard</td>\n",
       "      <td>47</td>\n",
       "    </tr>\n",
       "    <tr>\n",
       "      <th>7</th>\n",
       "      <td>Sidney Lumet</td>\n",
       "      <td>46</td>\n",
       "    </tr>\n",
       "    <tr>\n",
       "      <th>8</th>\n",
       "      <td>Charlie Chaplin</td>\n",
       "      <td>44</td>\n",
       "    </tr>\n",
       "    <tr>\n",
       "      <th>9</th>\n",
       "      <td>Raoul Walsh</td>\n",
       "      <td>43</td>\n",
       "    </tr>\n",
       "    <tr>\n",
       "      <th>10</th>\n",
       "      <td>William A. Wellman</td>\n",
       "      <td>42</td>\n",
       "    </tr>\n",
       "    <tr>\n",
       "      <th>11</th>\n",
       "      <td>Henry Hathaway</td>\n",
       "      <td>42</td>\n",
       "    </tr>\n",
       "    <tr>\n",
       "      <th>12</th>\n",
       "      <td>Richard Thorpe</td>\n",
       "      <td>40</td>\n",
       "    </tr>\n",
       "    <tr>\n",
       "      <th>13</th>\n",
       "      <td>Martin Scorsese</td>\n",
       "      <td>40</td>\n",
       "    </tr>\n",
       "  </tbody>\n",
       "</table>\n",
       "</div>"
      ],
      "text/plain": [
       "              director  count\n",
       "0            John Ford     66\n",
       "1       Michael Curtiz     65\n",
       "2        Werner Herzog     54\n",
       "3     Alfred Hitchcock     53\n",
       "4       Georges Méliès     51\n",
       "5          Woody Allen     49\n",
       "6      Jean-Luc Godard     47\n",
       "7         Sidney Lumet     46\n",
       "8      Charlie Chaplin     44\n",
       "9          Raoul Walsh     43\n",
       "10  William A. Wellman     42\n",
       "11      Henry Hathaway     42\n",
       "12      Richard Thorpe     40\n",
       "13     Martin Scorsese     40"
      ]
     },
     "execution_count": 28,
     "metadata": {},
     "output_type": "execute_result"
    }
   ],
   "source": [
    "#get counts for each director\n",
    "directors_occur = credits_df['director'].value_counts()\n",
    "directors = directors_occur.rename_axis('director').reset_index(name='count')\n",
    "#select number of directors\n",
    "print(len(directors))\n",
    "#select directors who have made at least 40 films\n",
    "directors[directors['count'] >= 40]"
   ]
  },
  {
   "cell_type": "markdown",
   "metadata": {},
   "source": [
    "I will add dummy variables to the data frame for each director who made at least 40 films."
   ]
  },
  {
   "cell_type": "code",
   "execution_count": 29,
   "metadata": {},
   "outputs": [],
   "source": [
    "top_directors = ['John Ford', 'Michael Curtiz', 'Werner Herzog', 'Alfred Hitchcock', 'Georges Méliès', 'Woody Allen', \n",
    "                'Jean-Luc Godard', 'Sidney Lumet', 'Charlie Chaplin', 'Raoul Walsh', 'Henry Hathaway', \n",
    "                 'William A. Wellman', 'Martin Scorsese', 'Richard Thorpe']\n",
    "#get dummy variables for the directors\n",
    "director_columns = pd.get_dummies(credits_df['director'])\n",
    "director_column_names = []\n",
    "#concat top director dummy columns with the credits data frame\n",
    "for dir in top_directors:\n",
    "    credits_df = pd.concat([credits_df, director_columns[dir]], axis=1)\n",
    "    director_column_names.append(dir)"
   ]
  },
  {
   "cell_type": "markdown",
   "metadata": {},
   "source": [
    "I will convert the cast column to a list to make it easier to work with."
   ]
  },
  {
   "cell_type": "code",
   "execution_count": 30,
   "metadata": {},
   "outputs": [],
   "source": [
    "#convert cast to list\n",
    "credits_df['cast'] = credits_df['cast'].apply(get_list)"
   ]
  },
  {
   "cell_type": "markdown",
   "metadata": {},
   "source": [
    "Next, I will get keyword information from the keywords csv."
   ]
  },
  {
   "cell_type": "code",
   "execution_count": 31,
   "metadata": {},
   "outputs": [
    {
     "data": {
      "text/html": [
       "<div>\n",
       "<style scoped>\n",
       "    .dataframe tbody tr th:only-of-type {\n",
       "        vertical-align: middle;\n",
       "    }\n",
       "\n",
       "    .dataframe tbody tr th {\n",
       "        vertical-align: top;\n",
       "    }\n",
       "\n",
       "    .dataframe thead th {\n",
       "        text-align: right;\n",
       "    }\n",
       "</style>\n",
       "<table border=\"1\" class=\"dataframe\">\n",
       "  <thead>\n",
       "    <tr style=\"text-align: right;\">\n",
       "      <th></th>\n",
       "      <th>id</th>\n",
       "      <th>keywords</th>\n",
       "    </tr>\n",
       "  </thead>\n",
       "  <tbody>\n",
       "    <tr>\n",
       "      <th>0</th>\n",
       "      <td>862</td>\n",
       "      <td>[{'id': 931, 'name': 'jealousy'}, {'id': 4290,...</td>\n",
       "    </tr>\n",
       "    <tr>\n",
       "      <th>1</th>\n",
       "      <td>8844</td>\n",
       "      <td>[{'id': 10090, 'name': 'board game'}, {'id': 1...</td>\n",
       "    </tr>\n",
       "    <tr>\n",
       "      <th>2</th>\n",
       "      <td>15602</td>\n",
       "      <td>[{'id': 1495, 'name': 'fishing'}, {'id': 12392...</td>\n",
       "    </tr>\n",
       "    <tr>\n",
       "      <th>3</th>\n",
       "      <td>31357</td>\n",
       "      <td>[{'id': 818, 'name': 'based on novel'}, {'id':...</td>\n",
       "    </tr>\n",
       "    <tr>\n",
       "      <th>4</th>\n",
       "      <td>11862</td>\n",
       "      <td>[{'id': 1009, 'name': 'baby'}, {'id': 1599, 'n...</td>\n",
       "    </tr>\n",
       "  </tbody>\n",
       "</table>\n",
       "</div>"
      ],
      "text/plain": [
       "      id                                           keywords\n",
       "0    862  [{'id': 931, 'name': 'jealousy'}, {'id': 4290,...\n",
       "1   8844  [{'id': 10090, 'name': 'board game'}, {'id': 1...\n",
       "2  15602  [{'id': 1495, 'name': 'fishing'}, {'id': 12392...\n",
       "3  31357  [{'id': 818, 'name': 'based on novel'}, {'id':...\n",
       "4  11862  [{'id': 1009, 'name': 'baby'}, {'id': 1599, 'n..."
      ]
     },
     "execution_count": 31,
     "metadata": {},
     "output_type": "execute_result"
    }
   ],
   "source": [
    "keywords_df = pd.read_csv('keywords.csv')\n",
    "keywords_df.head()"
   ]
  },
  {
   "cell_type": "markdown",
   "metadata": {},
   "source": [
    "I will convert the keywords column into a list so that it is easier to work with. Then, I will look at the most common keywords and create variables for those, as I have done several times."
   ]
  },
  {
   "cell_type": "code",
   "execution_count": 32,
   "metadata": {},
   "outputs": [],
   "source": [
    "#convert keywords to list\n",
    "keywords_df['keywords'] = keywords_df['keywords'].apply(literal_eval)\n",
    "keywords_df['keywords'] = keywords_df['keywords'].apply(get_list)"
   ]
  },
  {
   "cell_type": "code",
   "execution_count": 33,
   "metadata": {},
   "outputs": [
    {
     "name": "stdout",
     "output_type": "stream",
     "text": [
      "19956\n"
     ]
    },
    {
     "data": {
      "text/html": [
       "<div>\n",
       "<style scoped>\n",
       "    .dataframe tbody tr th:only-of-type {\n",
       "        vertical-align: middle;\n",
       "    }\n",
       "\n",
       "    .dataframe tbody tr th {\n",
       "        vertical-align: top;\n",
       "    }\n",
       "\n",
       "    .dataframe thead th {\n",
       "        text-align: right;\n",
       "    }\n",
       "</style>\n",
       "<table border=\"1\" class=\"dataframe\">\n",
       "  <thead>\n",
       "    <tr style=\"text-align: right;\">\n",
       "      <th></th>\n",
       "      <th>keyword</th>\n",
       "      <th>count</th>\n",
       "    </tr>\n",
       "  </thead>\n",
       "  <tbody>\n",
       "    <tr>\n",
       "      <th>0</th>\n",
       "      <td>woman director</td>\n",
       "      <td>3115</td>\n",
       "    </tr>\n",
       "    <tr>\n",
       "      <th>1</th>\n",
       "      <td>independent film</td>\n",
       "      <td>1930</td>\n",
       "    </tr>\n",
       "    <tr>\n",
       "      <th>2</th>\n",
       "      <td>murder</td>\n",
       "      <td>1308</td>\n",
       "    </tr>\n",
       "    <tr>\n",
       "      <th>3</th>\n",
       "      <td>based on novel</td>\n",
       "      <td>835</td>\n",
       "    </tr>\n",
       "    <tr>\n",
       "      <th>4</th>\n",
       "      <td>musical</td>\n",
       "      <td>734</td>\n",
       "    </tr>\n",
       "    <tr>\n",
       "      <th>5</th>\n",
       "      <td>sex</td>\n",
       "      <td>685</td>\n",
       "    </tr>\n",
       "    <tr>\n",
       "      <th>6</th>\n",
       "      <td>violence</td>\n",
       "      <td>651</td>\n",
       "    </tr>\n",
       "    <tr>\n",
       "      <th>7</th>\n",
       "      <td>nudity</td>\n",
       "      <td>636</td>\n",
       "    </tr>\n",
       "    <tr>\n",
       "      <th>8</th>\n",
       "      <td>biography</td>\n",
       "      <td>629</td>\n",
       "    </tr>\n",
       "    <tr>\n",
       "      <th>9</th>\n",
       "      <td>revenge</td>\n",
       "      <td>626</td>\n",
       "    </tr>\n",
       "    <tr>\n",
       "      <th>10</th>\n",
       "      <td>suspense</td>\n",
       "      <td>590</td>\n",
       "    </tr>\n",
       "    <tr>\n",
       "      <th>11</th>\n",
       "      <td>love</td>\n",
       "      <td>574</td>\n",
       "    </tr>\n",
       "    <tr>\n",
       "      <th>12</th>\n",
       "      <td>female nudity</td>\n",
       "      <td>563</td>\n",
       "    </tr>\n",
       "    <tr>\n",
       "      <th>13</th>\n",
       "      <td>sport</td>\n",
       "      <td>544</td>\n",
       "    </tr>\n",
       "    <tr>\n",
       "      <th>14</th>\n",
       "      <td>police</td>\n",
       "      <td>454</td>\n",
       "    </tr>\n",
       "    <tr>\n",
       "      <th>15</th>\n",
       "      <td>teenager</td>\n",
       "      <td>441</td>\n",
       "    </tr>\n",
       "    <tr>\n",
       "      <th>16</th>\n",
       "      <td>duringcreditsstinger</td>\n",
       "      <td>440</td>\n",
       "    </tr>\n",
       "    <tr>\n",
       "      <th>17</th>\n",
       "      <td>sequel</td>\n",
       "      <td>439</td>\n",
       "    </tr>\n",
       "    <tr>\n",
       "      <th>18</th>\n",
       "      <td>friendship</td>\n",
       "      <td>411</td>\n",
       "    </tr>\n",
       "  </tbody>\n",
       "</table>\n",
       "</div>"
      ],
      "text/plain": [
       "                 keyword  count\n",
       "0         woman director   3115\n",
       "1       independent film   1930\n",
       "2                 murder   1308\n",
       "3         based on novel    835\n",
       "4                musical    734\n",
       "5                    sex    685\n",
       "6               violence    651\n",
       "7                 nudity    636\n",
       "8              biography    629\n",
       "9                revenge    626\n",
       "10              suspense    590\n",
       "11                  love    574\n",
       "12         female nudity    563\n",
       "13                 sport    544\n",
       "14                police    454\n",
       "15              teenager    441\n",
       "16  duringcreditsstinger    440\n",
       "17                sequel    439\n",
       "18            friendship    411"
      ]
     },
     "execution_count": 33,
     "metadata": {},
     "output_type": "execute_result"
    }
   ],
   "source": [
    "#get counts of each keyword\n",
    "keyword_occur = list_counter(keywords_df[\"keywords\"].values)\n",
    "keywords = pd.DataFrame.from_records(keyword_occur, columns=[\"keyword\", \"count\"])\n",
    "#select number of keywords\n",
    "print(len(keywords))\n",
    "#select keywords that describe at least 400 films\n",
    "keywords[keywords['count'] >= 400]"
   ]
  },
  {
   "cell_type": "markdown",
   "metadata": {},
   "source": [
    "I will include dummy variables for keywords that describe at least 400 films."
   ]
  },
  {
   "cell_type": "code",
   "execution_count": 34,
   "metadata": {},
   "outputs": [],
   "source": [
    "top_keywords = ['woman director', 'independent film', 'murder', 'based on novel', 'musical', 'sex', 'violence', 'nudity', \n",
    "               'biography', 'revenge', 'suspense', 'love', 'female nudity', 'sport', 'police', 'teenager', \n",
    "                'duringcreditsstinger', 'sequel', 'friendship']\n",
    "#get dummy variables for keywords\n",
    "keyword_columns = pd.get_dummies(keywords_df['keywords'].apply(pd.Series), prefix='', prefix_sep='').sum(level=0, axis=1)\n",
    "keyword_column_names = []\n",
    "#append dummy variables for most common keywords to credits dataframe\n",
    "for word in top_keywords:\n",
    "    keywords_df = pd.concat([keywords_df, keyword_columns[word]], axis=1)\n",
    "    keyword_column_names.append(word)"
   ]
  },
  {
   "cell_type": "markdown",
   "metadata": {},
   "source": [
    "Since the id variable in the credits and keywords dataframe is numeric, I must convert the id variable in the main dataframe to numeric before I merge the dataframes. I will merge both of the dataframes with the main dataframe."
   ]
  },
  {
   "cell_type": "code",
   "execution_count": 35,
   "metadata": {},
   "outputs": [],
   "source": [
    "#convert id column to numeric\n",
    "df['id'] = df['id'].apply(lambda x: int(x))\n",
    "#merge credits df with main df\n",
    "df = df.merge(credits_df ,on='id')\n",
    "#merge keywords df with main df\n",
    "df = df.merge(keywords_df ,on='id')"
   ]
  },
  {
   "cell_type": "markdown",
   "metadata": {},
   "source": [
    "I will check for missing values again to see if any of the data manipulation has introduced any missing values."
   ]
  },
  {
   "cell_type": "code",
   "execution_count": 36,
   "metadata": {},
   "outputs": [
    {
     "data": {
      "text/html": [
       "<div>\n",
       "<style scoped>\n",
       "    .dataframe tbody tr th:only-of-type {\n",
       "        vertical-align: middle;\n",
       "    }\n",
       "\n",
       "    .dataframe tbody tr th {\n",
       "        vertical-align: top;\n",
       "    }\n",
       "\n",
       "    .dataframe thead th {\n",
       "        text-align: right;\n",
       "    }\n",
       "</style>\n",
       "<table border=\"1\" class=\"dataframe\">\n",
       "  <thead>\n",
       "    <tr style=\"text-align: right;\">\n",
       "      <th></th>\n",
       "      <th>column_name</th>\n",
       "      <th>percent_missing</th>\n",
       "    </tr>\n",
       "  </thead>\n",
       "  <tbody>\n",
       "    <tr>\n",
       "      <th>Spain</th>\n",
       "      <td>Spain</td>\n",
       "      <td>13.015533</td>\n",
       "    </tr>\n",
       "    <tr>\n",
       "      <th>United States of America</th>\n",
       "      <td>United States of America</td>\n",
       "      <td>13.015533</td>\n",
       "    </tr>\n",
       "    <tr>\n",
       "      <th>Russia</th>\n",
       "      <td>Russia</td>\n",
       "      <td>13.015533</td>\n",
       "    </tr>\n",
       "    <tr>\n",
       "      <th>Hong Kong</th>\n",
       "      <td>Hong Kong</td>\n",
       "      <td>13.015533</td>\n",
       "    </tr>\n",
       "    <tr>\n",
       "      <th>Sweden</th>\n",
       "      <td>Sweden</td>\n",
       "      <td>13.015533</td>\n",
       "    </tr>\n",
       "    <tr>\n",
       "      <th>Australia</th>\n",
       "      <td>Australia</td>\n",
       "      <td>13.015533</td>\n",
       "    </tr>\n",
       "    <tr>\n",
       "      <th>South Korea</th>\n",
       "      <td>South Korea</td>\n",
       "      <td>13.015533</td>\n",
       "    </tr>\n",
       "    <tr>\n",
       "      <th>Belgium</th>\n",
       "      <td>Belgium</td>\n",
       "      <td>13.015533</td>\n",
       "    </tr>\n",
       "    <tr>\n",
       "      <th>India</th>\n",
       "      <td>India</td>\n",
       "      <td>13.015533</td>\n",
       "    </tr>\n",
       "    <tr>\n",
       "      <th>United Kingdom</th>\n",
       "      <td>United Kingdom</td>\n",
       "      <td>13.015533</td>\n",
       "    </tr>\n",
       "    <tr>\n",
       "      <th>Japan</th>\n",
       "      <td>Japan</td>\n",
       "      <td>13.015533</td>\n",
       "    </tr>\n",
       "    <tr>\n",
       "      <th>Canada</th>\n",
       "      <td>Canada</td>\n",
       "      <td>13.015533</td>\n",
       "    </tr>\n",
       "    <tr>\n",
       "      <th>Italy</th>\n",
       "      <td>Italy</td>\n",
       "      <td>13.015533</td>\n",
       "    </tr>\n",
       "    <tr>\n",
       "      <th>Germany</th>\n",
       "      <td>Germany</td>\n",
       "      <td>13.015533</td>\n",
       "    </tr>\n",
       "    <tr>\n",
       "      <th>France</th>\n",
       "      <td>France</td>\n",
       "      <td>13.015533</td>\n",
       "    </tr>\n",
       "    <tr>\n",
       "      <th>Western</th>\n",
       "      <td>Western</td>\n",
       "      <td>4.485806</td>\n",
       "    </tr>\n",
       "    <tr>\n",
       "      <th>Fantasy</th>\n",
       "      <td>Fantasy</td>\n",
       "      <td>4.485806</td>\n",
       "    </tr>\n",
       "    <tr>\n",
       "      <th>Crime</th>\n",
       "      <td>Crime</td>\n",
       "      <td>4.485806</td>\n",
       "    </tr>\n",
       "    <tr>\n",
       "      <th>Action</th>\n",
       "      <td>Action</td>\n",
       "      <td>4.485806</td>\n",
       "    </tr>\n",
       "    <tr>\n",
       "      <th>TV Movie</th>\n",
       "      <td>TV Movie</td>\n",
       "      <td>4.485806</td>\n",
       "    </tr>\n",
       "    <tr>\n",
       "      <th>Mystery</th>\n",
       "      <td>Mystery</td>\n",
       "      <td>4.485806</td>\n",
       "    </tr>\n",
       "    <tr>\n",
       "      <th>Thriller</th>\n",
       "      <td>Thriller</td>\n",
       "      <td>4.485806</td>\n",
       "    </tr>\n",
       "    <tr>\n",
       "      <th>Horror</th>\n",
       "      <td>Horror</td>\n",
       "      <td>4.485806</td>\n",
       "    </tr>\n",
       "    <tr>\n",
       "      <th>History</th>\n",
       "      <td>History</td>\n",
       "      <td>4.485806</td>\n",
       "    </tr>\n",
       "    <tr>\n",
       "      <th>Drama</th>\n",
       "      <td>Drama</td>\n",
       "      <td>4.485806</td>\n",
       "    </tr>\n",
       "    <tr>\n",
       "      <th>War</th>\n",
       "      <td>War</td>\n",
       "      <td>4.485806</td>\n",
       "    </tr>\n",
       "    <tr>\n",
       "      <th>Foreign</th>\n",
       "      <td>Foreign</td>\n",
       "      <td>4.485806</td>\n",
       "    </tr>\n",
       "    <tr>\n",
       "      <th>Documentary</th>\n",
       "      <td>Documentary</td>\n",
       "      <td>4.485806</td>\n",
       "    </tr>\n",
       "    <tr>\n",
       "      <th>Family</th>\n",
       "      <td>Family</td>\n",
       "      <td>4.485806</td>\n",
       "    </tr>\n",
       "    <tr>\n",
       "      <th>Science Fiction</th>\n",
       "      <td>Science Fiction</td>\n",
       "      <td>4.485806</td>\n",
       "    </tr>\n",
       "    <tr>\n",
       "      <th>Romance</th>\n",
       "      <td>Romance</td>\n",
       "      <td>4.485806</td>\n",
       "    </tr>\n",
       "    <tr>\n",
       "      <th>Music</th>\n",
       "      <td>Music</td>\n",
       "      <td>4.485806</td>\n",
       "    </tr>\n",
       "    <tr>\n",
       "      <th>Adventure</th>\n",
       "      <td>Adventure</td>\n",
       "      <td>4.485806</td>\n",
       "    </tr>\n",
       "    <tr>\n",
       "      <th>Comedy</th>\n",
       "      <td>Comedy</td>\n",
       "      <td>4.485806</td>\n",
       "    </tr>\n",
       "    <tr>\n",
       "      <th>Animation</th>\n",
       "      <td>Animation</td>\n",
       "      <td>4.485806</td>\n",
       "    </tr>\n",
       "    <tr>\n",
       "      <th>director</th>\n",
       "      <td>director</td>\n",
       "      <td>1.501964</td>\n",
       "    </tr>\n",
       "  </tbody>\n",
       "</table>\n",
       "</div>"
      ],
      "text/plain": [
       "                                       column_name  percent_missing\n",
       "Spain                                        Spain        13.015533\n",
       "United States of America  United States of America        13.015533\n",
       "Russia                                      Russia        13.015533\n",
       "Hong Kong                                Hong Kong        13.015533\n",
       "Sweden                                      Sweden        13.015533\n",
       "Australia                                Australia        13.015533\n",
       "South Korea                            South Korea        13.015533\n",
       "Belgium                                    Belgium        13.015533\n",
       "India                                        India        13.015533\n",
       "United Kingdom                      United Kingdom        13.015533\n",
       "Japan                                        Japan        13.015533\n",
       "Canada                                      Canada        13.015533\n",
       "Italy                                        Italy        13.015533\n",
       "Germany                                    Germany        13.015533\n",
       "France                                      France        13.015533\n",
       "Western                                    Western         4.485806\n",
       "Fantasy                                    Fantasy         4.485806\n",
       "Crime                                        Crime         4.485806\n",
       "Action                                      Action         4.485806\n",
       "TV Movie                                  TV Movie         4.485806\n",
       "Mystery                                    Mystery         4.485806\n",
       "Thriller                                  Thriller         4.485806\n",
       "Horror                                      Horror         4.485806\n",
       "History                                    History         4.485806\n",
       "Drama                                        Drama         4.485806\n",
       "War                                            War         4.485806\n",
       "Foreign                                    Foreign         4.485806\n",
       "Documentary                            Documentary         4.485806\n",
       "Family                                      Family         4.485806\n",
       "Science Fiction                    Science Fiction         4.485806\n",
       "Romance                                    Romance         4.485806\n",
       "Music                                        Music         4.485806\n",
       "Adventure                                Adventure         4.485806\n",
       "Comedy                                      Comedy         4.485806\n",
       "Animation                                Animation         4.485806\n",
       "director                                  director         1.501964"
      ]
     },
     "execution_count": 36,
     "metadata": {},
     "output_type": "execute_result"
    }
   ],
   "source": [
    "#get percentages of missing values\n",
    "percent_missing = df.isnull().sum() * 100 / len(df)\n",
    "missing_value_df = pd.DataFrame({'column_name': df.columns,\n",
    "                                 'percent_missing': percent_missing})\n",
    "missing_value_df.sort_values('percent_missing', inplace=True, ascending = False)\n",
    "missing_value_df[missing_value_df['percent_missing'] > 0]"
   ]
  },
  {
   "cell_type": "markdown",
   "metadata": {},
   "source": [
    "For dummy variables that are missing values, I will replace the null values with 0."
   ]
  },
  {
   "cell_type": "code",
   "execution_count": 37,
   "metadata": {},
   "outputs": [],
   "source": [
    "cols = ['Spain', 'United States of America', 'Russia', 'Hong Kong', 'Sweden', 'Australia', 'South Korea', 'Belgium',\n",
    "        'India', 'United Kingdom', 'Japan', 'Canada', 'Italy', 'Germany', 'France', 'Horror', 'Crime', \n",
    "        'Action', 'Mystery', 'Thriller', 'TV Movie', 'History', 'Science Fiction', 'Foreign', 'Documentary', 'Western', \n",
    "        'Family', 'Fantasy', 'War', 'Drama', 'Music', 'Adventure', 'Romance', 'Comedy', 'Animation']\n",
    "for col in cols:\n",
    "    df[col] = df[col].fillna(0)"
   ]
  },
  {
   "cell_type": "markdown",
   "metadata": {},
   "source": [
    "Next, I will look more closely at the numeric variables by plotting their histograms."
   ]
  },
  {
   "cell_type": "code",
   "execution_count": 38,
   "metadata": {},
   "outputs": [
    {
     "data": {
      "image/png": "[encoded data removed]",
      "text/plain": [
       "<Figure size 2160x1440 with 6 Axes>"
      ]
     },
     "metadata": {
      "needs_background": "light"
     },
     "output_type": "display_data"
    }
   ],
   "source": [
    "#plot histograms of numeric variables\n",
    "plt.figure(figsize = (30, 20))\n",
    "plt.subplot(2, 3, 1)\n",
    "sns.distplot(df['budget'], kde = False, color = '#952e8f')\n",
    "plt.title('Budget Distribution')\n",
    "plt.subplot(2, 3, 2)\n",
    "sns.distplot(df['popularity'], kde = False, color = '#61de2a')\n",
    "plt.title('Popularity Distribution')\n",
    "plt.subplot(2, 3, 3)\n",
    "sns.distplot(df['revenue'], kde = False, color = '#0c06f7')\n",
    "plt.title('Revenue Distribution')\n",
    "plt.subplot(2, 3, 4)\n",
    "sns.distplot(df['runtime'], kde = False, color = '#ff0789')\n",
    "plt.title('Runtime Distribution')\n",
    "plt.subplot(2, 3, 5)\n",
    "sns.distplot(df['vote_average'], kde = False, color = '#13bbaf')\n",
    "plt.title('Vote Average Distribution')\n",
    "plt.subplot(2, 3, 6)\n",
    "sns.distplot(df['vote_count'], kde = False, color = '#fd5956')\n",
    "plt.title('Vote Count Distribution')\n",
    "plt.tight_layout()\n",
    "plt.show()"
   ]
  },
  {
   "cell_type": "markdown",
   "metadata": {},
   "source": [
    "Several of the variables primarily take the value 0. To try to make our data less skewed, I will take the subset of the data where each of the numeric variables (budget, popularity, revenue, runtime, vote average, and vote count) is not 0."
   ]
  },
  {
   "cell_type": "code",
   "execution_count": 39,
   "metadata": {},
   "outputs": [],
   "source": [
    "df = df[df['budget'] != 0]\n",
    "df = df[df['revenue'] != 0]\n",
    "df = df[df['popularity'] != 0]\n",
    "df = df[df['runtime'] != 0]\n",
    "df = df[df['vote_average'] != 0]\n",
    "df = df[df['vote_count'] != 0]"
   ]
  },
  {
   "cell_type": "code",
   "execution_count": 40,
   "metadata": {},
   "outputs": [
    {
     "data": {
      "image/png": "[encoded data removed]",
      "text/plain": [
       "<Figure size 2160x1440 with 6 Axes>"
      ]
     },
     "metadata": {
      "needs_background": "light"
     },
     "output_type": "display_data"
    }
   ],
   "source": [
    "#plot histograms of numeric variables\n",
    "plt.figure(figsize = (30, 20))\n",
    "plt.subplot(2, 3, 1)\n",
    "sns.distplot(df['budget'], kde = False, color = '#952e8f')\n",
    "plt.title('Budget Distribution')\n",
    "plt.subplot(2, 3, 2)\n",
    "sns.distplot(df['popularity'], kde = False, color = '#61de2a')\n",
    "plt.title('Popularity Distribution')\n",
    "plt.subplot(2, 3, 3)\n",
    "sns.distplot(df['revenue'], kde = False, color = '#0c06f7')\n",
    "plt.title('Revenue Distribution')\n",
    "plt.subplot(2, 3, 4)\n",
    "sns.distplot(df['runtime'], kde = False, color = '#ff0789')\n",
    "plt.title('Runtime Distribution')\n",
    "plt.subplot(2, 3, 5)\n",
    "sns.distplot(df['vote_average'], kde = False, color = '#13bbaf')\n",
    "plt.title('Vote Average Distribution')\n",
    "plt.subplot(2, 3, 6)\n",
    "sns.distplot(df['vote_count'], kde = False, color = '#fd5956')\n",
    "plt.title('Vote Count Distribution')\n",
    "plt.tight_layout()\n",
    "plt.show()"
   ]
  },
  {
   "cell_type": "markdown",
   "metadata": {},
   "source": [
    "In order to obtain a reasonable number of clusters, we will limit the data to the top-rated films, i.e. the films with a vote average of at least 7.5. This leaves us with 468 films to work with."
   ]
  },
  {
   "cell_type": "code",
   "execution_count": 41,
   "metadata": {},
   "outputs": [
    {
     "name": "stdout",
     "output_type": "stream",
     "text": [
      "Number of films:  468\n"
     ]
    }
   ],
   "source": [
    "df = df[df['vote_average'] >= 7.5]\n",
    "print('Number of films: ', len(df))"
   ]
  },
  {
   "cell_type": "code",
   "execution_count": 42,
   "metadata": {},
   "outputs": [
    {
     "data": {
      "image/png": "[encoded data removed]",
      "text/plain": [
       "<Figure size 2160x1440 with 6 Axes>"
      ]
     },
     "metadata": {
      "needs_background": "light"
     },
     "output_type": "display_data"
    }
   ],
   "source": [
    "#plot histograms of numeric variables\n",
    "plt.figure(figsize = (30, 20))\n",
    "plt.subplot(2, 3, 1)\n",
    "sns.distplot(df['budget'], kde = False, color = '#952e8f')\n",
    "plt.title('Budget Distribution')\n",
    "plt.subplot(2, 3, 2)\n",
    "sns.distplot(df['popularity'], kde = False, color = '#61de2a')\n",
    "plt.title('Popularity Distribution')\n",
    "plt.subplot(2, 3, 3)\n",
    "sns.distplot(df['revenue'], kde = False, color = '#0c06f7')\n",
    "plt.title('Revenue Distribution')\n",
    "plt.subplot(2, 3, 4)\n",
    "sns.distplot(df['runtime'], kde = False, color = '#ff0789')\n",
    "plt.title('Runtime Distribution')\n",
    "plt.subplot(2, 3, 5)\n",
    "sns.distplot(df['vote_average'], kde = False, color = '#13bbaf')\n",
    "plt.title('Vote Average Distribution')\n",
    "plt.subplot(2, 3, 6)\n",
    "sns.distplot(df['vote_count'], kde = False, color = '#fd5956')\n",
    "plt.title('Vote Count Distribution')\n",
    "plt.tight_layout()\n",
    "plt.show()"
   ]
  },
  {
   "cell_type": "markdown",
   "metadata": {},
   "source": [
    "The data for budget, popularity, revenue, and vote count is very skewed. I will apply a log transformation to those variables so that their distributions are closer to normal."
   ]
  },
  {
   "cell_type": "code",
   "execution_count": 43,
   "metadata": {},
   "outputs": [
    {
     "data": {
      "image/png": "[encoded data removed]",
      "text/plain": [
       "<Figure size 864x648 with 4 Axes>"
      ]
     },
     "metadata": {
      "needs_background": "light"
     },
     "output_type": "display_data"
    }
   ],
   "source": [
    "#plot histograms of numeric variables\n",
    "plt.figure(figsize = (12, 9))\n",
    "plt.subplot(2, 2, 1)\n",
    "sns.distplot(np.log(df['budget']), kde = False, color = '#952e8f')\n",
    "plt.title('Budget Distribution - Log Transformed')\n",
    "plt.subplot(2, 2, 2)\n",
    "sns.distplot(np.log(df['popularity']), kde = False, color = '#61de2a')\n",
    "plt.title('Popularity Distribution - Log Transformed')\n",
    "plt.subplot(2, 2, 3)\n",
    "sns.distplot(np.log(df['revenue']), kde = False, color = '#0c06f7')\n",
    "plt.title('Revenue Distribution - Log Transformed')\n",
    "plt.subplot(2, 2, 4)\n",
    "sns.distplot(np.log(df['vote_count']), kde = False, color = '#fd5956')\n",
    "plt.title('Vote Count Distribution - Log Transformed')\n",
    "plt.tight_layout()\n",
    "plt.show()"
   ]
  },
  {
   "cell_type": "code",
   "execution_count": 44,
   "metadata": {},
   "outputs": [],
   "source": [
    "df['budget_transformed'] = np.log(df['budget'])\n",
    "df['popularity_transformed'] = np.log(df['popularity'])\n",
    "df['revenue_transformed'] = np.log(df['revenue'])\n",
    "df['vote_count_transformed'] = np.log(df['vote_count'])"
   ]
  },
  {
   "cell_type": "markdown",
   "metadata": {},
   "source": [
    "Now, we will prepare the data to use in clustering."
   ]
  },
  {
   "cell_type": "code",
   "execution_count": 45,
   "metadata": {},
   "outputs": [],
   "source": [
    "#drop non-numeric variables and variables with transformed versions\n",
    "X = df.drop(['budget', 'genres', 'imdb_id', 'original_language', 'original_title', 'overview', 'poster_path', 'popularity', \n",
    "             'production_companies', 'production_countries', 'release_date', 'revenue', 'spoken_languages',\n",
    "            'status', 'title', 'video', 'vote_count', 'cast', 'crew', 'director', 'keywords'], axis = 1)\n",
    "\n",
    "#normalize the data\n",
    "X_norm = normalize(X)\n",
    "\n",
    "# Reduce it to two components.\n",
    "X_pca = PCA(2).fit_transform(X_norm)"
   ]
  },
  {
   "cell_type": "code",
   "execution_count": 46,
   "metadata": {},
   "outputs": [
    {
     "data": {
      "image/png": "[encoded data removed]",
      "text/plain": [
       "<Figure size 432x288 with 1 Axes>"
      ]
     },
     "metadata": {
      "needs_background": "light"
     },
     "output_type": "display_data"
    }
   ],
   "source": [
    "#visualize the pca components\n",
    "plt.scatter(X_pca[:, 0], X_pca[:, 1])\n",
    "plt.show()"
   ]
  },
  {
   "cell_type": "markdown",
   "metadata": {},
   "source": [
    "Visually, we can see some potential clusters of data. Next, I will try a variety of different clustering algorithms to see how they categorize the data. I will start with MeanShift clustering, as it automatically determines the number of clusters."
   ]
  },
  {
   "cell_type": "code",
   "execution_count": 47,
   "metadata": {},
   "outputs": [
    {
     "name": "stdout",
     "output_type": "stream",
     "text": [
      "Number of estimated clusters: 5\n"
     ]
    }
   ],
   "source": [
    "#get bandwidth for model\n",
    "bandwidth = estimate_bandwidth(X_norm, quantile=0.2, n_samples=500)\n",
    "\n",
    "# Declare and fit the model.\n",
    "ms = MeanShift(bandwidth=bandwidth, bin_seeding=True)\n",
    "ms.fit(X_norm)\n",
    "\n",
    "# Extract cluster assignments for each data point.\n",
    "labels = ms.labels_\n",
    "\n",
    "# Count our clusters.\n",
    "n_clusters_ = len(np.unique(labels))\n",
    "\n",
    "print(\"Number of estimated clusters: {}\".format(n_clusters_))"
   ]
  },
  {
   "cell_type": "code",
   "execution_count": 48,
   "metadata": {},
   "outputs": [
    {
     "data": {
      "image/png": "[encoded data removed]",
      "text/plain": [
       "<Figure size 432x288 with 1 Axes>"
      ]
     },
     "metadata": {
      "needs_background": "light"
     },
     "output_type": "display_data"
    }
   ],
   "source": [
    "#plot the mean shift clusters\n",
    "plt.scatter(X_pca[:, 0], X_pca[:, 1], c=labels)\n",
    "plt.show()"
   ]
  },
  {
   "cell_type": "code",
   "execution_count": 49,
   "metadata": {},
   "outputs": [
    {
     "name": "stdout",
     "output_type": "stream",
     "text": [
      "Films in cluster 0 : 401\n",
      "Films in cluster 1 : 39\n",
      "Films in cluster 2 : 14\n",
      "Films in cluster 3 : 10\n",
      "Films in cluster 4 : 4\n"
     ]
    }
   ],
   "source": [
    "#store cluster assignments in dataframe\n",
    "pred = MeanShift(bandwidth=bandwidth, bin_seeding=True).fit_predict(X_norm)\n",
    "df['ms_cluster'] = pred\n",
    "for i in range(0, 5):\n",
    "    print('Films in cluster ' + str(i) + ' :',len(df[df['ms_cluster']== i]))"
   ]
  },
  {
   "cell_type": "markdown",
   "metadata": {},
   "source": [
    "The vast majority of the films are contained in the first cluster, which does not seem particularly helpful; however, the other clusters may do a better job of categorizing similar movies."
   ]
  },
  {
   "cell_type": "code",
   "execution_count": 50,
   "metadata": {},
   "outputs": [
    {
     "data": {
      "text/plain": [
       "210                                        Before Sunrise\n",
       "533                                          Blade Runner\n",
       "1155                              Raiders of the Lost Ark\n",
       "1245                   Indiana Jones and the Last Crusade\n",
       "2197                                   American History X\n",
       "3437                                            Gladiator\n",
       "4076                                              Memento\n",
       "4117                                             Scarface\n",
       "4846    The Lord of the Rings: The Fellowship of the Ring\n",
       "5739                                          Talk to Her\n",
       "5812                The Lord of the Rings: The Two Towers\n",
       "6934                   Nausicaä of the Valley of the Wind\n",
       "6986        The Lord of the Rings: The Return of the King\n",
       "9503                                  Million Dollar Baby\n",
       "Name: title, dtype: object"
      ]
     },
     "execution_count": 50,
     "metadata": {},
     "output_type": "execute_result"
    }
   ],
   "source": [
    "df[df['ms_cluster'] == 2]['title']"
   ]
  },
  {
   "cell_type": "code",
   "execution_count": 51,
   "metadata": {},
   "outputs": [
    {
     "data": {
      "text/plain": [
       "254                                             Star Wars\n",
       "348                                          Forrest Gump\n",
       "891                                          Citizen Kane\n",
       "1164                                       Apocalypse Now\n",
       "1884                                           Metropolis\n",
       "2727                                      American Beauty\n",
       "3765                                   Dancer in the Dark\n",
       "6228                                         Finding Nemo\n",
       "6383    Pirates of the Caribbean: The Curse of the Bla...\n",
       "6715                                    Kill Bill: Vol. 1\n",
       "Name: title, dtype: object"
      ]
     },
     "execution_count": 51,
     "metadata": {},
     "output_type": "execute_result"
    }
   ],
   "source": [
    "df[df['ms_cluster'] == 3]['title']"
   ]
  },
  {
   "cell_type": "code",
   "execution_count": 52,
   "metadata": {},
   "outputs": [
    {
     "data": {
      "text/plain": [
       "892                     2001: A Space Odyssey\n",
       "1220                               Unforgiven\n",
       "4085                            Amores perros\n",
       "7192    Eternal Sunshine of the Spotless Mind\n",
       "Name: title, dtype: object"
      ]
     },
     "execution_count": 52,
     "metadata": {},
     "output_type": "execute_result"
    }
   ],
   "source": [
    "df[df['ms_cluster'] == 4]['title']"
   ]
  },
  {
   "cell_type": "markdown",
   "metadata": {},
   "source": [
    "The films found in the last three clusters show some similarities, but not all of the commonalities between the groups are entirely clear. Cluster 4, in particular, does not seem to contain movies with much in common. "
   ]
  },
  {
   "cell_type": "markdown",
   "metadata": {},
   "source": [
    "Because most of the films were clustered together, this model is not particularly useful. I will try using K-means clustering instead. I will start with 5 clusters, the same as the MeanShift model above."
   ]
  },
  {
   "cell_type": "code",
   "execution_count": 53,
   "metadata": {},
   "outputs": [],
   "source": [
    "# Declare and fit the model.\n",
    "kmeans = KMeans(n_clusters = 5)\n",
    "kmeans.fit(X_norm)\n",
    "\n",
    "# Extract cluster assignments for each data point.\n",
    "labels = kmeans.labels_"
   ]
  },
  {
   "cell_type": "code",
   "execution_count": 54,
   "metadata": {},
   "outputs": [
    {
     "data": {
      "image/png": "[encoded data removed]",
      "text/plain": [
       "<Figure size 432x288 with 1 Axes>"
      ]
     },
     "metadata": {
      "needs_background": "light"
     },
     "output_type": "display_data"
    }
   ],
   "source": [
    "#plot k-means clusters visually\n",
    "plt.scatter(X_pca[:, 0], X_pca[:, 1], c=labels)\n",
    "plt.show()"
   ]
  },
  {
   "cell_type": "markdown",
   "metadata": {},
   "source": [
    "We can see from the graph that, while there are the same number of clusters, the clusters are not the same as those found using MeanShift."
   ]
  },
  {
   "cell_type": "code",
   "execution_count": 55,
   "metadata": {},
   "outputs": [
    {
     "name": "stdout",
     "output_type": "stream",
     "text": [
      "Films in cluster 0 : 281\n",
      "Films in cluster 1 : 31\n",
      "Films in cluster 2 : 43\n",
      "Films in cluster 3 : 14\n",
      "Films in cluster 4 : 99\n"
     ]
    }
   ],
   "source": [
    "#store cluster assignments\n",
    "pred = KMeans(n_clusters = 5).fit_predict(X_norm)\n",
    "df['km5_cluster'] = pred\n",
    "for i in range(0, 5):\n",
    "    print('Films in cluster ' + str(i) + ' :',len(df[df['km5_cluster']== i]))"
   ]
  },
  {
   "cell_type": "markdown",
   "metadata": {},
   "source": [
    "The films are more evenly distributed in this model, but the bulk of the films are still contained in a single cluster. I will try using K-means with a larger number of clusters, 10."
   ]
  },
  {
   "cell_type": "code",
   "execution_count": 56,
   "metadata": {},
   "outputs": [],
   "source": [
    "# Declare and fit the model.\n",
    "kmeans = KMeans(n_clusters = 10)\n",
    "kmeans.fit(X_norm)\n",
    "\n",
    "# Extract cluster assignments for each data point.\n",
    "labels = kmeans.labels_"
   ]
  },
  {
   "cell_type": "code",
   "execution_count": 57,
   "metadata": {},
   "outputs": [
    {
     "data": {
      "image/png": "[encoded data removed]",
      "text/plain": [
       "<Figure size 432x288 with 1 Axes>"
      ]
     },
     "metadata": {
      "needs_background": "light"
     },
     "output_type": "display_data"
    }
   ],
   "source": [
    "#plot clusters\n",
    "plt.scatter(X_pca[:, 0], X_pca[:, 1], c=labels)\n",
    "plt.show()"
   ]
  },
  {
   "cell_type": "code",
   "execution_count": 58,
   "metadata": {},
   "outputs": [
    {
     "name": "stdout",
     "output_type": "stream",
     "text": [
      "Films in cluster 0 : 249\n",
      "Films in cluster 1 : 14\n",
      "Films in cluster 2 : 33\n",
      "Films in cluster 3 : 11\n",
      "Films in cluster 4 : 18\n",
      "Films in cluster 5 : 43\n",
      "Films in cluster 6 : 39\n",
      "Films in cluster 7 : 17\n",
      "Films in cluster 8 : 3\n",
      "Films in cluster 9 : 41\n"
     ]
    }
   ],
   "source": [
    "#store cluster assignments\n",
    "pred = KMeans(n_clusters = 10).fit_predict(X_norm)\n",
    "df['km10_cluster'] = pred\n",
    "for i in range(0, 10):\n",
    "    print('Films in cluster ' + str(i) + ' :',len(df[df['km10_cluster']== i]))"
   ]
  },
  {
   "cell_type": "markdown",
   "metadata": {},
   "source": [
    "Next, I will look more closely at the clusters found using KMeans clustering with k equal to 10. Two of the clusters in this example are identical to two of the clusters found using MeanShift."
   ]
  },
  {
   "cell_type": "code",
   "execution_count": 59,
   "metadata": {},
   "outputs": [
    {
     "data": {
      "text/plain": [
       "107                               Braveheart\n",
       "108                              Taxi Driver\n",
       "287                   Leon: The Professional\n",
       "1167                         Wings of Desire\n",
       "1177                  The Godfather: Part II\n",
       "1224                      Back to the Future\n",
       "1228                                   Akira\n",
       "1636                        The Big Lebowski\n",
       "2068                        The Untouchables\n",
       "2408     Lock, Stock and Two Smoking Barrels\n",
       "2869                       Princess Mononoke\n",
       "3865                                  Snatch\n",
       "4734                            Donnie Darko\n",
       "5468                           Spirited Away\n",
       "7897                           Before Sunset\n",
       "10438                     Brokeback Mountain\n",
       "12472                        The Dark Knight\n",
       "Name: title, dtype: object"
      ]
     },
     "execution_count": 59,
     "metadata": {},
     "output_type": "execute_result"
    }
   ],
   "source": [
    "df[df['km10_cluster'] == 7]['title']"
   ]
  },
  {
   "cell_type": "code",
   "execution_count": 60,
   "metadata": {},
   "outputs": [
    {
     "data": {
      "text/plain": [
       "210                                        Before Sunrise\n",
       "533                                          Blade Runner\n",
       "1155                              Raiders of the Lost Ark\n",
       "1245                   Indiana Jones and the Last Crusade\n",
       "2197                                   American History X\n",
       "3437                                            Gladiator\n",
       "4076                                              Memento\n",
       "4117                                             Scarface\n",
       "4846    The Lord of the Rings: The Fellowship of the Ring\n",
       "5739                                          Talk to Her\n",
       "5812                The Lord of the Rings: The Two Towers\n",
       "6934                   Nausicaä of the Valley of the Wind\n",
       "6986        The Lord of the Rings: The Return of the King\n",
       "9503                                  Million Dollar Baby\n",
       "Name: title, dtype: object"
      ]
     },
     "execution_count": 60,
     "metadata": {},
     "output_type": "execute_result"
    }
   ],
   "source": [
    "df[df['km10_cluster'] == 1]['title']"
   ]
  },
  {
   "cell_type": "code",
   "execution_count": 61,
   "metadata": {},
   "outputs": [
    {
     "data": {
      "text/plain": [
       "5                                   Heat\n",
       "28             The City of Lost Children\n",
       "45                                 Se7en\n",
       "48                    The Usual Suspects\n",
       "753                        Trainspotting\n",
       "867                  Singin' in the Rain\n",
       "884                        Roman Holiday\n",
       "890                     Sunset Boulevard\n",
       "916                                Giant\n",
       "1048                       Life of Brian\n",
       "1058                             Platoon\n",
       "1072            A Streetcar Named Desire\n",
       "1099     Monty Python and the Holy Grail\n",
       "1185                          Annie Hall\n",
       "1206                           Chinatown\n",
       "1221            The Manchurian Candidate\n",
       "1230                      Cool Hand Luke\n",
       "1235                  The Great Dictator\n",
       "1564                             Gattaca\n",
       "1819                   On the Waterfront\n",
       "1823               A Man for All Seasons\n",
       "1950                         Blue Velvet\n",
       "2034                     Rosemary's Baby\n",
       "2060                Strangers on a Train\n",
       "2192                   Life Is Beautiful\n",
       "2225                     Central Station\n",
       "2395                  Planet of the Apes\n",
       "2609                    The Color Purple\n",
       "2632                     The Sixth Sense\n",
       "3226                   Dog Day Afternoon\n",
       "3286                  Do the Right Thing\n",
       "3329                         The Hustler\n",
       "3539              For a Few Dollars More\n",
       "3803                 Requiem for a Dream\n",
       "4704                    Mulholland Drive\n",
       "4741                      Monsters, Inc.\n",
       "5147                            Rashomon\n",
       "6628             All the President's Men\n",
       "8139                   Shaun of the Dead\n",
       "9411                              Oldboy\n",
       "10822                     V for Vendetta\n",
       "11055               Little Miss Sunshine\n",
       "11349                       The Prestige\n",
       "Name: title, dtype: object"
      ]
     },
     "execution_count": 61,
     "metadata": {},
     "output_type": "execute_result"
    }
   ],
   "source": [
    "df[df['km10_cluster'] ==5]['title']"
   ]
  },
  {
   "cell_type": "markdown",
   "metadata": {},
   "source": [
    "Next, I will try using K-means with k = 25."
   ]
  },
  {
   "cell_type": "code",
   "execution_count": 62,
   "metadata": {},
   "outputs": [],
   "source": [
    "# Declare and fit the model.\n",
    "kmeans = KMeans(n_clusters = 25)\n",
    "kmeans.fit(X_norm)\n",
    "\n",
    "# Extract cluster assignments for each data point.\n",
    "labels = kmeans.labels_"
   ]
  },
  {
   "cell_type": "code",
   "execution_count": 63,
   "metadata": {},
   "outputs": [
    {
     "data": {
      "image/png": "[encoded data removed]",
      "text/plain": [
       "<Figure size 432x288 with 1 Axes>"
      ]
     },
     "metadata": {
      "needs_background": "light"
     },
     "output_type": "display_data"
    }
   ],
   "source": [
    "#plot clusters\n",
    "plt.scatter(X_pca[:, 0], X_pca[:, 1], c=labels)\n",
    "plt.show()"
   ]
  },
  {
   "cell_type": "code",
   "execution_count": 64,
   "metadata": {},
   "outputs": [
    {
     "name": "stdout",
     "output_type": "stream",
     "text": [
      "Films in cluster 0 : 210\n",
      "Films in cluster 1 : 4\n",
      "Films in cluster 2 : 3\n",
      "Films in cluster 3 : 11\n",
      "Films in cluster 4 : 25\n",
      "Films in cluster 5 : 5\n",
      "Films in cluster 6 : 3\n",
      "Films in cluster 7 : 17\n",
      "Films in cluster 8 : 2\n",
      "Films in cluster 9 : 16\n",
      "Films in cluster 10 : 26\n",
      "Films in cluster 11 : 3\n",
      "Films in cluster 12 : 8\n",
      "Films in cluster 13 : 35\n",
      "Films in cluster 14 : 5\n",
      "Films in cluster 15 : 5\n",
      "Films in cluster 16 : 23\n",
      "Films in cluster 17 : 1\n",
      "Films in cluster 18 : 5\n",
      "Films in cluster 19 : 7\n",
      "Films in cluster 20 : 6\n",
      "Films in cluster 21 : 16\n",
      "Films in cluster 22 : 20\n",
      "Films in cluster 23 : 6\n",
      "Films in cluster 24 : 6\n"
     ]
    }
   ],
   "source": [
    "#store cluster assignments\n",
    "pred = KMeans(n_clusters = 25).fit_predict(X_norm)\n",
    "df['km25_cluster'] = pred\n",
    "for i in range(0, 25):\n",
    "    print('Films in cluster ' + str(i) + ' :',len(df[df['km25_cluster']== i]))"
   ]
  },
  {
   "cell_type": "markdown",
   "metadata": {},
   "source": [
    "Here, we see that some clusters only contain 1, 2, or 3 items, which is not particularly useful in terms of recommendations."
   ]
  },
  {
   "cell_type": "markdown",
   "metadata": {},
   "source": [
    "Now, I will try dropping variables that are uncommon, i.e. describe fewer than 40 films, and see how that affects how the movies are clustered."
   ]
  },
  {
   "cell_type": "code",
   "execution_count": 65,
   "metadata": {},
   "outputs": [],
   "source": [
    "#drop non-numeric variables and variables with transformed versions\n",
    "X = df.drop(['adult', 'budget', 'genres', 'imdb_id', 'original_language', 'original_title', 'overview', 'poster_path', \n",
    "             'popularity', 'production_companies', 'production_countries', 'release_date', 'revenue', 'spoken_languages',\n",
    "            'status', 'title', 'video', 'vote_count', 'Music', 'Horror', 'Science Fiction', 'War', 'Foreign', 'Documentary',\n",
    "             'Western', 'TV Movie', 'France', 'Germany', 'Italy', 'Canada', 'Japan', 'Spain', 'Russia', 'India', \n",
    "             'Hong Kong', 'Sweden', 'Australia', 'South Korea', 'Belgium', 'Metro-Goldwyn-Mayer (MGM)', \n",
    "             'Paramount Pictures', 'Twentieth Century Fox Film Corporation', 'Universal Pictures', \n",
    "             'Columbia Pictures Corporation', 'Columbia Pictures', 'RKO Radio Pictures', 'Canal+', 'United Artists', \n",
    "             'New Line Cinema', 'Walt Disney Pictures', 'Touchstone Pictures', 'language_fr', 'language_ja', 'language_it',\n",
    "             'language_de', 'language_es', 'language_ru', 'language_hi', 'language_ko', 'language_zh', 'John Ford', \n",
    "             'Michael Curtiz', 'Werner Herzog', 'Alfred Hitchcock', 'Georges Méliès', 'Woody Allen', 'Jean-Luc Godard',\n",
    "             'Sidney Lumet', 'Charlie Chaplin', 'Raoul Walsh', 'Henry Hathaway', 'William A. Wellman', 'Martin Scorsese',\n",
    "             'Richard Thorpe', 'woman director', 'independent film', 'murder', 'based on novel', 'musical', 'sex', \n",
    "             'violence', 'nudity', 'biography', 'revenge', 'suspense', 'love', 'female nudity', 'sport', 'police', \n",
    "             'teenager', 'duringcreditsstinger', 'sequel', 'friendship', 'ms_cluster', 'km5_cluster', \n",
    "             'km10_cluster', 'ms_cluster', 'km25_cluster',\n",
    "             'cast', 'crew', 'director', 'keywords'], axis = 1)\n",
    "#normalize the data\n",
    "X_norm = normalize(X)\n",
    "\n",
    "# Reduce it to two components.\n",
    "X_pca = PCA(2).fit_transform(X_norm)"
   ]
  },
  {
   "cell_type": "code",
   "execution_count": 66,
   "metadata": {},
   "outputs": [
    {
     "data": {
      "image/png": "[encoded data removed]",
      "text/plain": [
       "<Figure size 432x288 with 1 Axes>"
      ]
     },
     "metadata": {
      "needs_background": "light"
     },
     "output_type": "display_data"
    }
   ],
   "source": [
    "#visualize the pca components\n",
    "plt.scatter(X_pca[:, 0], X_pca[:, 1])\n",
    "plt.show()"
   ]
  },
  {
   "cell_type": "markdown",
   "metadata": {},
   "source": [
    "Again, I will begin with MeanShift clustering."
   ]
  },
  {
   "cell_type": "code",
   "execution_count": 67,
   "metadata": {},
   "outputs": [
    {
     "name": "stdout",
     "output_type": "stream",
     "text": [
      "Number of estimated clusters: 5\n"
     ]
    }
   ],
   "source": [
    "#get bandwidth for model\n",
    "bandwidth = estimate_bandwidth(X_norm, quantile=0.2, n_samples=500)\n",
    "\n",
    "# Declare and fit the model.\n",
    "ms = MeanShift(bandwidth=bandwidth, bin_seeding=True)\n",
    "ms.fit(X_norm)\n",
    "\n",
    "# Extract cluster assignments for each data point.\n",
    "labels = ms.labels_\n",
    "\n",
    "# Count our clusters.\n",
    "n_clusters_ = len(np.unique(labels))\n",
    "\n",
    "print(\"Number of estimated clusters: {}\".format(n_clusters_))"
   ]
  },
  {
   "cell_type": "code",
   "execution_count": 68,
   "metadata": {},
   "outputs": [
    {
     "data": {
      "image/png": "[encoded data removed]",
      "text/plain": [
       "<Figure size 432x288 with 1 Axes>"
      ]
     },
     "metadata": {
      "needs_background": "light"
     },
     "output_type": "display_data"
    }
   ],
   "source": [
    "#plot the mean shift clusters\n",
    "plt.scatter(X_pca[:, 0], X_pca[:, 1], c=labels)\n",
    "plt.show()"
   ]
  },
  {
   "cell_type": "code",
   "execution_count": 69,
   "metadata": {},
   "outputs": [
    {
     "name": "stdout",
     "output_type": "stream",
     "text": [
      "Films in cluster 0 : 401\n",
      "Films in cluster 1 : 39\n",
      "Films in cluster 2 : 14\n",
      "Films in cluster 3 : 10\n",
      "Films in cluster 4 : 4\n"
     ]
    }
   ],
   "source": [
    "#store cluster assignments in dataframe\n",
    "pred = MeanShift(bandwidth=bandwidth, bin_seeding=True).fit_predict(X_norm)\n",
    "df['ms_cluster2'] = pred\n",
    "for i in range(0, 5):\n",
    "    print('Films in cluster ' + str(i) + ' :',len(df[df['ms_cluster2']== i]))"
   ]
  },
  {
   "cell_type": "markdown",
   "metadata": {},
   "source": [
    "The clusters appear to be the same as those that used the full set of variables."
   ]
  },
  {
   "cell_type": "code",
   "execution_count": 70,
   "metadata": {},
   "outputs": [
    {
     "data": {
      "text/plain": [
       "254                                             Star Wars\n",
       "348                                          Forrest Gump\n",
       "891                                          Citizen Kane\n",
       "1164                                       Apocalypse Now\n",
       "1884                                           Metropolis\n",
       "2727                                      American Beauty\n",
       "3765                                   Dancer in the Dark\n",
       "6228                                         Finding Nemo\n",
       "6383    Pirates of the Caribbean: The Curse of the Bla...\n",
       "6715                                    Kill Bill: Vol. 1\n",
       "Name: title, dtype: object"
      ]
     },
     "execution_count": 70,
     "metadata": {},
     "output_type": "execute_result"
    }
   ],
   "source": [
    "df[df['ms_cluster2'] == 3]['title']"
   ]
  },
  {
   "cell_type": "code",
   "execution_count": 71,
   "metadata": {},
   "outputs": [
    {
     "data": {
      "text/plain": [
       "892                     2001: A Space Odyssey\n",
       "1220                               Unforgiven\n",
       "4085                            Amores perros\n",
       "7192    Eternal Sunshine of the Spotless Mind\n",
       "Name: title, dtype: object"
      ]
     },
     "execution_count": 71,
     "metadata": {},
     "output_type": "execute_result"
    }
   ],
   "source": [
    "df[df['ms_cluster'] == 4]['title']"
   ]
  },
  {
   "cell_type": "markdown",
   "metadata": {},
   "source": [
    "Now, I will try K-Means and see whether the clusters from that are the same as when using the full set of variables."
   ]
  },
  {
   "cell_type": "code",
   "execution_count": 72,
   "metadata": {},
   "outputs": [],
   "source": [
    "# Declare and fit the model.\n",
    "kmeans = KMeans(n_clusters = 5)\n",
    "kmeans.fit(X_norm)\n",
    "\n",
    "# Extract cluster assignments for each data point.\n",
    "labels = kmeans.labels_"
   ]
  },
  {
   "cell_type": "code",
   "execution_count": 73,
   "metadata": {},
   "outputs": [
    {
     "data": {
      "image/png": "[encoded data removed]",
      "text/plain": [
       "<Figure size 432x288 with 1 Axes>"
      ]
     },
     "metadata": {
      "needs_background": "light"
     },
     "output_type": "display_data"
    }
   ],
   "source": [
    "#plot k-means clusters visually\n",
    "plt.scatter(X_pca[:, 0], X_pca[:, 1], c=labels)\n",
    "plt.show()"
   ]
  },
  {
   "cell_type": "code",
   "execution_count": 74,
   "metadata": {},
   "outputs": [
    {
     "name": "stdout",
     "output_type": "stream",
     "text": [
      "Films in cluster 0 : 44\n",
      "Films in cluster 1 : 280\n",
      "Films in cluster 2 : 14\n",
      "Films in cluster 3 : 31\n",
      "Films in cluster 4 : 99\n"
     ]
    }
   ],
   "source": [
    "#store cluster assignments\n",
    "pred = KMeans(n_clusters = 5).fit_predict(X_norm)\n",
    "df['km5_cluster2'] = pred\n",
    "for i in range(0, 5):\n",
    "    print('Films in cluster ' + str(i) + ' :',len(df[df['km5_cluster2']== i]))"
   ]
  },
  {
   "cell_type": "markdown",
   "metadata": {},
   "source": [
    "The cluster distribution is different from the one that we got using the full set of variables. I will now try K-means with a larger k to see how that affects the distribution."
   ]
  },
  {
   "cell_type": "code",
   "execution_count": 75,
   "metadata": {},
   "outputs": [],
   "source": [
    "# Declare and fit the model.\n",
    "kmeans = KMeans(n_clusters = 25)\n",
    "kmeans.fit(X_norm)\n",
    "\n",
    "# Extract cluster assignments for each data point.\n",
    "labels = kmeans.labels_"
   ]
  },
  {
   "cell_type": "code",
   "execution_count": 76,
   "metadata": {},
   "outputs": [
    {
     "data": {
      "image/png": "[encoded data removed]",
      "text/plain": [
       "<Figure size 432x288 with 1 Axes>"
      ]
     },
     "metadata": {
      "needs_background": "light"
     },
     "output_type": "display_data"
    }
   ],
   "source": [
    "#plot clusters\n",
    "plt.scatter(X_pca[:, 0], X_pca[:, 1], c=labels)\n",
    "plt.show()"
   ]
  },
  {
   "cell_type": "code",
   "execution_count": 77,
   "metadata": {},
   "outputs": [
    {
     "name": "stdout",
     "output_type": "stream",
     "text": [
      "Films in cluster 0 : 20\n",
      "Films in cluster 1 : 6\n",
      "Films in cluster 2 : 226\n",
      "Films in cluster 3 : 2\n",
      "Films in cluster 4 : 8\n",
      "Films in cluster 5 : 9\n",
      "Films in cluster 6 : 14\n",
      "Films in cluster 7 : 26\n",
      "Films in cluster 8 : 4\n",
      "Films in cluster 9 : 21\n",
      "Films in cluster 10 : 2\n",
      "Films in cluster 11 : 5\n",
      "Films in cluster 12 : 13\n",
      "Films in cluster 13 : 26\n",
      "Films in cluster 14 : 23\n",
      "Films in cluster 15 : 6\n",
      "Films in cluster 16 : 4\n",
      "Films in cluster 17 : 3\n",
      "Films in cluster 18 : 6\n",
      "Films in cluster 19 : 5\n",
      "Films in cluster 20 : 21\n",
      "Films in cluster 21 : 5\n",
      "Films in cluster 22 : 9\n",
      "Films in cluster 23 : 1\n",
      "Films in cluster 24 : 3\n"
     ]
    }
   ],
   "source": [
    "#store cluster assignments\n",
    "pred = KMeans(n_clusters = 25).fit_predict(X_norm)\n",
    "df['km25_cluster2'] = pred\n",
    "for i in range(0, 25):\n",
    "    print('Films in cluster ' + str(i) + ' :',len(df[df['km25_cluster2']== i]))"
   ]
  },
  {
   "cell_type": "markdown",
   "metadata": {},
   "source": [
    "Again, we have an issue where some clusters only contain 1 or 2 films. Let's take a closer look at some of the slightly larger clusters."
   ]
  },
  {
   "cell_type": "code",
   "execution_count": 78,
   "metadata": {},
   "outputs": [
    {
     "data": {
      "text/plain": [
       "423                                          Carlito's Way\n",
       "873                                  It Happened One Night\n",
       "879                                                Charade\n",
       "910                                                  Laura\n",
       "922                           Mr. Smith Goes to Washington\n",
       "1154                                    The Princess Bride\n",
       "1208                      The Treasure of the Sierra Madre\n",
       "1216                                      The Great Escape\n",
       "1232                                    Young Frankenstein\n",
       "1584                                         Boogie Nights\n",
       "1842                                    The Breakfast Club\n",
       "2934             Women on the Verge of a Nervous Breakdown\n",
       "2956                                       Bicycle Thieves\n",
       "3064                                              Papillon\n",
       "3324                                          Modern Times\n",
       "3876                                             Cast Away\n",
       "6828                                Hannah and Her Sisters\n",
       "7217                                  The Ten Commandments\n",
       "8236                                            Veer-Zaara\n",
       "9684                                  Howl's Moving Castle\n",
       "10532                                    Pride & Prejudice\n",
       "12074                                        Into the Wild\n",
       "12161                               No Country for Old Men\n",
       "12271                                  There Will Be Blood\n",
       "12305                                     Taare Zameen Par\n",
       "12983    The Tulse Luper Suitcases, Part 1: The Moab Story\n",
       "Name: title, dtype: object"
      ]
     },
     "execution_count": 78,
     "metadata": {},
     "output_type": "execute_result"
    }
   ],
   "source": [
    "df[df['km25_cluster2'] == 13]['title']"
   ]
  },
  {
   "cell_type": "code",
   "execution_count": 79,
   "metadata": {},
   "outputs": [
    {
     "data": {
      "text/plain": [
       "329            What's Eating Gilbert Grape\n",
       "921                  It's a Wonderful Life\n",
       "1153               The Empire Strikes Back\n",
       "1166                    Return of the Jedi\n",
       "1184                           Raging Bull\n",
       "1202                         Touch of Evil\n",
       "1225                  Fried Green Tomatoes\n",
       "1533                     L.A. Confidential\n",
       "1540                              The Game\n",
       "2050                                  Rope\n",
       "2181                      The Elephant Man\n",
       "2601                          Barry Lyndon\n",
       "3313          Guess Who's Coming to Dinner\n",
       "3359                                Misery\n",
       "6878                          Vivre Sa Vie\n",
       "8203                             Tarnation\n",
       "11120             The Pursuit of Happyness\n",
       "11297                      Pan's Labyrinth\n",
       "11467                      Freedom Writers\n",
       "11561                          Ratatouille\n",
       "12160    The Diving Bell and the Butterfly\n",
       "Name: title, dtype: object"
      ]
     },
     "execution_count": 79,
     "metadata": {},
     "output_type": "execute_result"
    }
   ],
   "source": [
    "df[df['km25_cluster2'] == 9]['title']"
   ]
  },
  {
   "cell_type": "code",
   "execution_count": 80,
   "metadata": {},
   "outputs": [
    {
     "data": {
      "text/plain": [
       "290                                  Pulp Fiction\n",
       "1009                                     Die Hard\n",
       "1052                             Bonnie and Clyde\n",
       "1161                           Lawrence of Arabia\n",
       "1163                        To Kill a Mockingbird\n",
       "1212                                  The Shining\n",
       "1252                           The Killing Fields\n",
       "1258                                 Paris, Texas\n",
       "1336                                         Jaws\n",
       "1401                                 Lost Highway\n",
       "2437                                   The Matrix\n",
       "3249                                          JFK\n",
       "4751     Harry Potter and the Philosopher's Stone\n",
       "5849                          Catch Me If You Can\n",
       "5882                                  City of God\n",
       "6618                        Judgment at Nuremberg\n",
       "6980                                     Big Fish\n",
       "7712     Harry Potter and the Prisoner of Azkaban\n",
       "10541         Harry Potter and the Goblet of Fire\n",
       "10846                         The Lives of Others\n",
       "Name: title, dtype: object"
      ]
     },
     "execution_count": 80,
     "metadata": {},
     "output_type": "execute_result"
    }
   ],
   "source": [
    "df[df['km25_cluster2'] == 0]['title']"
   ]
  },
  {
   "cell_type": "markdown",
   "metadata": {},
   "source": [
    "While some of the smaller clusters seem to give us fairly similar films, there are still some very large clusters that provide us with very little information about similar films."
   ]
  },
  {
   "cell_type": "markdown",
   "metadata": {},
   "source": [
    "To try to get more specific clusters, I will try taking a subset of the data and seeing whether the clusters for that reflect similar movies."
   ]
  },
  {
   "cell_type": "code",
   "execution_count": 81,
   "metadata": {},
   "outputs": [],
   "source": [
    "#select only romance movies\n",
    "df_romance = df[df['Romance']== True]"
   ]
  },
  {
   "cell_type": "code",
   "execution_count": 82,
   "metadata": {},
   "outputs": [],
   "source": [
    "#drop non-numeric variables and variables with transformed versions\n",
    "X = df_romance.drop(['adult', 'budget', 'genres', 'imdb_id', 'original_language', 'original_title', 'overview', 'poster_path', \n",
    "             'popularity', 'production_companies', 'production_countries', 'release_date', 'revenue', 'spoken_languages',\n",
    "            'status', 'title', 'video', 'vote_count', 'Music', 'Horror', 'Science Fiction', 'War', 'Foreign', 'Documentary',\n",
    "             'Western', 'TV Movie', 'France', 'Germany', 'Italy', 'Canada', 'Japan', 'Spain', 'Russia', 'India', \n",
    "             'Hong Kong', 'Sweden', 'Australia', 'South Korea', 'Belgium', 'Metro-Goldwyn-Mayer (MGM)', \n",
    "             'Paramount Pictures', 'Twentieth Century Fox Film Corporation', 'Universal Pictures', \n",
    "             'Columbia Pictures Corporation', 'Columbia Pictures', 'RKO Radio Pictures', 'Canal+', 'United Artists', \n",
    "             'New Line Cinema', 'Walt Disney Pictures', 'Touchstone Pictures', 'language_fr', 'language_ja', 'language_it',\n",
    "             'language_de', 'language_es', 'language_ru', 'language_hi', 'language_ko', 'language_zh', 'John Ford', \n",
    "             'Michael Curtiz', 'Werner Herzog', 'Alfred Hitchcock', 'Georges Méliès', 'Woody Allen', 'Jean-Luc Godard',\n",
    "             'Sidney Lumet', 'Charlie Chaplin', 'Raoul Walsh', 'Henry Hathaway', 'William A. Wellman', 'Martin Scorsese',\n",
    "             'Richard Thorpe', 'woman director', 'independent film', 'murder', 'based on novel', 'musical', 'sex', \n",
    "             'violence', 'nudity', 'biography', 'revenge', 'suspense', 'love', 'female nudity', 'sport', 'police', \n",
    "             'teenager', 'duringcreditsstinger', 'sequel', 'friendship', 'ms_cluster', 'km5_cluster', 'Romance',\n",
    "             'km10_cluster', 'ms_cluster', 'km25_cluster',\n",
    "             'cast', 'crew', 'director', 'keywords'], axis = 1)\n",
    "#normalize the data\n",
    "X_norm = normalize(X)\n",
    "\n",
    "# Reduce it to two components.\n",
    "X_pca = PCA(2).fit_transform(X_norm)"
   ]
  },
  {
   "cell_type": "code",
   "execution_count": 83,
   "metadata": {},
   "outputs": [
    {
     "data": {
      "image/png": "[encoded data removed]",
      "text/plain": [
       "<Figure size 432x288 with 1 Axes>"
      ]
     },
     "metadata": {
      "needs_background": "light"
     },
     "output_type": "display_data"
    }
   ],
   "source": [
    "#visualize the pca components\n",
    "plt.scatter(X_pca[:, 0], X_pca[:, 1])\n",
    "plt.show()"
   ]
  },
  {
   "cell_type": "markdown",
   "metadata": {},
   "source": [
    "I will try MeanShift first."
   ]
  },
  {
   "cell_type": "code",
   "execution_count": 84,
   "metadata": {},
   "outputs": [
    {
     "name": "stdout",
     "output_type": "stream",
     "text": [
      "Number of estimated clusters: 7\n"
     ]
    }
   ],
   "source": [
    "#get bandwidth for model\n",
    "bandwidth = estimate_bandwidth(X_norm, quantile=0.2, n_samples=500)\n",
    "\n",
    "# Declare and fit the model.\n",
    "ms = MeanShift(bandwidth=bandwidth, bin_seeding=True)\n",
    "ms.fit(X_norm)\n",
    "\n",
    "# Extract cluster assignments for each data point.\n",
    "labels = ms.labels_\n",
    "\n",
    "# Count our clusters.\n",
    "n_clusters_ = len(np.unique(labels))\n",
    "\n",
    "print(\"Number of estimated clusters: {}\".format(n_clusters_))"
   ]
  },
  {
   "cell_type": "code",
   "execution_count": 85,
   "metadata": {},
   "outputs": [
    {
     "data": {
      "image/png": "[encoded data removed]",
      "text/plain": [
       "<Figure size 432x288 with 1 Axes>"
      ]
     },
     "metadata": {
      "needs_background": "light"
     },
     "output_type": "display_data"
    }
   ],
   "source": [
    "#plot the mean shift clusters\n",
    "plt.scatter(X_pca[:, 0], X_pca[:, 1], c=labels)\n",
    "plt.show()"
   ]
  },
  {
   "cell_type": "code",
   "execution_count": 86,
   "metadata": {},
   "outputs": [
    {
     "name": "stdout",
     "output_type": "stream",
     "text": [
      "Films in cluster 0 : 56\n",
      "Films in cluster 1 : 10\n",
      "Films in cluster 2 : 4\n",
      "Films in cluster 3 : 3\n",
      "Films in cluster 4 : 2\n",
      "Films in cluster 5 : 1\n",
      "Films in cluster 6 : 1\n"
     ]
    },
    {
     "name": "stderr",
     "output_type": "stream",
     "text": [
      "C:\\Users\\rkies\\Anaconda3\\lib\\site-packages\\ipykernel_launcher.py:3: SettingWithCopyWarning: \n",
      "A value is trying to be set on a copy of a slice from a DataFrame.\n",
      "Try using .loc[row_indexer,col_indexer] = value instead\n",
      "\n",
      "See the caveats in the documentation: http://pandas.pydata.org/pandas-docs/stable/user_guide/indexing.html#returning-a-view-versus-a-copy\n",
      "  This is separate from the ipykernel package so we can avoid doing imports until\n"
     ]
    }
   ],
   "source": [
    "#store cluster assignments in dataframe\n",
    "pred = MeanShift(bandwidth=bandwidth, bin_seeding=True).fit_predict(X_norm)\n",
    "df_romance['ms_cluster'] = pred\n",
    "for i in range(0, n_clusters_):\n",
    "    print('Films in cluster ' + str(i) + ' :',len(df_romance[df_romance['ms_cluster']== i]))"
   ]
  },
  {
   "cell_type": "markdown",
   "metadata": {},
   "source": [
    "Again, we have issues with some clusters being too small and some being too larger. The mid-sized clusters appear to yield some reasonable recommendations."
   ]
  },
  {
   "cell_type": "code",
   "execution_count": 87,
   "metadata": {},
   "outputs": [
    {
     "data": {
      "text/plain": [
       "547                    True Romance\n",
       "871                         Vertigo\n",
       "877                   The Apartment\n",
       "880                      Casablanca\n",
       "888              Gone with the Wind\n",
       "898                       Notorious\n",
       "939           Cat on a Hot Tin Roof\n",
       "1625                        Titanic\n",
       "1813    The Best Years of Our Lives\n",
       "4848               A Beautiful Mind\n",
       "Name: title, dtype: object"
      ]
     },
     "execution_count": 87,
     "metadata": {},
     "output_type": "execute_result"
    }
   ],
   "source": [
    "df_romance[df_romance['ms_cluster'] == 1]['title']"
   ]
  },
  {
   "cell_type": "code",
   "execution_count": 88,
   "metadata": {},
   "outputs": [
    {
     "data": {
      "text/plain": [
       "870     Breakfast at Tiffany's\n",
       "878           Some Like It Hot\n",
       "2160       Edward Scissorhands\n",
       "4827                    Amélie\n",
       "Name: title, dtype: object"
      ]
     },
     "execution_count": 88,
     "metadata": {},
     "output_type": "execute_result"
    }
   ],
   "source": [
    "df_romance[df_romance['ms_cluster'] == 2]['title']"
   ]
  },
  {
   "cell_type": "code",
   "execution_count": 89,
   "metadata": {},
   "outputs": [
    {
     "data": {
      "text/plain": [
       "5739    Talk to Her\n",
       "Name: title, dtype: object"
      ]
     },
     "execution_count": 89,
     "metadata": {},
     "output_type": "execute_result"
    }
   ],
   "source": [
    "df_romance[df_romance['ms_cluster'] == 5]['title']"
   ]
  },
  {
   "cell_type": "code",
   "execution_count": 90,
   "metadata": {},
   "outputs": [
    {
     "data": {
      "text/plain": [
       "210    Before Sunrise\n",
       "Name: title, dtype: object"
      ]
     },
     "execution_count": 90,
     "metadata": {},
     "output_type": "execute_result"
    }
   ],
   "source": [
    "df_romance[df_romance['ms_cluster'] == 6]['title']"
   ]
  },
  {
   "cell_type": "markdown",
   "metadata": {},
   "source": [
    "Next, I will try K-Means."
   ]
  },
  {
   "cell_type": "code",
   "execution_count": 91,
   "metadata": {},
   "outputs": [],
   "source": [
    "# Declare and fit the model.\n",
    "kmeans = KMeans(n_clusters = 7)\n",
    "kmeans.fit(X_norm)\n",
    "\n",
    "# Extract cluster assignments for each data point.\n",
    "labels = kmeans.labels_"
   ]
  },
  {
   "cell_type": "code",
   "execution_count": 92,
   "metadata": {},
   "outputs": [
    {
     "data": {
      "image/png": "[encoded data removed]",
      "text/plain": [
       "<Figure size 432x288 with 1 Axes>"
      ]
     },
     "metadata": {
      "needs_background": "light"
     },
     "output_type": "display_data"
    }
   ],
   "source": [
    "#plot clusters\n",
    "plt.scatter(X_pca[:, 0], X_pca[:, 1], c=labels)\n",
    "plt.show()"
   ]
  },
  {
   "cell_type": "code",
   "execution_count": 93,
   "metadata": {},
   "outputs": [
    {
     "name": "stdout",
     "output_type": "stream",
     "text": [
      "Films in cluster 0 : 49\n",
      "Films in cluster 1 : 4\n",
      "Films in cluster 2 : 2\n",
      "Films in cluster 3 : 9\n",
      "Films in cluster 4 : 4\n",
      "Films in cluster 5 : 1\n",
      "Films in cluster 6 : 8\n"
     ]
    },
    {
     "name": "stderr",
     "output_type": "stream",
     "text": [
      "C:\\Users\\rkies\\Anaconda3\\lib\\site-packages\\ipykernel_launcher.py:3: SettingWithCopyWarning: \n",
      "A value is trying to be set on a copy of a slice from a DataFrame.\n",
      "Try using .loc[row_indexer,col_indexer] = value instead\n",
      "\n",
      "See the caveats in the documentation: http://pandas.pydata.org/pandas-docs/stable/user_guide/indexing.html#returning-a-view-versus-a-copy\n",
      "  This is separate from the ipykernel package so we can avoid doing imports until\n"
     ]
    }
   ],
   "source": [
    "#store cluster assignments\n",
    "pred = KMeans(n_clusters = 7).fit_predict(X_norm)\n",
    "df_romance['km7_cluster'] = pred\n",
    "for i in range(0, 7):\n",
    "    print('Films in cluster ' + str(i) + ' :',len(df_romance[df_romance['km7_cluster']== i]))"
   ]
  },
  {
   "cell_type": "markdown",
   "metadata": {},
   "source": [
    "The KMeans clusters are a little bit more evenly distributed than the MeanShift clusters."
   ]
  },
  {
   "cell_type": "code",
   "execution_count": 94,
   "metadata": {},
   "outputs": [],
   "source": [
    "# Declare and fit the model.\n",
    "kmeans = KMeans(n_clusters = 15)\n",
    "kmeans.fit(X_norm)\n",
    "\n",
    "# Extract cluster assignments for each data point.\n",
    "labels = kmeans.labels_"
   ]
  },
  {
   "cell_type": "code",
   "execution_count": 95,
   "metadata": {},
   "outputs": [
    {
     "data": {
      "image/png": "[encoded data removed]",
      "text/plain": [
       "<Figure size 432x288 with 1 Axes>"
      ]
     },
     "metadata": {
      "needs_background": "light"
     },
     "output_type": "display_data"
    }
   ],
   "source": [
    "#plot clusters\n",
    "plt.scatter(X_pca[:, 0], X_pca[:, 1], c=labels)\n",
    "plt.show()"
   ]
  },
  {
   "cell_type": "code",
   "execution_count": 96,
   "metadata": {},
   "outputs": [
    {
     "name": "stdout",
     "output_type": "stream",
     "text": [
      "Films in cluster 0 : 42\n",
      "Films in cluster 1 : 1\n",
      "Films in cluster 2 : 4\n",
      "Films in cluster 3 : 1\n",
      "Films in cluster 4 : 6\n",
      "Films in cluster 5 : 3\n",
      "Films in cluster 6 : 1\n",
      "Films in cluster 7 : 1\n",
      "Films in cluster 8 : 2\n",
      "Films in cluster 9 : 1\n",
      "Films in cluster 10 : 2\n",
      "Films in cluster 11 : 8\n",
      "Films in cluster 12 : 3\n",
      "Films in cluster 13 : 1\n",
      "Films in cluster 14 : 1\n"
     ]
    },
    {
     "name": "stderr",
     "output_type": "stream",
     "text": [
      "C:\\Users\\rkies\\Anaconda3\\lib\\site-packages\\ipykernel_launcher.py:3: SettingWithCopyWarning: \n",
      "A value is trying to be set on a copy of a slice from a DataFrame.\n",
      "Try using .loc[row_indexer,col_indexer] = value instead\n",
      "\n",
      "See the caveats in the documentation: http://pandas.pydata.org/pandas-docs/stable/user_guide/indexing.html#returning-a-view-versus-a-copy\n",
      "  This is separate from the ipykernel package so we can avoid doing imports until\n"
     ]
    }
   ],
   "source": [
    "#store cluster assignments\n",
    "pred = KMeans(n_clusters = 15).fit_predict(X_norm)\n",
    "df_romance['km15_cluster'] = pred\n",
    "for i in range(0, 15):\n",
    "    print('Films in cluster ' + str(i) + ' :',len(df_romance[df_romance['km15_cluster']== i]))"
   ]
  },
  {
   "cell_type": "markdown",
   "metadata": {},
   "source": [
    "In this case, adding more clusters to K-Means did not increase the amount of information we were able to get from the model. Next, I will try spectral clustering."
   ]
  },
  {
   "cell_type": "code",
   "execution_count": 97,
   "metadata": {},
   "outputs": [
    {
     "data": {
      "image/png": "[encoded data removed]",
      "text/plain": [
       "<Figure size 432x288 with 1 Axes>"
      ]
     },
     "metadata": {
      "needs_background": "light"
     },
     "output_type": "display_data"
    }
   ],
   "source": [
    "# Declare and fit the model.\n",
    "sc = SpectralClustering(n_clusters=7)\n",
    "sc.fit(X_norm)\n",
    "\n",
    "# Extract cluster assignments for each data point.\n",
    "labels = sc.labels_\n",
    "\n",
    "#plot clusters\n",
    "plt.scatter(X_pca[:, 0], X_pca[:, 1], c=labels)\n",
    "plt.show()"
   ]
  },
  {
   "cell_type": "code",
   "execution_count": 98,
   "metadata": {},
   "outputs": [
    {
     "name": "stdout",
     "output_type": "stream",
     "text": [
      "Films in cluster 0 : 51\n",
      "Films in cluster 1 : 4\n",
      "Films in cluster 2 : 1\n",
      "Films in cluster 3 : 2\n",
      "Films in cluster 4 : 16\n",
      "Films in cluster 5 : 1\n",
      "Films in cluster 6 : 2\n"
     ]
    },
    {
     "name": "stderr",
     "output_type": "stream",
     "text": [
      "C:\\Users\\rkies\\Anaconda3\\lib\\site-packages\\ipykernel_launcher.py:3: SettingWithCopyWarning: \n",
      "A value is trying to be set on a copy of a slice from a DataFrame.\n",
      "Try using .loc[row_indexer,col_indexer] = value instead\n",
      "\n",
      "See the caveats in the documentation: http://pandas.pydata.org/pandas-docs/stable/user_guide/indexing.html#returning-a-view-versus-a-copy\n",
      "  This is separate from the ipykernel package so we can avoid doing imports until\n"
     ]
    }
   ],
   "source": [
    "#store cluster assignments\n",
    "pred = SpectralClustering(n_clusters=7).fit_predict(X_norm)\n",
    "df_romance['sc7_cluster'] = pred\n",
    "for i in range(0, 7):\n",
    "    print('Films in cluster ' + str(i) + ' :',len(df_romance[df_romance['sc7_cluster']== i]))"
   ]
  },
  {
   "cell_type": "markdown",
   "metadata": {},
   "source": [
    "In this model, the clusters are either very small or very large."
   ]
  },
  {
   "cell_type": "code",
   "execution_count": 99,
   "metadata": {},
   "outputs": [
    {
     "data": {
      "image/png": "[encoded data removed]",
      "text/plain": [
       "<Figure size 432x288 with 1 Axes>"
      ]
     },
     "metadata": {
      "needs_background": "light"
     },
     "output_type": "display_data"
    }
   ],
   "source": [
    "# Declare and fit the model.\n",
    "sc = SpectralClustering(n_clusters=15)\n",
    "sc.fit(X_norm)\n",
    "\n",
    "# Extract cluster assignments for each data point.\n",
    "labels = sc.labels_\n",
    "\n",
    "#plot clusters\n",
    "plt.scatter(X_pca[:, 0], X_pca[:, 1], c=labels)\n",
    "plt.show()"
   ]
  },
  {
   "cell_type": "code",
   "execution_count": 100,
   "metadata": {},
   "outputs": [
    {
     "name": "stdout",
     "output_type": "stream",
     "text": [
      "Films in cluster 0 : 45\n",
      "Films in cluster 1 : 4\n",
      "Films in cluster 2 : 16\n",
      "Films in cluster 3 : 1\n",
      "Films in cluster 4 : 1\n",
      "Films in cluster 5 : 1\n",
      "Films in cluster 6 : 1\n",
      "Films in cluster 7 : 1\n",
      "Films in cluster 8 : 1\n",
      "Films in cluster 9 : 1\n",
      "Films in cluster 10 : 1\n",
      "Films in cluster 11 : 1\n",
      "Films in cluster 12 : 1\n",
      "Films in cluster 13 : 1\n",
      "Films in cluster 14 : 1\n"
     ]
    },
    {
     "name": "stderr",
     "output_type": "stream",
     "text": [
      "C:\\Users\\rkies\\Anaconda3\\lib\\site-packages\\ipykernel_launcher.py:3: SettingWithCopyWarning: \n",
      "A value is trying to be set on a copy of a slice from a DataFrame.\n",
      "Try using .loc[row_indexer,col_indexer] = value instead\n",
      "\n",
      "See the caveats in the documentation: http://pandas.pydata.org/pandas-docs/stable/user_guide/indexing.html#returning-a-view-versus-a-copy\n",
      "  This is separate from the ipykernel package so we can avoid doing imports until\n"
     ]
    }
   ],
   "source": [
    "#store cluster assignments\n",
    "pred = SpectralClustering(n_clusters=15).fit_predict(X_norm)\n",
    "df_romance['sc15_cluster'] = pred\n",
    "for i in range(0, 15):\n",
    "    print('Films in cluster ' + str(i) + ' :',len(df_romance[df_romance['sc15_cluster']== i]))"
   ]
  },
  {
   "cell_type": "markdown",
   "metadata": {},
   "source": [
    "Adding more clusters did not give us more information about similar films. Next, I will try Affinity Propagation."
   ]
  },
  {
   "cell_type": "code",
   "execution_count": 101,
   "metadata": {},
   "outputs": [
    {
     "name": "stderr",
     "output_type": "stream",
     "text": [
      "C:\\Users\\rkies\\Anaconda3\\lib\\site-packages\\sklearn\\cluster\\_affinity_propagation.py:226: ConvergenceWarning: Affinity propagation did not converge, this model will not have any cluster centers.\n",
      "  \"will not have any cluster centers.\", ConvergenceWarning)\n"
     ]
    },
    {
     "data": {
      "image/png": "[encoded data removed]",
      "text/plain": [
       "<Figure size 432x288 with 1 Axes>"
      ]
     },
     "metadata": {
      "needs_background": "light"
     },
     "output_type": "display_data"
    }
   ],
   "source": [
    "# Declare and fit the model.\n",
    "af = AffinityPropagation()\n",
    "af.fit(X_norm)\n",
    "\n",
    "# Extract cluster assignments for each data point.\n",
    "cluster_centers_indices = af.cluster_centers_indices_\n",
    "n_clusters_ = len(cluster_centers_indices)\n",
    "labels = af.labels_\n",
    "\n",
    "#plot clusters\n",
    "plt.scatter(X_pca[:, 0], X_pca[:, 1], c=labels)\n",
    "plt.title('Estimated number of clusters: {}'.format(n_clusters_))\n",
    "plt.show()"
   ]
  },
  {
   "cell_type": "markdown",
   "metadata": {},
   "source": [
    "Affinity Propagation did not find any cluster centers for this data."
   ]
  },
  {
   "cell_type": "markdown",
   "metadata": {},
   "source": [
    "Overall, I think that the best method for clustering movies for a movie recommendation system is to select a small subset of the data, in this case romance movies with vote averages above 7.5, and then use that data for clustering. When I used the 468 films with vote averages above 7.5, many of the clusters did not seem to have much in common. While much of the data was still bunched together with the romance-only subset, this was a much smaller group. MeanShift and K-Means both worked fairly well at clustering the romance movies. The advantage to MeanShift is that it automatically calculates the number of clusters, whereas K-Means takes some trial and error to find the optimal number of clusters."
   ]
  }
 ],
 "metadata": {
  "kernelspec": {
   "display_name": "Python 3",
   "language": "python",
   "name": "python3"
  },
  "language_info": {
   "codemirror_mode": {
    "name": "ipython",
    "version": 3
   },
   "file_extension": ".py",
   "mimetype": "text/x-python",
   "name": "python",
   "nbconvert_exporter": "python",
   "pygments_lexer": "ipython3",
   "version": "3.7.3"
  }
 },
 "nbformat": 4,
 "nbformat_minor": 2
}
