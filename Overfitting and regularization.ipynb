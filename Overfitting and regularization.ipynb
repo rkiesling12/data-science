{
 "cells": [
  {
   "cell_type": "code",
   "execution_count": 1,
   "metadata": {},
   "outputs": [],
   "source": [
    "import numpy as np\n",
    "import pandas as pd\n",
    "import matplotlib.pyplot as plt\n",
    "import statsmodels as sm\n",
    "from sqlalchemy import create_engine\n",
    "from sklearn.model_selection import train_test_split, cross_val_score\n",
    "from sklearn.metrics import mean_absolute_error\n",
    "from statsmodels.tools.eval_measures import mse, rmse\n",
    "from sklearn.linear_model import LinearRegression, LassoCV, RidgeCV, ElasticNetCV\n",
    "\n",
    "\n",
    "# Display preferences.\n",
    "%matplotlib inline\n",
    "pd.options.display.float_format = '{:.3f}'.format\n",
    "\n",
    "import warnings\n",
    "warnings.filterwarnings(action=\"ignore\")"
   ]
  },
  {
   "cell_type": "code",
   "execution_count": 2,
   "metadata": {},
   "outputs": [],
   "source": [
    "#load data\n",
    "postgres_user = 'dsbc_student'\n",
    "postgres_pw = '7*.8G9QH21'\n",
    "postgres_host = '142.93.121.174'\n",
    "postgres_port = '5432'\n",
    "postgres_db = 'houseprices'\n",
    "\n",
    "engine = create_engine('postgresql://{}:{}@{}:{}/{}'.format(\n",
    "    postgres_user, postgres_pw, postgres_host, postgres_port, postgres_db))\n",
    "house_df = pd.read_sql_query('select * from houseprices',con=engine)\n",
    "\n",
    "# no need for an open connection, as we're only doing a single query\n",
    "engine.dispose()"
   ]
  },
  {
   "cell_type": "code",
   "execution_count": 3,
   "metadata": {},
   "outputs": [],
   "source": [
    "#create dummy variables\n",
    "house_df = pd.concat([house_df,pd.get_dummies(house_df.mszoning, prefix='mszoning', drop_first=True)], axis=1)\n",
    "zoning_column_names = list(pd.get_dummies(house_df.mszoning, prefix='mszoning', drop_first=True).columns)\n",
    "house_df['street_access'] = pd.get_dummies(house_df.street, drop_first=True)\n",
    "house_df['has_AC'] = pd.get_dummies(house_df.centralair, drop_first=True)\n",
    "house_df = pd.concat([house_df,pd.get_dummies(house_df.kitchenqual, prefix='kitchenqual', drop_first=True)], axis=1)\n",
    "kitchen_column_names = list(pd.get_dummies(house_df.kitchenqual, prefix='kitchenqual', drop_first=True).columns)"
   ]
  },
  {
   "cell_type": "code",
   "execution_count": 4,
   "metadata": {},
   "outputs": [
    {
     "name": "stdout",
     "output_type": "stream",
     "text": [
      "R-squared of the model on the training set is: 0.7908179363492478\n",
      "-----Test set statistics-----\n",
      "R-squared of the model on the test set is: 0.8026735994841876\n",
      "Mean absolute error of the prediction is: 23453.890959943325\n",
      "Mean squared error of the prediction is: 1324791060.0518851\n",
      "Root mean squared error of the prediction is: 36397.67932233984\n",
      "Mean absolute percentage error of the prediction is: 14.081455488212924\n"
     ]
    }
   ],
   "source": [
    "#target variable\n",
    "Y = house_df['saleprice']\n",
    "#define feature set\n",
    "X = house_df[['overallqual', 'totalbsmtsf', 'firstflrsf','grlivarea', 'garagecars', 'garagearea', \n",
    "             'street_access', 'has_AC'] + zoning_column_names + kitchen_column_names]\n",
    "#split data\n",
    "X_train, X_test, Y_train, Y_test = train_test_split(X, Y, test_size = 0.2, random_state = 465)\n",
    "\n",
    "#set range of values for alpha\n",
    "alphas = [np.power(10.0,p) for p in np.arange(-10,40,1)]\n",
    "\n",
    "#define linear model\n",
    "linear_model = LinearRegression()\n",
    "linear_model.fit(X_train, Y_train)\n",
    "\n",
    "Y_preds_train = linear_model.predict(X_train)\n",
    "Y_preds_test = linear_model.predict(X_test)\n",
    "\n",
    "print('R-squared of the model on the training set is: {}'.format(linear_model.score(X_train, Y_train)))\n",
    "print('-----Test set statistics-----')\n",
    "print('R-squared of the model on the test set is: {}'.format(linear_model.score(X_test, Y_test)))\n",
    "print('Mean absolute error of the prediction is: {}'.format(mean_absolute_error(Y_test, Y_preds_test)))\n",
    "print('Mean squared error of the prediction is: {}'.format(mse(Y_test, Y_preds_test)))\n",
    "print('Root mean squared error of the prediction is: {}'.format(rmse(Y_test, Y_preds_test)))\n",
    "print('Mean absolute percentage error of the prediction is: {}'.format(np.mean(np.abs((Y_test - Y_preds_test) / Y_test)) * 100))\n"
   ]
  },
  {
   "cell_type": "code",
   "execution_count": 5,
   "metadata": {},
   "outputs": [
    {
     "name": "stdout",
     "output_type": "stream",
     "text": [
      "Best alpha value is: 10.0\n",
      "R-squared of the model on the training set is: 0.79078519415009\n",
      "-----Test set statistics-----\n",
      "R-squared of the model on the test set is: 0.8024034180451981\n",
      "Mean absolute error of the prediction is: 23469.568157030077\n",
      "Mean squared error of the prediction is: 1326604978.2809198\n",
      "Root mean squared error of the prediction is: 36422.58884649634\n",
      "Mean absolute percentage error of the prediction is: 14.066284547586056\n"
     ]
    }
   ],
   "source": [
    "lasso_cv = LassoCV(alphas=alphas, cv=10)\n",
    "\n",
    "lasso_cv.fit(X_train, Y_train)\n",
    "\n",
    "Y_preds_train = lasso_cv.predict(X_train)\n",
    "Y_preds_test = lasso_cv.predict(X_test)\n",
    "\n",
    "print('Best alpha value is: {}'.format(lasso_cv.alpha_))\n",
    "print('R-squared of the model on the training set is: {}'.format(lasso_cv.score(X_train, Y_train)))\n",
    "print('-----Test set statistics-----')\n",
    "print('R-squared of the model on the test set is: {}'.format(lasso_cv.score(X_test, Y_test)))\n",
    "print('Mean absolute error of the prediction is: {}'.format(mean_absolute_error(Y_test, Y_preds_test)))\n",
    "print('Mean squared error of the prediction is: {}'.format(mse(Y_test, Y_preds_test)))\n",
    "print('Root mean squared error of the prediction is: {}'.format(rmse(Y_test, Y_preds_test)))\n",
    "print('Mean absolute percentage error of the prediction is: {}'.format(np.mean(np.abs((Y_test - Y_preds_test) / Y_test)) * 100))\n"
   ]
  },
  {
   "cell_type": "code",
   "execution_count": 6,
   "metadata": {},
   "outputs": [
    {
     "name": "stdout",
     "output_type": "stream",
     "text": [
      "Best alpha value is: 1.0\n",
      "R-squared of the model on the training set is: 0.7907100404281503\n",
      "-----Test set statistics-----\n",
      "R-squared of the model on the test set is: 0.8017750036720747\n",
      "Mean absolute error of the prediction is: 23501.159113276633\n",
      "Mean squared error of the prediction is: 1330823966.4211059\n",
      "Root mean squared error of the prediction is: 36480.460063177736\n",
      "Mean absolute percentage error of the prediction is: 14.094977294436678\n"
     ]
    }
   ],
   "source": [
    "ridge_cv = RidgeCV(alphas=alphas, cv=10)\n",
    "\n",
    "ridge_cv.fit(X_train, Y_train)\n",
    "\n",
    "Y_preds_train = ridge_cv.predict(X_train)\n",
    "Y_preds_test = ridge_cv.predict(X_test)\n",
    "\n",
    "print('Best alpha value is: {}'.format(ridge_cv.alpha_))\n",
    "print('R-squared of the model on the training set is: {}'.format(ridge_cv.score(X_train, Y_train)))\n",
    "print('-----Test set statistics-----')\n",
    "print('R-squared of the model on the test set is: {}'.format(ridge_cv.score(X_test, Y_test)))\n",
    "print('Mean absolute error of the prediction is: {}'.format(mean_absolute_error(Y_test, Y_preds_test)))\n",
    "print('Mean squared error of the prediction is: {}'.format(mse(Y_test, Y_preds_test)))\n",
    "print('Root mean squared error of the prediction is: {}'.format(rmse(Y_test, Y_preds_test)))\n",
    "print('Mean absolute percentage error of the prediction is: {}'.format(np.mean(np.abs((Y_test - Y_preds_test) / Y_test)) * 100))\n"
   ]
  },
  {
   "cell_type": "code",
   "execution_count": 7,
   "metadata": {},
   "outputs": [
    {
     "name": "stdout",
     "output_type": "stream",
     "text": [
      "Best alpha value is: 0.001\n",
      "R-squared of the model on the training set is: 0.7907748533914915\n",
      "-----Test set statistics-----\n",
      "R-squared of the model on the test set is: 0.8021281378950682\n",
      "Mean absolute error of the prediction is: 23483.06259145377\n",
      "Mean squared error of the prediction is: 1328453127.7477336\n",
      "Root mean squared error of the prediction is: 36447.95094031671\n",
      "Mean absolute percentage error of the prediction is: 14.087792369910938\n"
     ]
    }
   ],
   "source": [
    "elastic_net_cv = ElasticNetCV(alphas=alphas, cv=10)\n",
    "\n",
    "elastic_net_cv.fit(X_train, Y_train)\n",
    "\n",
    "Y_preds_train = elastic_net_cv.predict(X_train)\n",
    "Y_preds_test = elastic_net_cv.predict(X_test)\n",
    "\n",
    "print('Best alpha value is: {}'.format(elastic_net_cv.alpha_))\n",
    "print('R-squared of the model on the training set is: {}'.format(elastic_net_cv.score(X_train, Y_train)))\n",
    "print('-----Test set statistics-----')\n",
    "print('R-squared of the model on the test set is: {}'.format(elastic_net_cv.score(X_test, Y_test)))\n",
    "print('Mean absolute error of the prediction is: {}'.format(mean_absolute_error(Y_test, Y_preds_test)))\n",
    "print('Mean squared error of the prediction is: {}'.format(mse(Y_test, Y_preds_test)))\n",
    "print('Root mean squared error of the prediction is: {}'.format(rmse(Y_test, Y_preds_test)))\n",
    "print('Mean absolute percentage error of the prediction is: {}'.format(np.mean(np.abs((Y_test - Y_preds_test) / Y_test)) * 100))\n"
   ]
  },
  {
   "cell_type": "markdown",
   "metadata": {},
   "source": [
    "The OLS model had the highest R-squared value and lowest mean absolute error, so that model had the best performance, although all of the models had a similar level of performance."
   ]
  }
 ],
 "metadata": {
  "kernelspec": {
   "display_name": "Python 3",
   "language": "python",
   "name": "python3"
  },
  "language_info": {
   "codemirror_mode": {
    "name": "ipython",
    "version": 3
   },
   "file_extension": ".py",
   "mimetype": "text/x-python",
   "name": "python",
   "nbconvert_exporter": "python",
   "pygments_lexer": "ipython3",
   "version": "3.7.3"
  }
 },
 "nbformat": 4,
 "nbformat_minor": 2
}
